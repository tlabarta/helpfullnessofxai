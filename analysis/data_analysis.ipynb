{
 "cells": [
  {
   "cell_type": "code",
   "execution_count": 102,
   "outputs": [],
   "source": [
    "import pandas as pd\n",
    "import os"
   ],
   "metadata": {
    "collapsed": false,
    "pycharm": {
     "name": "#%%\n"
    }
   }
  },
  {
   "cell_type": "code",
   "execution_count": 109,
   "outputs": [],
   "source": [
    "# import data\n",
    "# raw questionnaire data\n",
    "qdata = pd.read_csv(\"data_tu-helpfulness-of-xai.csv\", header=0, sep='\\t')\n",
    "# create refactored data\n",
    "\n",
    "data = []\n",
    "rdata = pd.DataFrame(data)\n",
    "column_names = [\"question_id\", \"questionnaire_number\", \"question_number\", \"classification_result\",\"user_decision_yes\",\"user_decision_no\",\"method\",\"model\"]\n",
    "rdata = pd.DataFrame(columns = column_names)"
   ],
   "metadata": {
    "collapsed": false,
    "pycharm": {
     "name": "#%%\n"
    }
   }
  },
  {
   "cell_type": "code",
   "execution_count": 110,
   "outputs": [],
   "source": [
    "# extract feedback (column FB01_01)\n",
    "feedback = qdata[\"FB01_01\"].dropna()\n",
    "feedback.to_csv(\"feedback.csv\")"
   ],
   "metadata": {
    "collapsed": false,
    "pycharm": {
     "name": "#%%\n"
    }
   }
  },
  {
   "cell_type": "code",
   "execution_count": 111,
   "outputs": [],
   "source": [
    "# get question ids\n",
    "q_ids = qdata.columns.values[6:294]\n",
    "rdata[\"question_id\"] = q_ids"
   ],
   "metadata": {
    "collapsed": false,
    "pycharm": {
     "name": "#%%\n"
    }
   }
  },
  {
   "cell_type": "code",
   "execution_count": 112,
   "outputs": [],
   "source": [
    "# fill questionnaire & question ids\n",
    "i = 1\n",
    "j = 1\n",
    "k = 0\n",
    "for i in range(1,13):\n",
    "    for j in range(1,25):\n",
    "        if k > 287:\n",
    "            break\n",
    "        rdata.at[k, 'questionnaire_number'] = i\n",
    "        rdata.at[k, 'question_number'] = j\n",
    "        k += 1\n"
   ],
   "metadata": {
    "collapsed": false,
    "pycharm": {
     "name": "#%%\n"
    }
   }
  },
  {
   "cell_type": "code",
   "execution_count": 113,
   "outputs": [],
   "source": [
    "# fill user answers main part\n",
    "k = 0\n",
    "for i in range(6,294):\n",
    "    yes = (qdata.iloc[:, i] == 1).sum()\n",
    "    no = (qdata.iloc[:, i] == 2).sum()\n",
    "    rdata.at[k, 'user_decision_yes'] = yes\n",
    "    rdata.at[k, 'user_decision_no'] = no\n",
    "    k+=1"
   ],
   "metadata": {
    "collapsed": false,
    "pycharm": {
     "name": "#%%\n"
    }
   }
  },
  {
   "cell_type": "markdown",
   "source": [
    "## Demographic Questions Entschlüsselung:\n",
    "\n",
    "DE02 - Education:\n",
    "1 - Highschool\n",
    "2 - Undergraduate\n",
    "3 - Graduate\n",
    "4 - Postgraduate\n",
    "5 - PhD\n",
    "6 - Other\n",
    "7 - Trade School (ger.: \"Ausbildung\")\n",
    "\n",
    "DE07 - ML Experience\n",
    "1 - Not at all\n",
    "2 - Under 1 year\n",
    "3 - Between 1 and 3 years\n",
    "4 - Between 3 and 5 years\n",
    "5 - More than 5 years\n",
    "\n",
    "DE09 - XAI Experiece\n",
    "1 - Extremely helpful\n",
    "2 - Very helpful\n",
    "3 - Somewhat helpful\n",
    "4 - Not so helpful\n",
    "5 - Not at all helpful\n",
    "\n",
    "DE05 - Visual Impairment\n",
    "1 - yes\n",
    "2 - no"
   ],
   "metadata": {
    "collapsed": false,
    "pycharm": {
     "name": "#%% md\n"
    }
   }
  },
  {
   "cell_type": "code",
   "execution_count": null,
   "outputs": [],
   "source": [
    "# fill user answers demographical questions"
   ],
   "metadata": {
    "collapsed": false,
    "pycharm": {
     "name": "#%%\n"
    }
   }
  },
  {
   "cell_type": "code",
   "execution_count": null,
   "outputs": [],
   "source": [
    "os.remove(\"refactored_data.csv\")\n",
    "rdata.to_csv(\"refactored_data.csv\")"
   ],
   "metadata": {
    "collapsed": false,
    "pycharm": {
     "name": "#%%\n"
    }
   }
  },
  {
   "cell_type": "markdown",
   "source": [
    "## TODO fill the rest"
   ],
   "metadata": {
    "collapsed": false,
    "pycharm": {
     "name": "#%% md\n"
    }
   }
  },
  {
   "cell_type": "code",
   "execution_count": 114,
   "outputs": [],
   "source": [],
   "metadata": {
    "collapsed": false,
    "pycharm": {
     "name": "#%%\n"
    }
   }
  },
  {
   "cell_type": "markdown",
   "source": [],
   "metadata": {
    "collapsed": false,
    "pycharm": {
     "name": "#%% md\n"
    }
   }
  }
 ],
 "metadata": {
  "kernelspec": {
   "display_name": "Python 3",
   "language": "python",
   "name": "python3"
  },
  "language_info": {
   "codemirror_mode": {
    "name": "ipython",
    "version": 2
   },
   "file_extension": ".py",
   "mimetype": "text/x-python",
   "name": "python",
   "nbconvert_exporter": "python",
   "pygments_lexer": "ipython2",
   "version": "2.7.6"
  }
 },
 "nbformat": 4,
 "nbformat_minor": 0
}