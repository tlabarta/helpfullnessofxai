{
 "cells": [
  {
   "cell_type": "code",
   "execution_count": null,
   "id": "2d918547",
   "metadata": {},
   "outputs": [],
   "source": [
    "import matplotlib.pyplot as plt\n",
    "import pandas as pd"
   ]
  },
  {
   "cell_type": "markdown",
   "id": "b2df016d",
   "metadata": {},
   "source": [
    "# Load data"
   ]
  },
  {
   "cell_type": "code",
   "execution_count": null,
   "id": "b089296e",
   "metadata": {},
   "outputs": [],
   "source": [
    "DATA_PATH = \"../data/survey_results/data_tu-helpfulness-of-xai_2022-07-13_13-03.xlsx\"\n",
    "DATA_PREPARED_PATH = f\"{DATA_PATH.rsplit('.',1)[0]}_PREPARED.{DATA_PATH.rsplit('.',1)[1]}\"\n",
    "df = pd.read_excel(DATA_PATH)\n",
    "df_prepared = pd.read_excel(DATA_PREPARED_PATH)\n"
   ]
  },
  {
   "cell_type": "markdown",
   "id": "827050ef",
   "metadata": {},
   "source": [
    "# Demographic questions: Create charts (visual overview)"
   ]
  },
  {
   "cell_type": "code",
   "execution_count": null,
   "id": "38c95ab9",
   "metadata": {},
   "outputs": [],
   "source": [
    "df_prepared = df_prepared.drop_duplicates(subset=[\"case\"]).reset_index(drop=True)"
   ]
  },
  {
   "cell_type": "code",
   "execution_count": null,
   "id": "3243efb7",
   "metadata": {},
   "outputs": [],
   "source": [
    "df_prepared"
   ]
  },
  {
   "cell_type": "code",
   "execution_count": null,
   "id": "37c5b1f7",
   "metadata": {},
   "outputs": [],
   "source": [
    "def func(pct):\n",
    "    return \"{:1.1f}%\".format(pct)"
   ]
  },
  {
   "cell_type": "code",
   "execution_count": null,
   "id": "4233cebc",
   "metadata": {},
   "outputs": [],
   "source": [
    "def my_fmt(x):\n",
    "    print(x)\n",
    "    return '{:.4f}%\\n({:.0f})'.format(x, total*x/100)"
   ]
  },
  {
   "cell_type": "code",
   "execution_count": null,
   "id": "8980760c",
   "metadata": {},
   "outputs": [],
   "source": [
    "def plot_statistics():\n",
    "    fig, ax = plt.subplots(3, 2, figsize=(20, 30))\n",
    "    ax[0][0].pie(autopct=lambda pct: func(pct), labels=df_prepared[\"Education\"].value_counts(dropna=False, normalize=True).index, x=df_prepared[\"Education\"].value_counts(dropna=False, normalize=False), textprops={\"size\": 18})\n",
    "    ax[0][0].set_title(\"Education\", size= 25)\n",
    "    \n",
    "    ax[0][1].pie(autopct=lambda pct: func(pct), labels=df_prepared[\"ML Experience\"].value_counts(dropna=False, normalize=True).index, x=df_prepared[\"ML Experience\"].value_counts(dropna=False, normalize=False), textprops={\"size\": 18})\n",
    "    ax[0][1].set_title(\"ML Experience\", size= 25)\n",
    "    \n",
    "    ax[1][0].pie(autopct=lambda pct: func(pct), labels=df_prepared[\"XAI Experience\"].value_counts(dropna=True, normalize=True).index, x=df_prepared[\"XAI Experience\"].value_counts(dropna=True, normalize=False), textprops={\"size\": 18})\n",
    "    ax[1][0].set_title(\"XAI Experience (Excluding NaN)\", size= 25)\n",
    "    \n",
    "    ax[1][1].pie(autopct=lambda pct: func(pct), labels=df_prepared[\"Color Blindness\"].value_counts(dropna=False, normalize=True).index, x=df_prepared[\"Color Blindness\"].value_counts(dropna=False, normalize=False), textprops={\"size\": 18})\n",
    "    ax[1][1].set_title(\"Color Blindness\", size= 25)\n",
    "    \n",
    "    ax[2][0].pie(autopct=lambda pct: func(pct), labels=df_prepared[\"Visual Impairment Affect\"].value_counts(dropna=True, normalize=True).index, x=df_prepared[\"Visual Impairment Affect\"].value_counts(dropna=True, normalize=False), textprops={\"size\": 18})\n",
    "    ax[2][0].set_title(\"Visual Impairment Affect (Excluding NaN)\", size= 25)\n",
    "    \n",
    "    fig.suptitle(f\"Statistics calculated on a total of {df_prepared.shape[0]} participant\", size=35)"
   ]
  },
  {
   "cell_type": "code",
   "execution_count": null,
   "id": "ed3b2204",
   "metadata": {},
   "outputs": [],
   "source": [
    "plot_statistics()"
   ]
  },
  {
   "cell_type": "markdown",
   "id": "7d94d70d",
   "metadata": {},
   "source": [
    "# Time taken to finish survey\n"
   ]
  },
  {
   "cell_type": "code",
   "execution_count": null,
   "id": "a7fbac9d",
   "metadata": {},
   "outputs": [],
   "source": [
    "df_column_descriptions = df.loc[0]"
   ]
  },
  {
   "cell_type": "code",
   "execution_count": null,
   "id": "a50d57b1",
   "metadata": {},
   "outputs": [],
   "source": [
    "df = df.drop(0)"
   ]
  },
  {
   "cell_type": "code",
   "execution_count": null,
   "id": "67b8d05a",
   "metadata": {},
   "outputs": [],
   "source": [
    "# set dtypes for TIME columns from object to integer\n",
    "df_time = df.astype(dict(zip(df.columns[df.columns.get_loc(\"TIME001\"):df.columns.get_loc(\"TIME001\")+6], [int]*6)))\n",
    "df_time.head()"
   ]
  },
  {
   "cell_type": "code",
   "execution_count": null,
   "id": "6d7546ff",
   "metadata": {},
   "outputs": [],
   "source": [
    "t_time = (df_time.LASTDATA - df_time.STARTED)\n",
    "df_time['timespent'] = t_time.astype(str).map(lambda x: x[7:])\n",
    "df_time['time_in_sec'] =  t_time\n",
    "#df_time.assign(TIMESPENT = t_time)"
   ]
  },
  {
   "cell_type": "code",
   "execution_count": null,
   "id": "6d3b4f15",
   "metadata": {},
   "outputs": [],
   "source": [
    "df_time = df_time.groupby('CASE')['timespent'].apply(list)\n",
    "df_time"
   ]
  },
  {
   "cell_type": "code",
   "execution_count": null,
   "id": "65c78219",
   "metadata": {},
   "outputs": [],
   "source": [
    "for i in df_time:\n",
    "    print(i)"
   ]
  },
  {
   "cell_type": "code",
   "execution_count": null,
   "id": "781f88de",
   "metadata": {},
   "outputs": [],
   "source": [
    "# guess time is meassured in seconds\n",
    "df.iloc[:, df.columns.get_loc(\"TIME001\"):df.columns.get_loc(\"TIME001\")+6].boxplot(showfliers=False)"
   ]
  },
  {
   "cell_type": "code",
   "execution_count": null,
   "id": "b8c9a739",
   "metadata": {},
   "outputs": [],
   "source": [
    "df.iloc[:, df.columns.get_loc(\"TIME001\"):df.columns.get_loc(\"TIME001\")+6].describe()"
   ]
  },
  {
   "cell_type": "code",
   "execution_count": null,
   "id": "ea7ac27c",
   "metadata": {},
   "outputs": [],
   "source": [
    "# time 004 and time 005 sound unrealistic\n",
    "# nur auf der seite drei schauen \n",
    "# untere drei prozent auf ganze weg;"
   ]
  },
  {
   "cell_type": "markdown",
   "id": "ecce42c1",
   "metadata": {},
   "source": [
    "# Amount of same clicked answers"
   ]
  },
  {
   "cell_type": "code",
   "execution_count": null,
   "id": "c3e8130f",
   "metadata": {},
   "outputs": [],
   "source": [
    "DATA_PATH = \"../data/survey_results/data_tu-helpfulness-of-xai_2022-06-29_10-48.xlsx\"\n",
    "DATA_PREPARED_PATH = f\"{DATA_PATH.rsplit('.',1)[0]}_PREPARED.{DATA_PATH.rsplit('.',1)[1]}\"\n",
    "df = pd.read_excel(DATA_PATH)\n",
    "df= pd.read_excel(DATA_PREPARED_PATH)\n",
    "\n",
    "df.head()"
   ]
  },
  {
   "cell_type": "code",
   "execution_count": null,
   "id": "8d1fbda5",
   "metadata": {},
   "outputs": [],
   "source": [
    "# more TRUE than FALSE (more people trust XAI?)\n",
    "\n",
    "df['response'].value_counts()\n",
    "\n",
    "  "
   ]
  },
  {
   "cell_type": "code",
   "execution_count": null,
   "id": "9f4d02e8",
   "metadata": {},
   "outputs": [],
   "source": [
    "# check for all true/all false\n",
    "\n",
    "df_check = df.groupby('case')['response'].apply(list)\n",
    "df_check"
   ]
  },
  {
   "cell_type": "code",
   "execution_count": null,
   "id": "5e93692d",
   "metadata": {},
   "outputs": [],
   "source": [
    "def all_equal(iterator):\n",
    "\n",
    "    iterator = iter(iterator)\n",
    "    try:\n",
    "        first = next(iterator)\n",
    "    except StopIteration:\n",
    "        return True\n",
    "    return all(first == x for x in iterator)\n",
    "\n",
    "# no all true/ all false\n",
    "\n",
    "all_equal(df_check)"
   ]
  },
  {
   "cell_type": "code",
   "execution_count": null,
   "id": "75bdace5",
   "metadata": {},
   "outputs": [],
   "source": [
    "df"
   ]
  },
  {
   "cell_type": "code",
   "execution_count": null,
   "id": "4f561a48",
   "metadata": {},
   "outputs": [],
   "source": []
  }
 ],
 "metadata": {
  "interpreter": {
   "hash": "4621cef83e04d1d5699d95f183f7fdcae51c5e7e1103d9da115b86e3a17f15bc"
  },
  "kernelspec": {
   "display_name": "Python 3 (ipykernel)",
   "language": "python",
   "name": "python3"
  },
  "language_info": {
   "codemirror_mode": {
    "name": "ipython",
    "version": 3
   },
   "file_extension": ".py",
   "mimetype": "text/x-python",
   "name": "python",
   "nbconvert_exporter": "python",
   "pygments_lexer": "ipython3",
   "version": "3.8.13"
  }
 },
 "nbformat": 4,
 "nbformat_minor": 5
}