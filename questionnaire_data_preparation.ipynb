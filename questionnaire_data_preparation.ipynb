{
 "cells": [
  {
   "cell_type": "code",
   "execution_count": 2,
   "id": "9eb9ef7a",
   "metadata": {
    "scrolled": false
   },
   "outputs": [
    {
     "name": "stderr",
     "output_type": "stream",
     "text": [
      "/Users/julianvonklitzing/opt/anaconda3/envs/xai_env/lib/python3.7/site-packages/tqdm/auto.py:22: TqdmWarning: IProgress not found. Please update jupyter and ipywidgets. See https://ipywidgets.readthedocs.io/en/stable/user_install.html\n",
      "  from .autonotebook import tqdm as notebook_tqdm\n",
      "\n",
      "Bad key \"text.kerning_factor\" on line 4 in\n",
      "/Users/julianvonklitzing/opt/anaconda3/envs/xai_env/lib/python3.7/site-packages/matplotlib/mpl-data/stylelib/_classic_test_patch.mplstyle.\n",
      "You probably need to get an updated matplotlibrc file from\n",
      "https://github.com/matplotlib/matplotlib/blob/v3.1.3/matplotlibrc.template\n",
      "or from the matplotlib source distribution\n"
     ]
    }
   ],
   "source": [
    "import pandas as pd\n",
    "import numpy as np\n",
    "from methods import data_handler\n",
    "from tqdm import tqdm\n",
    "import matplotlib.pyplot as plt\n",
    "\n",
    "from torchvision import datasets\n",
    "import os\n",
    "from itertools import chain, product"
   ]
  },
  {
   "cell_type": "markdown",
   "id": "db6bd947",
   "metadata": {},
   "source": [
    "This Notebook will save two Excel files with the following content:\n",
    "1. Question meta data (question code, img_idx, img_label, model, xai, outcome)\n",
    "2. The transformed long-format version of the SoSci data specified in DATA_PATH"
   ]
  },
  {
   "cell_type": "markdown",
   "id": "2afde216",
   "metadata": {},
   "source": [
    "# Data preparation"
   ]
  },
  {
   "cell_type": "markdown",
   "id": "ff9d5f67",
   "metadata": {},
   "source": [
    "## Read questionnaire information from picking procedure"
   ]
  },
  {
   "cell_type": "code",
   "execution_count": 3,
   "id": "1f3b0da2",
   "metadata": {},
   "outputs": [
    {
     "name": "stdout",
     "output_type": "stream",
     "text": [
      "Using downloaded and verified file: ./data/imagenet_class_index.json\n"
     ]
    }
   ],
   "source": [
    "questionnaires = data_handler.get_questionaires(\"data2/questionaires_shuffled.pickle\")\n",
    "labels = data_handler.get_labels()"
   ]
  },
  {
   "cell_type": "code",
   "execution_count": 4,
   "id": "b6640676",
   "metadata": {},
   "outputs": [],
   "source": [
    "def get_label_from_img_idx(img_idx, testset_path, labels):    \n",
    "    img_folder = datasets.ImageFolder(root=testset_path)\n",
    "    img_path = img_folder.imgs[img_idx][0]\n",
    "    img_name = img_path.split(os.sep)[-1]\n",
    "    # extract correct class\n",
    "    class_idx_true_str = img_path.split(os.sep)[-2]\n",
    "    img_label_true = labels[class_idx_true_str][1]\n",
    "    return img_label_true"
   ]
  },
  {
   "cell_type": "code",
   "execution_count": 5,
   "id": "aea9a876",
   "metadata": {},
   "outputs": [
    {
     "name": "stderr",
     "output_type": "stream",
     "text": [
      "100%|███████████████████████████████████████████| 12/12 [00:36<00:00,  3.08s/it]\n"
     ]
    }
   ],
   "source": [
    "# enrich questionnaire data with image label names\n",
    "questionnaires_2 = []\n",
    "for questionnaire in tqdm(questionnaires):\n",
    "    questionnaire_2 = []\n",
    "    for question in questionnaire:\n",
    "        label = get_label_from_img_idx(question[0], \"data2/imagenetv2-matched-frequency-format-val\", labels)\n",
    "        question_labled = (label, ) + question        \n",
    "        questionnaire_2.append(question_labled)\n",
    "    questionnaires_2.append(questionnaire_2) "
   ]
  },
  {
   "cell_type": "markdown",
   "id": "f5be42d6",
   "metadata": {},
   "source": [
    "## Load question codes used in SoSci"
   ]
  },
  {
   "cell_type": "code",
   "execution_count": 6,
   "id": "6700944c",
   "metadata": {},
   "outputs": [],
   "source": [
    "codes_list = []\n",
    "for i in range(1, 12+1):\n",
    "    codes = pd.read_csv(f\"questionaires_shuffle_order/questionaire_{i}.txt\", sep=\";\", names=[0, 1])[1]\n",
    "    codes = codes.str.extract(\"(\\w\\d{3})\")\n",
    "    codes = list(codes[0])\n",
    "    codes_list.append(codes)"
   ]
  },
  {
   "cell_type": "markdown",
   "id": "a5ee37a8",
   "metadata": {},
   "source": [
    "## Create questions meta data df"
   ]
  },
  {
   "cell_type": "code",
   "execution_count": 7,
   "id": "2d5444db",
   "metadata": {},
   "outputs": [],
   "source": [
    "df_quest_meta = pd.DataFrame(list(chain(*questionnaires_2)))\n",
    "df_quest_meta[5] = list(chain(*codes_list))\n",
    "df_quest_meta.columns = [\"label\", \"img_idx\", \"model\", \"method\", \"is_pred_correct\", \"question_code\"]"
   ]
  },
  {
   "cell_type": "code",
   "execution_count": 8,
   "id": "3ecf8b97",
   "metadata": {
    "scrolled": true
   },
   "outputs": [
    {
     "data": {
      "text/html": [
       "<div>\n",
       "<style scoped>\n",
       "    .dataframe tbody tr th:only-of-type {\n",
       "        vertical-align: middle;\n",
       "    }\n",
       "\n",
       "    .dataframe tbody tr th {\n",
       "        vertical-align: top;\n",
       "    }\n",
       "\n",
       "    .dataframe thead th {\n",
       "        text-align: right;\n",
       "    }\n",
       "</style>\n",
       "<table border=\"1\" class=\"dataframe\">\n",
       "  <thead>\n",
       "    <tr style=\"text-align: right;\">\n",
       "      <th></th>\n",
       "      <th>label</th>\n",
       "      <th>img_idx</th>\n",
       "      <th>model</th>\n",
       "      <th>method</th>\n",
       "      <th>is_pred_correct</th>\n",
       "      <th>question_code</th>\n",
       "    </tr>\n",
       "  </thead>\n",
       "  <tbody>\n",
       "    <tr>\n",
       "      <th>0</th>\n",
       "      <td>custard_apple</td>\n",
       "      <td>9521</td>\n",
       "      <td>vgg</td>\n",
       "      <td>LRP</td>\n",
       "      <td>True</td>\n",
       "      <td>B108</td>\n",
       "    </tr>\n",
       "    <tr>\n",
       "      <th>1</th>\n",
       "      <td>Boston_bull</td>\n",
       "      <td>1073</td>\n",
       "      <td>vgg</td>\n",
       "      <td>SHAP</td>\n",
       "      <td>True</td>\n",
       "      <td>B111</td>\n",
       "    </tr>\n",
       "    <tr>\n",
       "      <th>2</th>\n",
       "      <td>toilet_tissue</td>\n",
       "      <td>9992</td>\n",
       "      <td>alex</td>\n",
       "      <td>IntegratedGradients</td>\n",
       "      <td>False</td>\n",
       "      <td>B118</td>\n",
       "    </tr>\n",
       "    <tr>\n",
       "      <th>3</th>\n",
       "      <td>gas_pump</td>\n",
       "      <td>5253</td>\n",
       "      <td>vgg</td>\n",
       "      <td>ConfidenceScores</td>\n",
       "      <td>False</td>\n",
       "      <td>B123</td>\n",
       "    </tr>\n",
       "    <tr>\n",
       "      <th>4</th>\n",
       "      <td>mailbag</td>\n",
       "      <td>5976</td>\n",
       "      <td>vgg</td>\n",
       "      <td>IntegratedGradients</td>\n",
       "      <td>False</td>\n",
       "      <td>B124</td>\n",
       "    </tr>\n",
       "    <tr>\n",
       "      <th>...</th>\n",
       "      <td>...</td>\n",
       "      <td>...</td>\n",
       "      <td>...</td>\n",
       "      <td>...</td>\n",
       "      <td>...</td>\n",
       "      <td>...</td>\n",
       "    </tr>\n",
       "    <tr>\n",
       "      <th>283</th>\n",
       "      <td>custard_apple</td>\n",
       "      <td>9521</td>\n",
       "      <td>vgg</td>\n",
       "      <td>gradCAM</td>\n",
       "      <td>True</td>\n",
       "      <td>C307</td>\n",
       "    </tr>\n",
       "    <tr>\n",
       "      <th>284</th>\n",
       "      <td>coral_reef</td>\n",
       "      <td>9710</td>\n",
       "      <td>alex</td>\n",
       "      <td>gradCAM</td>\n",
       "      <td>True</td>\n",
       "      <td>C302</td>\n",
       "    </tr>\n",
       "    <tr>\n",
       "      <th>285</th>\n",
       "      <td>black_grouse</td>\n",
       "      <td>7798</td>\n",
       "      <td>alex</td>\n",
       "      <td>LRP</td>\n",
       "      <td>False</td>\n",
       "      <td>C319</td>\n",
       "    </tr>\n",
       "    <tr>\n",
       "      <th>286</th>\n",
       "      <td>steel_arch_bridge</td>\n",
       "      <td>8034</td>\n",
       "      <td>alex</td>\n",
       "      <td>SHAP</td>\n",
       "      <td>True</td>\n",
       "      <td>C317</td>\n",
       "    </tr>\n",
       "    <tr>\n",
       "      <th>287</th>\n",
       "      <td>slot</td>\n",
       "      <td>7808</td>\n",
       "      <td>alex</td>\n",
       "      <td>ConfidenceScores</td>\n",
       "      <td>False</td>\n",
       "      <td>C316</td>\n",
       "    </tr>\n",
       "  </tbody>\n",
       "</table>\n",
       "<p>288 rows × 6 columns</p>\n",
       "</div>"
      ],
      "text/plain": [
       "                 label  img_idx model               method  is_pred_correct  \\\n",
       "0        custard_apple     9521   vgg                  LRP             True   \n",
       "1          Boston_bull     1073   vgg                 SHAP             True   \n",
       "2        toilet_tissue     9992  alex  IntegratedGradients            False   \n",
       "3             gas_pump     5253   vgg     ConfidenceScores            False   \n",
       "4              mailbag     5976   vgg  IntegratedGradients            False   \n",
       "..                 ...      ...   ...                  ...              ...   \n",
       "283      custard_apple     9521   vgg              gradCAM             True   \n",
       "284         coral_reef     9710  alex              gradCAM             True   \n",
       "285       black_grouse     7798  alex                  LRP            False   \n",
       "286  steel_arch_bridge     8034  alex                 SHAP             True   \n",
       "287               slot     7808  alex     ConfidenceScores            False   \n",
       "\n",
       "    question_code  \n",
       "0            B108  \n",
       "1            B111  \n",
       "2            B118  \n",
       "3            B123  \n",
       "4            B124  \n",
       "..            ...  \n",
       "283          C307  \n",
       "284          C302  \n",
       "285          C319  \n",
       "286          C317  \n",
       "287          C316  \n",
       "\n",
       "[288 rows x 6 columns]"
      ]
     },
     "execution_count": 8,
     "metadata": {},
     "output_type": "execute_result"
    }
   ],
   "source": [
    "df_quest_meta"
   ]
  },
  {
   "cell_type": "markdown",
   "id": "005ca4bb",
   "metadata": {},
   "source": [
    "## Load and transform questionnaire data"
   ]
  },
  {
   "cell_type": "code",
   "execution_count": 10,
   "id": "c627e2ff",
   "metadata": {},
   "outputs": [],
   "source": [
    "DATA_PATH = \"data2/data_tu-helpfulness-of-xai_2022-06-29_10-48.xlsx\"\n",
    "ANSER_CODES_PATH = \"data2/values_tu-helpfulness-of-xai_2022-06-28_11-48.csv\"\n",
    "df = pd.read_excel(DATA_PATH)\n",
    "df_answer_codes = pd.read_csv(ANSER_CODES_PATH, sep='\\t', encoding='utf-16').set_index([\"VAR\", \"RESPONSE\"])"
   ]
  },
  {
   "cell_type": "code",
   "execution_count": 11,
   "id": "439ef7bc",
   "metadata": {},
   "outputs": [],
   "source": [
    "def map_answer_codes_to_textual(s, df_answer_codes):\n",
    "    def map_(s_name, e, df_answer_codes):\n",
    "        try:\n",
    "            return df_answer_codes.loc[s_name, e][\"MEANING\"]\n",
    "        except:\n",
    "            \n",
    "            return e\n",
    "    try:\n",
    "        return s.apply(lambda e: map_(s.name, e, df_answer_codes))\n",
    "    except:\n",
    "        print(\"Error in mapping column\", s.name)\n",
    "        return s"
   ]
  },
  {
   "cell_type": "code",
   "execution_count": 12,
   "id": "3221b4fc",
   "metadata": {},
   "outputs": [],
   "source": [
    "def convert_q_data_from_wide_to_long(df):\n",
    "    column_names_demographic = list(df[df.columns[df.columns.get_loc(\"DE02\"):df.columns.get_loc(\"FB01_01\")+1]].loc[0])\n",
    "    #delete column descriptions\n",
    "    df = df.drop(0)    \n",
    "    df_long = pd.melt(df, id_vars=\"CASE\", value_vars=df.columns.values[6:294]).dropna()\n",
    "    df_long.columns = [\"case\", \"question_code\", \"response\"]\n",
    "    df_long = df_long.sort_values(\"case\", )\n",
    "    # map response 1(Yes)/2(No) values to True/False\n",
    "    df_long[\"response\"] = df_long[\"response\"].apply(lambda x: True if x==1 else False)\n",
    "    df_long = df_long.reset_index(drop=True)\n",
    "    \n",
    "    df_demo = df[df.columns[df.columns.get_loc(\"DE02\"):df.columns.get_loc(\"FB01_01\")+1]]\n",
    "    df_demo = df_demo.apply(lambda s: map_answer_codes_to_textual(s, df_answer_codes))\n",
    "    df_demo.columns = column_names_demographic\n",
    "    num_questions = 24\n",
    "    df_demo = df_demo.apply(lambda s: s.repeat(num_questions)).reset_index(drop=True) \n",
    "    df_long = pd.concat([df_long[\"case\"], df_demo, df_long[df_long.columns[1:]]], axis=1)\n",
    "    \n",
    "    return df_long"
   ]
  },
  {
   "cell_type": "code",
   "execution_count": 13,
   "id": "531db118",
   "metadata": {},
   "outputs": [],
   "source": [
    "df_long = convert_q_data_from_wide_to_long(df)"
   ]
  },
  {
   "cell_type": "code",
   "execution_count": 14,
   "id": "ee25f0e8",
   "metadata": {},
   "outputs": [],
   "source": [
    "df_merged = df_long.merge(right=df_quest_meta)\n",
    "df_merged = df_merged.sort_values(\"case\")"
   ]
  },
  {
   "cell_type": "markdown",
   "id": "45931c03",
   "metadata": {},
   "source": [
    "## Save question meta data & prepared data to file"
   ]
  },
  {
   "cell_type": "code",
   "execution_count": 15,
   "id": "5a7d2cde",
   "metadata": {},
   "outputs": [],
   "source": [
    "df_quest_meta.to_excel(\"data2/question_meta_data.xlsx\")"
   ]
  },
  {
   "cell_type": "code",
   "execution_count": 16,
   "id": "892c58b6",
   "metadata": {},
   "outputs": [],
   "source": [
    "data_format = DATA_PATH.split(\".\")[-1]\n",
    "filenname = f\"{DATA_PATH.split(os.sep)[-1].split('.')[0]}_PREPARED.{data_format}\"\n",
    "OUTPUT_PATH = f\"data2/{filenname}\"\n",
    "df_merged.to_excel(OUTPUT_PATH)"
   ]
  },
  {
   "cell_type": "code",
   "execution_count": null,
   "id": "8927fd94",
   "metadata": {},
   "outputs": [],
   "source": []
  }
 ],
 "metadata": {
  "kernelspec": {
   "display_name": "Python 3 (ipykernel)",
   "language": "python",
   "name": "python3"
  },
  "language_info": {
   "codemirror_mode": {
    "name": "ipython",
    "version": 3
   },
   "file_extension": ".py",
   "mimetype": "text/x-python",
   "name": "python",
   "nbconvert_exporter": "python",
   "pygments_lexer": "ipython3",
   "version": "3.7.12"
  }
 },
 "nbformat": 4,
 "nbformat_minor": 5
}
