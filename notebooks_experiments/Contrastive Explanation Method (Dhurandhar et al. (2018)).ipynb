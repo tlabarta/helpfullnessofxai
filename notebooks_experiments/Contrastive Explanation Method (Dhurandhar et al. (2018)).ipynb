{
 "cells": [
  {
   "cell_type": "code",
   "execution_count": 1,
   "id": "51eb5398",
   "metadata": {},
   "outputs": [],
   "source": [
    "from tensorflow_model import train, load_image, predict\n",
    "import Contrastive_Explanation_Method_master.Utils as utils\n",
    "from Contrastive_Explanation_Method_master.aen_CEM import AEADEN\n",
    "import random\n",
    "import tensorflow as tf\n",
    "import numpy as np\n",
    "from dataset_handler import DatasetHandler\n",
    "from tqdm import tqdm\n",
    "import os"
   ]
  },
  {
   "cell_type": "markdown",
   "id": "2ebd7a17",
   "metadata": {},
   "source": [
    "# 1. Load pretrained model"
   ]
  },
  {
   "cell_type": "code",
   "execution_count": 2,
   "id": "045dc90c",
   "metadata": {},
   "outputs": [],
   "source": [
    "model = tf.keras.applications.VGG16(\n",
    "    include_top=True,\n",
    "    weights='imagenet',\n",
    "    input_tensor=None,\n",
    "    input_shape=None,\n",
    "    pooling=None,\n",
    "    classes=1000\n",
    ")"
   ]
  },
  {
   "cell_type": "markdown",
   "id": "5de712bf",
   "metadata": {},
   "source": [
    "# 2. Predict with pretrained model"
   ]
  },
  {
   "cell_type": "code",
   "execution_count": 3,
   "id": "ce566897",
   "metadata": {},
   "outputs": [
    {
     "name": "stdout",
     "output_type": "stream",
     "text": [
      "(224, 224, 3)\n",
      "(1, 224, 224, 3)\n",
      "WARNING:tensorflow:AutoGraph could not transform <function Model.make_predict_function.<locals>.predict_function at 0x000001D165A84E58> and will run it as-is.\n",
      "Please report this to the TensorFlow team. When filing the bug, set the verbosity to 10 (on Linux, `export AUTOGRAPH_VERBOSITY=10`) and attach the full output.\n",
      "Cause: 'arguments' object has no attribute 'posonlyargs'\n",
      "To silence this warning, decorate the function with @tf.autograph.experimental.do_not_convert\n",
      "WARNING: AutoGraph could not transform <function Model.make_predict_function.<locals>.predict_function at 0x000001D165A84E58> and will run it as-is.\n",
      "Please report this to the TensorFlow team. When filing the bug, set the verbosity to 10 (on Linux, `export AUTOGRAPH_VERBOSITY=10`) and attach the full output.\n",
      "Cause: 'arguments' object has no attribute 'posonlyargs'\n",
      "To silence this warning, decorate the function with @tf.autograph.experimental.do_not_convert\n",
      "Predicted: [('n02111889', 'Samoyed', 0.15781632), ('n02120079', 'Arctic_fox', 0.0915366), ('n02098286', 'West_Highland_white_terrier', 0.03576578)]\n"
     ]
    }
   ],
   "source": [
    "# auffällig: Prediction ist deutlich unsicher als über PyTorch oder über Tensorflow 2.0 Model\n",
    "# Wurden hier vielleicht einfach noch nicht die Wahrscheinlichkeiten normalisiert?\n",
    "img = load_image(\"dog.jpg\")\n",
    "preds = predict(model, img)"
   ]
  },
  {
   "cell_type": "markdown",
   "id": "8a00ccf2",
   "metadata": {},
   "source": [
    "# 3. CEM"
   ]
  },
  {
   "cell_type": "code",
   "execution_count": 4,
   "id": "5aaa48e8",
   "metadata": {},
   "outputs": [],
   "source": [
    "### Probleme:\n",
    "\n",
    "# VGG laden -> tf 2  --> vielleicht musste nur zusätzlich zu tf auch keras in version 1.15 installiert werden, damit klappt\n",
    "# CEM Implementierung -> tf 1"
   ]
  },
  {
   "cell_type": "code",
   "execution_count": 5,
   "id": "be86e964",
   "metadata": {},
   "outputs": [],
   "source": [
    "# Model class for the use in __init__ of AEDM() inspiried by class MNISTModel\n",
    "class Model():\n",
    "    \n",
    "    def __init__(self, model, image_size, num_channels, num_labels):\n",
    "        self.model = model\n",
    "        self.image_size = image_size\n",
    "        self.num_channels = num_channels\n",
    "        self.num_labels = num_labels\n",
    "        \n",
    "    def predict(self, data):\n",
    "        return self.model(data)"
   ]
  },
  {
   "cell_type": "code",
   "execution_count": 6,
   "id": "563a6c50",
   "metadata": {},
   "outputs": [],
   "source": [
    "# Data class for the use of utils.generate_data\n",
    "class Data():\n",
    "    def __init__(self, test_data, test_labels):\n",
    "        self.test_data = test_data\n",
    "        self.test_labels = test_labels"
   ]
  },
  {
   "cell_type": "code",
   "execution_count": 7,
   "id": "4e87e279",
   "metadata": {},
   "outputs": [],
   "source": [
    "# define data\n",
    "test_data = np.expand_dims(img, axis=0)\n",
    "target_label = preds.argmax()\n",
    "test_labels = np.expand_dims(np.eye(1000)[target_label], axis=0)\n",
    "image_id = 0\n",
    "\n",
    "\n",
    "data = Data(test_data, test_labels)"
   ]
  },
  {
   "cell_type": "code",
   "execution_count": 8,
   "id": "4f7127ae",
   "metadata": {},
   "outputs": [],
   "source": [
    "# define paramters (was ist arg_b??)\n",
    "arg_max_iter = 5\n",
    "arg_b = 1 # binary_search_steps\n",
    "arg_init_const = 0.1\n",
    "arg_mode = \"PP\"\n",
    "arg_kappa = 10\n",
    "arg_beta = 0.1\n",
    "arg_gamma = 0"
   ]
  },
  {
   "cell_type": "code",
   "execution_count": 9,
   "id": "82614c9f",
   "metadata": {},
   "outputs": [
    {
     "ename": "AttributeError",
     "evalue": "module 'tensorflow' has no attribute 'Session'",
     "output_type": "error",
     "traceback": [
      "\u001b[1;31m---------------------------------------------------------------------------\u001b[0m",
      "\u001b[1;31mAttributeError\u001b[0m                            Traceback (most recent call last)",
      "\u001b[1;32m~\\AppData\\Local\\Temp\\ipykernel_6544\\728141557.py\u001b[0m in \u001b[0;36m<module>\u001b[1;34m\u001b[0m\n\u001b[1;32m----> 1\u001b[1;33m \u001b[1;32mwith\u001b[0m \u001b[0mtf\u001b[0m\u001b[1;33m.\u001b[0m\u001b[0mSession\u001b[0m\u001b[1;33m(\u001b[0m\u001b[1;33m)\u001b[0m \u001b[1;32mas\u001b[0m \u001b[0msess\u001b[0m\u001b[1;33m:\u001b[0m\u001b[1;33m\u001b[0m\u001b[1;33m\u001b[0m\u001b[0m\n\u001b[0m\u001b[0;32m      2\u001b[0m     \u001b[1;31m# load model after creating Session\u001b[0m\u001b[1;33m\u001b[0m\u001b[1;33m\u001b[0m\u001b[1;33m\u001b[0m\u001b[0m\n\u001b[0;32m      3\u001b[0m     model_vgg = tf.keras.applications.VGG16(\n\u001b[0;32m      4\u001b[0m     \u001b[0minclude_top\u001b[0m\u001b[1;33m=\u001b[0m\u001b[1;32mTrue\u001b[0m\u001b[1;33m,\u001b[0m\u001b[1;33m\u001b[0m\u001b[1;33m\u001b[0m\u001b[0m\n\u001b[0;32m      5\u001b[0m     \u001b[0mweights\u001b[0m\u001b[1;33m=\u001b[0m\u001b[1;34m'imagenet'\u001b[0m\u001b[1;33m,\u001b[0m\u001b[1;33m\u001b[0m\u001b[1;33m\u001b[0m\u001b[0m\n",
      "\u001b[1;31mAttributeError\u001b[0m: module 'tensorflow' has no attribute 'Session'"
     ]
    }
   ],
   "source": [
    "with tf.Session() as sess:\n",
    "    # load model after creating Session\n",
    "    model_vgg = tf.keras.applications.VGG16(\n",
    "    include_top=True,\n",
    "    weights='imagenet',\n",
    "    input_tensor=None,\n",
    "    input_shape=None,\n",
    "    pooling=None,\n",
    "    classes=1000\n",
    "    )\n",
    "    \n",
    "    model = Model(model=model_vgg, image_size=224, num_channels=3, num_labels=1000)\n",
    "\n",
    "    random.seed(121)\n",
    "    np.random.seed(1211)\n",
    "    orig_prob, orig_class, orig_prob_str = utils.model_prediction(model, np.expand_dims(img, axis=0))\n",
    "    target_label = orig_class\n",
    "    print(\"Image:{}, infer label:{}\".format(image_id, target_label))\n",
    "    \n",
    "    \n",
    "    orig_img, target = utils.generate_data(data, image_id, target_label)\n",
    "    \n",
    "\n",
    "\n",
    "    attack = AEADEN(sess, model, mode = arg_mode, AE = lambda x: x, batch_size=1, kappa=arg_kappa, init_learning_rate=1e-2,\n",
    "        binary_search_steps=arg_b, max_iterations=arg_max_iter, initial_const=arg_init_const, beta=arg_beta, gamma=arg_gamma)\n",
    "\n",
    "    adv_img = attack.attack(orig_img, target)\n",
    "\n",
    "    adv_prob, adv_class, adv_prob_str = utils.model_prediction(model, adv_img)\n",
    "    delta_prob, delta_class, delta_prob_str = utils.model_prediction(model, orig_img-adv_img)\n",
    "\n",
    "    INFO = \"[INFO]id:{}, kappa:{}, Orig class:{}, Adv class:{}, Delta class: {}, Orig prob:{}, Adv prob:{}, Delta prob:{}\".format(image_id, arg_kappa, orig_class, adv_class, delta_class, orig_prob_str, adv_prob_str, delta_prob_str)\n",
    "    print(INFO)\n",
    "\n",
    "    suffix = \"id{}_kappa{}_Orig{}_Adv{}_Delta{}\".format(image_id, arg_kappa, orig_class, adv_class, delta_class)\n",
    "    arg_save_dir = \"{}_ID{}_Gamma_{}\".format(arg_mode, image_id, arg_gamma)\n",
    "    os.system(\"mkdir -p Results/{}\".format(arg_save_dir))\n",
    "    utils.save_img(orig_img, \"Results/{}/Orig_original{}.png\".format(arg_save_dir, orig_class))\n",
    "    utils.save_img(adv_img, \"Results/{}/Adv_{}.png\".format(arg_save_dir, suffix))\n",
    "    utils.save_img(np.absolute(orig_img-adv_img)-0.5, \"Results/{}/Delta_{}.png\".format(arg_save_dir, suffix))\n",
    "\n",
    "    sys.stdout.flush()"
   ]
  },
  {
   "cell_type": "code",
   "execution_count": null,
   "id": "da690ac6",
   "metadata": {},
   "outputs": [],
   "source": []
  }
 ],
 "metadata": {
  "kernelspec": {
   "display_name": "Python 3 (ipykernel)",
   "language": "python",
   "name": "python3"
  },
  "language_info": {
   "codemirror_mode": {
    "name": "ipython",
    "version": 3
   },
   "file_extension": ".py",
   "mimetype": "text/x-python",
   "name": "python",
   "nbconvert_exporter": "python",
   "pygments_lexer": "ipython3",
   "version": "3.7.13"
  }
 },
 "nbformat": 4,
 "nbformat_minor": 5
}
