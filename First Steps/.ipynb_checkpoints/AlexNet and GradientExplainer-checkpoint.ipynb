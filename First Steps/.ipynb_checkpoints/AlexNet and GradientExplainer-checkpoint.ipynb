{
 "cells": [
  {
   "cell_type": "code",
   "execution_count": 39,
   "id": "580d3a60",
   "metadata": {
    "pycharm": {
     "name": "#%%\n"
    }
   },
   "outputs": [],
   "source": [
    "    #Source: https://github.com/slundberg/shap/blob/master/notebooks/image_examples/image_classification/Explain%20an%20Intermediate%20Layer%20of%20VGG16%20on%20ImageNet%20(PyTorch).ipynb\n",
    "    import torch, torchvision\n",
    "    from torch import nn\n",
    "    from torchvision import transforms, models, datasets\n",
    "    import shap\n",
    "    import json\n",
    "    import numpy as np\n",
    "    import random"
   ]
  },
  {
   "cell_type": "code",
   "execution_count": 40,
   "id": "db8cf6da",
   "metadata": {
    "pycharm": {
     "name": "#%%\n"
    }
   },
   "outputs": [],
   "source": [
    "mean = [0.485, 0.456, 0.406]\n",
    "std = [0.229, 0.224, 0.225]\n",
    "\n",
    "def normalize(image):\n",
    "    if image.max() > 1:\n",
    "        image /= 255\n",
    "    image = (image - mean) / std\n",
    "    # in addition, roll the axis so that they suit pytorch\n",
    "    return torch.tensor(image.swapaxes(-1, 1).swapaxes(2, 3)).float()"
   ]
  },
  {
   "cell_type": "code",
   "execution_count": 41,
   "id": "d54b7bcc",
   "metadata": {
    "pycharm": {
     "name": "#%%\n"
    }
   },
   "outputs": [],
   "source": [
    "# load the model\n",
    "model = models.alexnet(pretrained=True).eval()"
   ]
  },
  {
   "cell_type": "code",
   "execution_count": 42,
   "id": "52af9e52",
   "metadata": {
    "pycharm": {
     "name": "#%%\n"
    }
   },
   "outputs": [],
   "source": [
    "# Import ImageNet Dataset and transform values\n",
    "X,y = shap.datasets.imagenet50()\n",
    "X /= 255\n",
    "\n",
    "# Select some random ImageNet Pictures from Shap Dataset\n",
    "picture_index = random.sample(range(0,50),2)\n",
    "\n",
    "to_explain = X[picture_index]"
   ]
  },
  {
   "cell_type": "code",
   "execution_count": null,
   "id": "f6aec399",
   "metadata": {},
   "outputs": [],
   "source": [
    "# Run GradientExplainer\n",
    "e = shap.GradientExplainer(model, normalize(X),local_smoothing=0.5)\n",
    "shap_values,indexes = e.shap_values(normalize(to_explain), ranked_outputs=1, nsamples=200)"
   ]
  },
  {
   "cell_type": "code",
   "execution_count": null,
   "id": "83a19770",
   "metadata": {
    "pycharm": {
     "name": "#%%\n"
    }
   },
   "outputs": [],
   "source": [
    "print(type(indexes))"
   ]
  },
  {
   "cell_type": "code",
   "execution_count": null,
   "id": "c03ef0d4",
   "metadata": {
    "pycharm": {
     "name": "#%%\n"
    }
   },
   "outputs": [],
   "source": [
    "# load the ImageNet class names\n",
    "url = \"https://s3.amazonaws.com/deep-learning-models/image-models/imagenet_class_index.json\"\n",
    "fname = shap.datasets.cache(url)\n",
    "with open(fname) as f:\n",
    "    class_names = json.load(f)\n",
    "    \n",
    "\n",
    "# get the names for the classes\n",
    "index_names = np.vectorize(lambda x: class_names[str(x)][1])(indexes)"
   ]
  },
  {
   "cell_type": "code",
   "execution_count": null,
   "id": "3055c13b",
   "metadata": {
    "pycharm": {
     "name": "#%%\n"
    }
   },
   "outputs": [],
   "source": [
    "# plot the explanations\n",
    "shap_values = [np.swapaxes(np.swapaxes(s, 2, 3), 1, -1) for s in shap_values]\n",
    "\n",
    "shap.image_plot(shap_values, to_explain, index_names)"
   ]
  },
  {
   "cell_type": "code",
   "execution_count": null,
   "id": "77ba40e6",
   "metadata": {
    "pycharm": {
     "name": "#%%\n"
    }
   },
   "outputs": [],
   "source": [
    "# plot the explanations\n",
    "shap_values = [np.swapaxes(np.swapaxes(s, 2, 3), 1, -1) for s in shap_values]\n",
    "\n",
    "shap.image_plot(shap_values, to_explain, index_names)"
   ]
  }
 ],
 "metadata": {
  "kernelspec": {
   "display_name": "Python 3 (ipykernel)",
   "language": "python",
   "name": "python3"
  },
  "language_info": {
   "codemirror_mode": {
    "name": "ipython",
    "version": 3
   },
   "file_extension": ".py",
   "mimetype": "text/x-python",
   "name": "python",
   "nbconvert_exporter": "python",
   "pygments_lexer": "ipython3",
   "version": "3.8.13"
  }
 },
 "nbformat": 4,
 "nbformat_minor": 5
}
