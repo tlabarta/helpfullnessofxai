{
 "cells": [
  {
   "cell_type": "code",
   "execution_count": 2,
   "metadata": {
    "collapsed": false,
    "pycharm": {
     "name": "#%%\n"
    }
   },
   "outputs": [],
   "source": [
    "import pandas as pd\n",
    "import os"
   ]
  },
  {
   "cell_type": "code",
   "execution_count": 16,
   "metadata": {
    "collapsed": false,
    "pycharm": {
     "name": "#%%\n"
    }
   },
   "outputs": [
    {
     "data": {
      "text/html": [
       "<div>\n",
       "<style scoped>\n",
       "    .dataframe tbody tr th:only-of-type {\n",
       "        vertical-align: middle;\n",
       "    }\n",
       "\n",
       "    .dataframe tbody tr th {\n",
       "        vertical-align: top;\n",
       "    }\n",
       "\n",
       "    .dataframe thead th {\n",
       "        text-align: right;\n",
       "    }\n",
       "</style>\n",
       "<table border=\"1\" class=\"dataframe\">\n",
       "  <thead>\n",
       "    <tr style=\"text-align: right;\">\n",
       "      <th></th>\n",
       "      <th>question_id</th>\n",
       "      <th>questionnaire_number</th>\n",
       "      <th>question_number</th>\n",
       "      <th>classification_result</th>\n",
       "      <th>user_decision_yes</th>\n",
       "      <th>user_decision_no</th>\n",
       "      <th>method</th>\n",
       "      <th>model</th>\n",
       "    </tr>\n",
       "  </thead>\n",
       "  <tbody>\n",
       "  </tbody>\n",
       "</table>\n",
       "</div>"
      ],
      "text/plain": [
       "Empty DataFrame\n",
       "Columns: [question_id, questionnaire_number, question_number, classification_result, user_decision_yes, user_decision_no, method, model]\n",
       "Index: []"
      ]
     },
     "execution_count": 16,
     "metadata": {},
     "output_type": "execute_result"
    }
   ],
   "source": [
    "# import data\n",
    "# raw questionnaire data\n",
    "qdata = pd.read_csv(\"data_tu-helpfulness-of-xai.csv\", header=0, sep='\\t')\n",
    "# create refactored data\n",
    "\n",
    "data = []\n",
    "rdata = pd.DataFrame(data)\n",
    "column_names = [\"question_id\", \"questionnaire_number\", \"question_number\", \"classification_result\",\"user_decision_yes\",\"user_decision_no\",\"method\",\"model\"]\n",
    "rdata = pd.DataFrame(columns = column_names)\n",
    "rdata.head()"
   ]
  },
  {
   "cell_type": "code",
   "execution_count": 5,
   "metadata": {
    "collapsed": false,
    "pycharm": {
     "name": "#%%\n"
    }
   },
   "outputs": [],
   "source": [
    "# extract feedback (column FB01_01)\n",
    "feedback = qdata[\"FB01_01\"].dropna()\n",
    "feedback.to_csv(\"feedback.csv\")"
   ]
  },
  {
   "cell_type": "code",
   "execution_count": 6,
   "metadata": {
    "collapsed": false,
    "pycharm": {
     "name": "#%%\n"
    }
   },
   "outputs": [],
   "source": [
    "# get question ids\n",
    "q_ids = qdata.columns.values[6:294]\n",
    "rdata[\"question_id\"] = q_ids"
   ]
  },
  {
   "cell_type": "code",
   "execution_count": 11,
   "metadata": {
    "collapsed": false,
    "pycharm": {
     "name": "#%%\n"
    }
   },
   "outputs": [
    {
     "data": {
      "text/html": [
       "<div>\n",
       "<style scoped>\n",
       "    .dataframe tbody tr th:only-of-type {\n",
       "        vertical-align: middle;\n",
       "    }\n",
       "\n",
       "    .dataframe tbody tr th {\n",
       "        vertical-align: top;\n",
       "    }\n",
       "\n",
       "    .dataframe thead th {\n",
       "        text-align: right;\n",
       "    }\n",
       "</style>\n",
       "<table border=\"1\" class=\"dataframe\">\n",
       "  <thead>\n",
       "    <tr style=\"text-align: right;\">\n",
       "      <th></th>\n",
       "      <th>question_id</th>\n",
       "      <th>questionnaire_number</th>\n",
       "      <th>question_number</th>\n",
       "      <th>classification_result</th>\n",
       "      <th>user_decision_yes</th>\n",
       "      <th>user_decision_no</th>\n",
       "      <th>method</th>\n",
       "      <th>model</th>\n",
       "    </tr>\n",
       "  </thead>\n",
       "  <tbody>\n",
       "    <tr>\n",
       "      <th>0</th>\n",
       "      <td>B101</td>\n",
       "      <td>1</td>\n",
       "      <td>1</td>\n",
       "      <td>NaN</td>\n",
       "      <td>5</td>\n",
       "      <td>5</td>\n",
       "      <td>NaN</td>\n",
       "      <td>NaN</td>\n",
       "    </tr>\n",
       "    <tr>\n",
       "      <th>1</th>\n",
       "      <td>B102</td>\n",
       "      <td>1</td>\n",
       "      <td>2</td>\n",
       "      <td>NaN</td>\n",
       "      <td>5</td>\n",
       "      <td>5</td>\n",
       "      <td>NaN</td>\n",
       "      <td>NaN</td>\n",
       "    </tr>\n",
       "    <tr>\n",
       "      <th>2</th>\n",
       "      <td>B103</td>\n",
       "      <td>1</td>\n",
       "      <td>3</td>\n",
       "      <td>NaN</td>\n",
       "      <td>7</td>\n",
       "      <td>3</td>\n",
       "      <td>NaN</td>\n",
       "      <td>NaN</td>\n",
       "    </tr>\n",
       "    <tr>\n",
       "      <th>3</th>\n",
       "      <td>B104</td>\n",
       "      <td>1</td>\n",
       "      <td>4</td>\n",
       "      <td>NaN</td>\n",
       "      <td>7</td>\n",
       "      <td>3</td>\n",
       "      <td>NaN</td>\n",
       "      <td>NaN</td>\n",
       "    </tr>\n",
       "    <tr>\n",
       "      <th>4</th>\n",
       "      <td>B105</td>\n",
       "      <td>1</td>\n",
       "      <td>5</td>\n",
       "      <td>NaN</td>\n",
       "      <td>8</td>\n",
       "      <td>2</td>\n",
       "      <td>NaN</td>\n",
       "      <td>NaN</td>\n",
       "    </tr>\n",
       "  </tbody>\n",
       "</table>\n",
       "</div>"
      ],
      "text/plain": [
       "  question_id questionnaire_number question_number classification_result  \\\n",
       "0        B101                    1               1                   NaN   \n",
       "1        B102                    1               2                   NaN   \n",
       "2        B103                    1               3                   NaN   \n",
       "3        B104                    1               4                   NaN   \n",
       "4        B105                    1               5                   NaN   \n",
       "\n",
       "  user_decision_yes user_decision_no method model  \n",
       "0                 5                5    NaN   NaN  \n",
       "1                 5                5    NaN   NaN  \n",
       "2                 7                3    NaN   NaN  \n",
       "3                 7                3    NaN   NaN  \n",
       "4                 8                2    NaN   NaN  "
      ]
     },
     "execution_count": 11,
     "metadata": {},
     "output_type": "execute_result"
    }
   ],
   "source": [
    "# fill questionnaire & question ids\n",
    "i = 1\n",
    "j = 1\n",
    "k = 0\n",
    "for i in range(1,13):\n",
    "    for j in range(1,25):\n",
    "        if k > 287:\n",
    "            break\n",
    "        rdata.at[k, 'questionnaire_number'] = i\n",
    "        rdata.at[k, 'question_number'] = j\n",
    "        k += 1\n",
    "rdata.head()"
   ]
  },
  {
   "cell_type": "code",
   "execution_count": 14,
   "metadata": {
    "collapsed": false,
    "pycharm": {
     "name": "#%%\n"
    }
   },
   "outputs": [
    {
     "data": {
      "text/html": [
       "<div>\n",
       "<style scoped>\n",
       "    .dataframe tbody tr th:only-of-type {\n",
       "        vertical-align: middle;\n",
       "    }\n",
       "\n",
       "    .dataframe tbody tr th {\n",
       "        vertical-align: top;\n",
       "    }\n",
       "\n",
       "    .dataframe thead th {\n",
       "        text-align: right;\n",
       "    }\n",
       "</style>\n",
       "<table border=\"1\" class=\"dataframe\">\n",
       "  <thead>\n",
       "    <tr style=\"text-align: right;\">\n",
       "      <th></th>\n",
       "      <th>question_id</th>\n",
       "      <th>questionnaire_number</th>\n",
       "      <th>question_number</th>\n",
       "      <th>classification_result</th>\n",
       "      <th>user_decision_yes</th>\n",
       "      <th>user_decision_no</th>\n",
       "      <th>method</th>\n",
       "      <th>model</th>\n",
       "    </tr>\n",
       "  </thead>\n",
       "  <tbody>\n",
       "    <tr>\n",
       "      <th>0</th>\n",
       "      <td>B101</td>\n",
       "      <td>1</td>\n",
       "      <td>1</td>\n",
       "      <td>NaN</td>\n",
       "      <td>5</td>\n",
       "      <td>5</td>\n",
       "      <td>NaN</td>\n",
       "      <td>NaN</td>\n",
       "    </tr>\n",
       "    <tr>\n",
       "      <th>1</th>\n",
       "      <td>B102</td>\n",
       "      <td>1</td>\n",
       "      <td>2</td>\n",
       "      <td>NaN</td>\n",
       "      <td>5</td>\n",
       "      <td>5</td>\n",
       "      <td>NaN</td>\n",
       "      <td>NaN</td>\n",
       "    </tr>\n",
       "    <tr>\n",
       "      <th>2</th>\n",
       "      <td>B103</td>\n",
       "      <td>1</td>\n",
       "      <td>3</td>\n",
       "      <td>NaN</td>\n",
       "      <td>7</td>\n",
       "      <td>3</td>\n",
       "      <td>NaN</td>\n",
       "      <td>NaN</td>\n",
       "    </tr>\n",
       "    <tr>\n",
       "      <th>3</th>\n",
       "      <td>B104</td>\n",
       "      <td>1</td>\n",
       "      <td>4</td>\n",
       "      <td>NaN</td>\n",
       "      <td>7</td>\n",
       "      <td>3</td>\n",
       "      <td>NaN</td>\n",
       "      <td>NaN</td>\n",
       "    </tr>\n",
       "    <tr>\n",
       "      <th>4</th>\n",
       "      <td>B105</td>\n",
       "      <td>1</td>\n",
       "      <td>5</td>\n",
       "      <td>NaN</td>\n",
       "      <td>8</td>\n",
       "      <td>2</td>\n",
       "      <td>NaN</td>\n",
       "      <td>NaN</td>\n",
       "    </tr>\n",
       "  </tbody>\n",
       "</table>\n",
       "</div>"
      ],
      "text/plain": [
       "  question_id questionnaire_number question_number classification_result  \\\n",
       "0        B101                    1               1                   NaN   \n",
       "1        B102                    1               2                   NaN   \n",
       "2        B103                    1               3                   NaN   \n",
       "3        B104                    1               4                   NaN   \n",
       "4        B105                    1               5                   NaN   \n",
       "\n",
       "  user_decision_yes user_decision_no method model  \n",
       "0                 5                5    NaN   NaN  \n",
       "1                 5                5    NaN   NaN  \n",
       "2                 7                3    NaN   NaN  \n",
       "3                 7                3    NaN   NaN  \n",
       "4                 8                2    NaN   NaN  "
      ]
     },
     "execution_count": 14,
     "metadata": {},
     "output_type": "execute_result"
    }
   ],
   "source": [
    "# fill user answers main part\n",
    "k = 0\n",
    "for i in range(6,294):\n",
    "    yes = (qdata.iloc[:, i] == 1).sum()\n",
    "    no = (qdata.iloc[:, i] == 2).sum()\n",
    "    rdata.at[k, 'user_decision_yes'] = yes\n",
    "    rdata.at[k, 'user_decision_no'] = no\n",
    "    k+=1\n",
    "\n"
   ]
  },
  {
   "cell_type": "markdown",
   "metadata": {
    "collapsed": false,
    "pycharm": {
     "name": "#%% md\n"
    }
   },
   "source": [
    "## Demographic Questions Entschlüsselung:\n",
    "\n",
    "DE02 - Education:\n",
    "1 - Highschool\n",
    "2 - Undergraduate\n",
    "3 - Graduate\n",
    "4 - Postgraduate\n",
    "5 - PhD\n",
    "6 - Other\n",
    "7 - Trade School (ger.: \"Ausbildung\")\n",
    "\n",
    "DE07 - ML Experience\n",
    "1 - Not at all\n",
    "2 - Under 1 year\n",
    "3 - Between 1 and 3 years\n",
    "4 - Between 3 and 5 years\n",
    "5 - More than 5 years\n",
    "\n",
    "DE09 - XAI Experiece\n",
    "1 - Extremely helpful\n",
    "2 - Very helpful\n",
    "3 - Somewhat helpful\n",
    "4 - Not so helpful\n",
    "5 - Not at all helpful\n",
    "\n",
    "DE05 - Visual Impairment\n",
    "1 - yes\n",
    "2 - no"
   ]
  },
  {
   "cell_type": "code",
   "execution_count": null,
   "metadata": {
    "collapsed": false,
    "pycharm": {
     "name": "#%%\n"
    }
   },
   "outputs": [],
   "source": [
    "# fill user answers demographical questions"
   ]
  },
  {
   "cell_type": "code",
   "execution_count": null,
   "metadata": {
    "collapsed": false,
    "pycharm": {
     "name": "#%%\n"
    }
   },
   "outputs": [],
   "source": [
    "os.remove(\"refactored_data.csv\")\n",
    "rdata.to_csv(\"refactored_data.csv\")"
   ]
  },
  {
   "cell_type": "markdown",
   "metadata": {
    "collapsed": false,
    "pycharm": {
     "name": "#%% md\n"
    }
   },
   "source": [
    "## TODO fill the rest"
   ]
  },
  {
   "cell_type": "markdown",
   "metadata": {
    "collapsed": false,
    "pycharm": {
     "name": "#%% md\n"
    }
   },
   "source": []
  }
 ],
 "metadata": {
  "interpreter": {
   "hash": "4621cef83e04d1d5699d95f183f7fdcae51c5e7e1103d9da115b86e3a17f15bc"
  },
  "kernelspec": {
   "display_name": "Python 3.8.8",
   "language": "python",
   "name": "python3"
  },
  "language_info": {
   "codemirror_mode": {
    "name": "ipython",
    "version": 3
   },
   "file_extension": ".py",
   "mimetype": "text/x-python",
   "name": "python",
   "nbconvert_exporter": "python",
   "pygments_lexer": "ipython3",
   "version": "3.8.8"
  }
 },
 "nbformat": 4,
 "nbformat_minor": 0
}
