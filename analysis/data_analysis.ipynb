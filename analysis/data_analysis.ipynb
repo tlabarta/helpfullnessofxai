{
 "cells": [
  {
   "cell_type": "code",
   "execution_count": 57,
   "outputs": [],
   "source": [
    "import pandas as pd\n",
    "import os"
   ],
   "metadata": {
    "collapsed": false,
    "pycharm": {
     "name": "#%%\n"
    }
   }
  },
  {
   "cell_type": "code",
   "execution_count": 62,
   "outputs": [
    {
     "name": "stdout",
     "output_type": "stream",
     "text": [
      "Empty DataFrame\n",
      "Columns: [question_id, qiestionnaire_number, question_number, classification_result, user_desicion, method, model]\n",
      "Index: []\n"
     ]
    }
   ],
   "source": [
    "# import data\n",
    "# raw questionnaire data\n",
    "qdata = pd.read_csv(\"data_tu-helpfulness-of-xai.csv\", header=0, sep='\\t')\n",
    "# create refactored data\n",
    "\n",
    "data = []\n",
    "rdata = pd.DataFrame(data)\n",
    "column_names = [\"question_id\", \"qiestionnaire_number\", \"question_number\", \"classification_result\",\"user_desicion\",\"method\",\"model\"]\n",
    "rdata = pd.DataFrame(columns = column_names)"
   ],
   "metadata": {
    "collapsed": false,
    "pycharm": {
     "name": "#%%\n"
    }
   }
  },
  {
   "cell_type": "code",
   "execution_count": 63,
   "outputs": [],
   "source": [
    "# extract feedback (column FB01_01)\n",
    "feedback = qdata[\"FB01_01\"].dropna()\n",
    "feedback.to_csv(\"feedback.csv\")"
   ],
   "metadata": {
    "collapsed": false,
    "pycharm": {
     "name": "#%%\n"
    }
   }
  },
  {
   "cell_type": "code",
   "execution_count": 64,
   "outputs": [
    {
     "name": "stdout",
     "output_type": "stream",
     "text": [
      "    question_id qiestionnaire_number question_number classification_result  \\\n",
      "0          B101                  NaN             NaN                   NaN   \n",
      "1          B102                  NaN             NaN                   NaN   \n",
      "2          B103                  NaN             NaN                   NaN   \n",
      "3          B104                  NaN             NaN                   NaN   \n",
      "4          B105                  NaN             NaN                   NaN   \n",
      "..          ...                  ...             ...                   ...   \n",
      "283        C320                  NaN             NaN                   NaN   \n",
      "284        C321                  NaN             NaN                   NaN   \n",
      "285        C322                  NaN             NaN                   NaN   \n",
      "286        C323                  NaN             NaN                   NaN   \n",
      "287        C324                  NaN             NaN                   NaN   \n",
      "\n",
      "    user_desicion method model  \n",
      "0             NaN    NaN   NaN  \n",
      "1             NaN    NaN   NaN  \n",
      "2             NaN    NaN   NaN  \n",
      "3             NaN    NaN   NaN  \n",
      "4             NaN    NaN   NaN  \n",
      "..            ...    ...   ...  \n",
      "283           NaN    NaN   NaN  \n",
      "284           NaN    NaN   NaN  \n",
      "285           NaN    NaN   NaN  \n",
      "286           NaN    NaN   NaN  \n",
      "287           NaN    NaN   NaN  \n",
      "\n",
      "[288 rows x 7 columns]\n"
     ]
    }
   ],
   "source": [
    "# get question ids\n",
    "q_ids = qdata.columns.values[6:294]\n",
    "rdata[\"question_id\"] = q_ids\n",
    "os.remove(\"refactored_data.csv\")\n",
    "rdata.to_csv(\"refactored_data.csv\")"
   ],
   "metadata": {
    "collapsed": false,
    "pycharm": {
     "name": "#%%\n"
    }
   }
  },
  {
   "cell_type": "code",
   "execution_count": 69,
   "outputs": [
    {
     "name": "stdout",
     "output_type": "stream",
     "text": [
      "    question_id qiestionnaire_number question_number classification_result  \\\n",
      "0          B101                    1               1                   NaN   \n",
      "1          B102                    1               2                   NaN   \n",
      "2          B103                    1               3                   NaN   \n",
      "3          B104                    1               4                   NaN   \n",
      "4          B105                    1               5                   NaN   \n",
      "..          ...                  ...             ...                   ...   \n",
      "283        C320                   12              20                   NaN   \n",
      "284        C321                   12              21                   NaN   \n",
      "285        C322                   12              22                   NaN   \n",
      "286        C323                   12              23                   NaN   \n",
      "287        C324                   12              24                   NaN   \n",
      "\n",
      "    user_desicion method model  \n",
      "0             NaN    NaN   NaN  \n",
      "1             NaN    NaN   NaN  \n",
      "2             NaN    NaN   NaN  \n",
      "3             NaN    NaN   NaN  \n",
      "4             NaN    NaN   NaN  \n",
      "..            ...    ...   ...  \n",
      "283           NaN    NaN   NaN  \n",
      "284           NaN    NaN   NaN  \n",
      "285           NaN    NaN   NaN  \n",
      "286           NaN    NaN   NaN  \n",
      "287           NaN    NaN   NaN  \n",
      "\n",
      "[288 rows x 7 columns]\n"
     ]
    }
   ],
   "source": [
    "# fill questionnaire & question ids\n",
    "i = 1\n",
    "j = 1\n",
    "k = 0\n",
    "for i in range(1,13):\n",
    "    for j in range(1,25):\n",
    "        if k > 287:\n",
    "            break\n",
    "        rdata.at[k, 'qiestionnaire_number'] = i\n",
    "        rdata.at[k, 'question_number'] = j\n",
    "        k += 1\n",
    "os.remove(\"refactored_data.csv\")\n",
    "rdata.to_csv(\"refactored_data.csv\")"
   ],
   "metadata": {
    "collapsed": false,
    "pycharm": {
     "name": "#%%\n"
    }
   }
  },
  {
   "cell_type": "code",
   "execution_count": null,
   "outputs": [],
   "source": [
    "# fill user answers\n"
   ],
   "metadata": {
    "collapsed": false,
    "pycharm": {
     "name": "#%%\n"
    }
   }
  },
  {
   "cell_type": "markdown",
   "source": [
    "## TODO fill the rest"
   ],
   "metadata": {
    "collapsed": false,
    "pycharm": {
     "name": "#%% md\n"
    }
   }
  },
  {
   "cell_type": "markdown",
   "source": [],
   "metadata": {
    "collapsed": false,
    "pycharm": {
     "name": "#%% md\n"
    }
   }
  }
 ],
 "metadata": {
  "kernelspec": {
   "display_name": "Python 3",
   "language": "python",
   "name": "python3"
  },
  "language_info": {
   "codemirror_mode": {
    "name": "ipython",
    "version": 2
   },
   "file_extension": ".py",
   "mimetype": "text/x-python",
   "name": "python",
   "nbconvert_exporter": "python",
   "pygments_lexer": "ipython2",
   "version": "2.7.6"
  }
 },
 "nbformat": 4,
 "nbformat_minor": 0
}