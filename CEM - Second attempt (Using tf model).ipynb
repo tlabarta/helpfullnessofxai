{
 "cells": [
  {
   "cell_type": "code",
   "execution_count": 1,
   "id": "34b43ab2",
   "metadata": {},
   "outputs": [
    {
     "name": "stdout",
     "output_type": "stream",
     "text": [
      "WARNING:tensorflow:From /Users/julianvonklitzing/opt/anaconda3/envs/xai_env/lib/python3.7/site-packages/keras/backend/tensorflow_backend.py:12: The name tf.placeholder is deprecated. Please use tf.compat.v1.placeholder instead.\n",
      "\n"
     ]
    },
    {
     "name": "stderr",
     "output_type": "stream",
     "text": [
      "Using TensorFlow backend.\n"
     ]
    }
   ],
   "source": [
    "#from Pretrained_VGG_neural_nets_in_TensorFlow_main.vgg_tensorflow import vgg11_bn\n",
    "from tensorflow_model import train, load_image, predict\n",
    "from Contrastive_Explanation_Method_master.Utils import model_prediction\n",
    "import random\n",
    "import tensorflow as tf\n",
    "import numpy as np"
   ]
  },
  {
   "cell_type": "markdown",
   "id": "999784ff",
   "metadata": {},
   "source": [
    "# 1. Load pretrained model"
   ]
  },
  {
   "cell_type": "code",
   "execution_count": 2,
   "id": "dc21a083",
   "metadata": {},
   "outputs": [
    {
     "name": "stdout",
     "output_type": "stream",
     "text": [
      "WARNING:tensorflow:From /Users/julianvonklitzing/opt/anaconda3/envs/xai_env/lib/python3.7/site-packages/tensorflow_core/python/ops/resource_variable_ops.py:1630: calling BaseResourceVariable.__init__ (from tensorflow.python.ops.resource_variable_ops) with constraint is deprecated and will be removed in a future version.\n",
      "Instructions for updating:\n",
      "If using Keras pass *_constraint arguments to layers.\n"
     ]
    }
   ],
   "source": [
    "model = tf.keras.applications.VGG16(\n",
    "    include_top=True,\n",
    "    weights='imagenet',\n",
    "    input_tensor=None,\n",
    "    input_shape=None,\n",
    "    pooling=None,\n",
    "    classes=1000\n",
    ")"
   ]
  },
  {
   "cell_type": "markdown",
   "id": "65b4429c",
   "metadata": {},
   "source": [
    "# 2. Predict with pretrained model"
   ]
  },
  {
   "cell_type": "code",
   "execution_count": 3,
   "id": "6fd1b8f6",
   "metadata": {},
   "outputs": [
    {
     "name": "stdout",
     "output_type": "stream",
     "text": [
      "(224, 224, 3)\n",
      "(1, 224, 224, 3)\n",
      "Predicted: [('n02111889', 'Samoyed', 0.10401), ('n02328150', 'Angora', 0.05517927), ('n02120079', 'Arctic_fox', 0.03914926)]\n"
     ]
    }
   ],
   "source": [
    "# auffällig: Prediction ist deutlich unsicher als über PyTorch oder über Tensorflow 2.0 Model\n",
    "# Wurden hier vielleicht einfach noch nicht die Wahrscheinlichkeiten normalisiert?\n",
    "img = load_image(\"dog.jpg\")\n",
    "predict(model, img)"
   ]
  },
  {
   "cell_type": "markdown",
   "id": "dd95c32a",
   "metadata": {},
   "source": [
    "# 3. CEM"
   ]
  },
  {
   "cell_type": "code",
   "execution_count": 4,
   "id": "7061d890",
   "metadata": {},
   "outputs": [
    {
     "data": {
      "text/plain": [
       "(224, 224, 3)"
      ]
     },
     "execution_count": 4,
     "metadata": {},
     "output_type": "execute_result"
    }
   ],
   "source": [
    "img.shape"
   ]
  },
  {
   "cell_type": "code",
   "execution_count": 5,
   "id": "e846d039",
   "metadata": {},
   "outputs": [],
   "source": [
    "### Probleme:\n",
    "\n",
    "# VGG laden -> tf 2  --> vielleicht musste nur zusätzlich zu tf auch keras in version 1.15 installiert werden, damit klappt\n",
    "# CEM Implementierung -> tf 1"
   ]
  },
  {
   "cell_type": "code",
   "execution_count": 9,
   "id": "743fb09e",
   "metadata": {},
   "outputs": [
    {
     "ename": "NameError",
     "evalue": "name 'image_id' is not defined",
     "output_type": "error",
     "traceback": [
      "\u001b[0;31m---------------------------------------------------------------------------\u001b[0m",
      "\u001b[0;31mNameError\u001b[0m                                 Traceback (most recent call last)",
      "\u001b[0;32m<ipython-input-9-c02d347047b0>\u001b[0m in \u001b[0;36m<module>\u001b[0;34m\u001b[0m\n\u001b[1;32m     14\u001b[0m     \u001b[0morig_prob\u001b[0m\u001b[0;34m,\u001b[0m \u001b[0morig_class\u001b[0m\u001b[0;34m,\u001b[0m \u001b[0morig_prob_str\u001b[0m \u001b[0;34m=\u001b[0m \u001b[0mmodel_prediction\u001b[0m\u001b[0;34m(\u001b[0m\u001b[0mmodel\u001b[0m\u001b[0;34m,\u001b[0m \u001b[0mnp\u001b[0m\u001b[0;34m.\u001b[0m\u001b[0mexpand_dims\u001b[0m\u001b[0;34m(\u001b[0m\u001b[0mimg\u001b[0m\u001b[0;34m,\u001b[0m \u001b[0maxis\u001b[0m\u001b[0;34m=\u001b[0m\u001b[0;36m0\u001b[0m\u001b[0;34m)\u001b[0m\u001b[0;34m)\u001b[0m\u001b[0;34m\u001b[0m\u001b[0;34m\u001b[0m\u001b[0m\n\u001b[1;32m     15\u001b[0m     \u001b[0mtarget_label\u001b[0m \u001b[0;34m=\u001b[0m \u001b[0morig_class\u001b[0m\u001b[0;34m\u001b[0m\u001b[0;34m\u001b[0m\u001b[0m\n\u001b[0;32m---> 16\u001b[0;31m     \u001b[0mprint\u001b[0m\u001b[0;34m(\u001b[0m\u001b[0;34m\"Image:{}, infer label:{}\"\u001b[0m\u001b[0;34m.\u001b[0m\u001b[0mformat\u001b[0m\u001b[0;34m(\u001b[0m\u001b[0mimage_id\u001b[0m\u001b[0;34m,\u001b[0m \u001b[0mtarget_label\u001b[0m\u001b[0;34m)\u001b[0m\u001b[0;34m)\u001b[0m\u001b[0;34m\u001b[0m\u001b[0;34m\u001b[0m\u001b[0m\n\u001b[0m\u001b[1;32m     17\u001b[0m     \u001b[0morig_img\u001b[0m\u001b[0;34m,\u001b[0m \u001b[0mtarget\u001b[0m \u001b[0;34m=\u001b[0m \u001b[0mutil\u001b[0m\u001b[0;34m.\u001b[0m\u001b[0mgenerate_data\u001b[0m\u001b[0;34m(\u001b[0m\u001b[0mdata\u001b[0m\u001b[0;34m,\u001b[0m \u001b[0mimage_id\u001b[0m\u001b[0;34m,\u001b[0m \u001b[0mtarget_label\u001b[0m\u001b[0;34m)\u001b[0m\u001b[0;34m\u001b[0m\u001b[0;34m\u001b[0m\u001b[0m\n\u001b[1;32m     18\u001b[0m \u001b[0;34m\u001b[0m\u001b[0m\n",
      "\u001b[0;31mNameError\u001b[0m: name 'image_id' is not defined"
     ]
    }
   ],
   "source": [
    "with tf.Session() as sess:\n",
    "    # load model after creating Session\n",
    "    model = tf.keras.applications.VGG16(\n",
    "    include_top=True,\n",
    "    weights='imagenet',\n",
    "    input_tensor=None,\n",
    "    input_shape=None,\n",
    "    pooling=None,\n",
    "    classes=1000\n",
    "    )\n",
    "\n",
    "    random.seed(121)\n",
    "    np.random.seed(1211)\n",
    "    orig_prob, orig_class, orig_prob_str = model_prediction(model, np.expand_dims(img, axis=0))\n",
    "    target_label = orig_class\n",
    "    print(\"Image:{}, infer label:{}\".format(image_id, target_label))\n",
    "    orig_img, target = util.generate_data(data, image_id, target_label)\n",
    "\n",
    "    attack = AEADEN(sess, model, mode = arg_mode, AE = AE_model, batch_size=1, kappa=arg_kappa, init_learning_rate=1e-2,\n",
    "        binary_search_steps=arg_b, max_iterations=arg_max_iter, initial_const=arg_init_const, beta=arg_beta, gamma=arg_gamma)\n",
    "\n",
    "    adv_img = attack.attack(orig_img, target)\n",
    "\n",
    "    adv_prob, adv_class, adv_prob_str = util.model_prediction(model, adv_img)\n",
    "    delta_prob, delta_class, delta_prob_str = util.model_prediction(model, orig_img-adv_img)\n",
    "\n",
    "    INFO = \"[INFO]id:{}, kappa:{}, Orig class:{}, Adv class:{}, Delta class: {}, Orig prob:{}, Adv prob:{}, Delta prob:{}\".format(image_id, arg_kappa, orig_class, adv_class, delta_class, orig_prob_str, adv_prob_str, delta_prob_str)\n",
    "    print(INFO)\n",
    "\n",
    "    suffix = \"id{}_kappa{}_Orig{}_Adv{}_Delta{}\".format(image_id, arg_kappa, orig_class, adv_class, delta_class)\n",
    "    arg_save_dir = \"{}_ID{}_Gamma_{}\".format(arg_mode, image_id, arg_gamma)\n",
    "    os.system(\"mkdir -p Results/{}\".format(arg_save_dir))\n",
    "    util.save_img(orig_img, \"Results/{}/Orig_original{}.png\".format(arg_save_dir, orig_class))\n",
    "    util.save_img(adv_img, \"Results/{}/Adv_{}.png\".format(arg_save_dir, suffix))\n",
    "    util.save_img(np.absolute(orig_img-adv_img)-0.5, \"Results/{}/Delta_{}.png\".format(arg_save_dir, suffix))\n",
    "\n",
    "    sys.stdout.flush()"
   ]
  },
  {
   "cell_type": "code",
   "execution_count": null,
   "id": "93b9197c",
   "metadata": {},
   "outputs": [],
   "source": []
  }
 ],
 "metadata": {
  "kernelspec": {
   "display_name": "Python 3",
   "language": "python",
   "name": "python3"
  },
  "language_info": {
   "codemirror_mode": {
    "name": "ipython",
    "version": 3
   },
   "file_extension": ".py",
   "mimetype": "text/x-python",
   "name": "python",
   "nbconvert_exporter": "python",
   "pygments_lexer": "ipython3",
   "version": "3.7.12"
  }
 },
 "nbformat": 4,
 "nbformat_minor": 5
}
