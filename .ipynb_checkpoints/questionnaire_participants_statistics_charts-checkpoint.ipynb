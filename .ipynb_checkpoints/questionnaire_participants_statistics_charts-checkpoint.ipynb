{
 "cells": [
  {
   "cell_type": "code",
   "execution_count": 1,
   "id": "2d918547",
   "metadata": {},
   "outputs": [],
   "source": [
    "import matplotlib.pyplot as plt\n",
    "import pandas as pd"
   ]
  },
  {
   "cell_type": "markdown",
   "id": "b2df016d",
   "metadata": {},
   "source": [
    "# Load data"
   ]
  },
  {
   "cell_type": "code",
   "execution_count": 3,
   "id": "b089296e",
   "metadata": {},
   "outputs": [
    {
     "ename": "FileNotFoundError",
     "evalue": "[Errno 2] No such file or directory: '../data/survey_results/data_tu-helpfulness-of-xai_2022-07-13_13-03.xlsx'",
     "output_type": "error",
     "traceback": [
      "\u001b[0;31m---------------------------------------------------------------------------\u001b[0m",
      "\u001b[0;31mFileNotFoundError\u001b[0m                         Traceback (most recent call last)",
      "Input \u001b[0;32mIn [3]\u001b[0m, in \u001b[0;36m<cell line: 3>\u001b[0;34m()\u001b[0m\n\u001b[1;32m      1\u001b[0m DATA_PATH \u001b[38;5;241m=\u001b[39m \u001b[38;5;124m\"\u001b[39m\u001b[38;5;124m../data/survey_results/data_tu-helpfulness-of-xai_2022-07-13_13-03.xlsx\u001b[39m\u001b[38;5;124m\"\u001b[39m\n\u001b[1;32m      2\u001b[0m DATA_PREPARED_PATH \u001b[38;5;241m=\u001b[39m \u001b[38;5;124mf\u001b[39m\u001b[38;5;124m\"\u001b[39m\u001b[38;5;132;01m{\u001b[39;00mDATA_PATH\u001b[38;5;241m.\u001b[39mrsplit(\u001b[38;5;124m'\u001b[39m\u001b[38;5;124m.\u001b[39m\u001b[38;5;124m'\u001b[39m,\u001b[38;5;241m1\u001b[39m)[\u001b[38;5;241m0\u001b[39m]\u001b[38;5;132;01m}\u001b[39;00m\u001b[38;5;124m_PREPARED.\u001b[39m\u001b[38;5;132;01m{\u001b[39;00mDATA_PATH\u001b[38;5;241m.\u001b[39mrsplit(\u001b[38;5;124m'\u001b[39m\u001b[38;5;124m.\u001b[39m\u001b[38;5;124m'\u001b[39m,\u001b[38;5;241m1\u001b[39m)[\u001b[38;5;241m1\u001b[39m]\u001b[38;5;132;01m}\u001b[39;00m\u001b[38;5;124m\"\u001b[39m\n\u001b[0;32m----> 3\u001b[0m df \u001b[38;5;241m=\u001b[39m \u001b[43mpd\u001b[49m\u001b[38;5;241;43m.\u001b[39;49m\u001b[43mread_excel\u001b[49m\u001b[43m(\u001b[49m\u001b[43mDATA_PATH\u001b[49m\u001b[43m)\u001b[49m\n\u001b[1;32m      4\u001b[0m df_prepared \u001b[38;5;241m=\u001b[39m pd\u001b[38;5;241m.\u001b[39mread_excel(DATA_PREPARED_PATH)\n",
      "File \u001b[0;32m~/miniforge3/envs/xai_env/lib/python3.8/site-packages/pandas/util/_decorators.py:311\u001b[0m, in \u001b[0;36mdeprecate_nonkeyword_arguments.<locals>.decorate.<locals>.wrapper\u001b[0;34m(*args, **kwargs)\u001b[0m\n\u001b[1;32m    305\u001b[0m \u001b[38;5;28;01mif\u001b[39;00m \u001b[38;5;28mlen\u001b[39m(args) \u001b[38;5;241m>\u001b[39m num_allow_args:\n\u001b[1;32m    306\u001b[0m     warnings\u001b[38;5;241m.\u001b[39mwarn(\n\u001b[1;32m    307\u001b[0m         msg\u001b[38;5;241m.\u001b[39mformat(arguments\u001b[38;5;241m=\u001b[39marguments),\n\u001b[1;32m    308\u001b[0m         \u001b[38;5;167;01mFutureWarning\u001b[39;00m,\n\u001b[1;32m    309\u001b[0m         stacklevel\u001b[38;5;241m=\u001b[39mstacklevel,\n\u001b[1;32m    310\u001b[0m     )\n\u001b[0;32m--> 311\u001b[0m \u001b[38;5;28;01mreturn\u001b[39;00m \u001b[43mfunc\u001b[49m\u001b[43m(\u001b[49m\u001b[38;5;241;43m*\u001b[39;49m\u001b[43margs\u001b[49m\u001b[43m,\u001b[49m\u001b[43m \u001b[49m\u001b[38;5;241;43m*\u001b[39;49m\u001b[38;5;241;43m*\u001b[39;49m\u001b[43mkwargs\u001b[49m\u001b[43m)\u001b[49m\n",
      "File \u001b[0;32m~/miniforge3/envs/xai_env/lib/python3.8/site-packages/pandas/io/excel/_base.py:457\u001b[0m, in \u001b[0;36mread_excel\u001b[0;34m(io, sheet_name, header, names, index_col, usecols, squeeze, dtype, engine, converters, true_values, false_values, skiprows, nrows, na_values, keep_default_na, na_filter, verbose, parse_dates, date_parser, thousands, decimal, comment, skipfooter, convert_float, mangle_dupe_cols, storage_options)\u001b[0m\n\u001b[1;32m    455\u001b[0m \u001b[38;5;28;01mif\u001b[39;00m \u001b[38;5;129;01mnot\u001b[39;00m \u001b[38;5;28misinstance\u001b[39m(io, ExcelFile):\n\u001b[1;32m    456\u001b[0m     should_close \u001b[38;5;241m=\u001b[39m \u001b[38;5;28;01mTrue\u001b[39;00m\n\u001b[0;32m--> 457\u001b[0m     io \u001b[38;5;241m=\u001b[39m \u001b[43mExcelFile\u001b[49m\u001b[43m(\u001b[49m\u001b[43mio\u001b[49m\u001b[43m,\u001b[49m\u001b[43m \u001b[49m\u001b[43mstorage_options\u001b[49m\u001b[38;5;241;43m=\u001b[39;49m\u001b[43mstorage_options\u001b[49m\u001b[43m,\u001b[49m\u001b[43m \u001b[49m\u001b[43mengine\u001b[49m\u001b[38;5;241;43m=\u001b[39;49m\u001b[43mengine\u001b[49m\u001b[43m)\u001b[49m\n\u001b[1;32m    458\u001b[0m \u001b[38;5;28;01melif\u001b[39;00m engine \u001b[38;5;129;01mand\u001b[39;00m engine \u001b[38;5;241m!=\u001b[39m io\u001b[38;5;241m.\u001b[39mengine:\n\u001b[1;32m    459\u001b[0m     \u001b[38;5;28;01mraise\u001b[39;00m \u001b[38;5;167;01mValueError\u001b[39;00m(\n\u001b[1;32m    460\u001b[0m         \u001b[38;5;124m\"\u001b[39m\u001b[38;5;124mEngine should not be specified when passing \u001b[39m\u001b[38;5;124m\"\u001b[39m\n\u001b[1;32m    461\u001b[0m         \u001b[38;5;124m\"\u001b[39m\u001b[38;5;124man ExcelFile - ExcelFile already has the engine set\u001b[39m\u001b[38;5;124m\"\u001b[39m\n\u001b[1;32m    462\u001b[0m     )\n",
      "File \u001b[0;32m~/miniforge3/envs/xai_env/lib/python3.8/site-packages/pandas/io/excel/_base.py:1376\u001b[0m, in \u001b[0;36mExcelFile.__init__\u001b[0;34m(self, path_or_buffer, engine, storage_options)\u001b[0m\n\u001b[1;32m   1374\u001b[0m     ext \u001b[38;5;241m=\u001b[39m \u001b[38;5;124m\"\u001b[39m\u001b[38;5;124mxls\u001b[39m\u001b[38;5;124m\"\u001b[39m\n\u001b[1;32m   1375\u001b[0m \u001b[38;5;28;01melse\u001b[39;00m:\n\u001b[0;32m-> 1376\u001b[0m     ext \u001b[38;5;241m=\u001b[39m \u001b[43minspect_excel_format\u001b[49m\u001b[43m(\u001b[49m\n\u001b[1;32m   1377\u001b[0m \u001b[43m        \u001b[49m\u001b[43mcontent_or_path\u001b[49m\u001b[38;5;241;43m=\u001b[39;49m\u001b[43mpath_or_buffer\u001b[49m\u001b[43m,\u001b[49m\u001b[43m \u001b[49m\u001b[43mstorage_options\u001b[49m\u001b[38;5;241;43m=\u001b[39;49m\u001b[43mstorage_options\u001b[49m\n\u001b[1;32m   1378\u001b[0m \u001b[43m    \u001b[49m\u001b[43m)\u001b[49m\n\u001b[1;32m   1379\u001b[0m     \u001b[38;5;28;01mif\u001b[39;00m ext \u001b[38;5;129;01mis\u001b[39;00m \u001b[38;5;28;01mNone\u001b[39;00m:\n\u001b[1;32m   1380\u001b[0m         \u001b[38;5;28;01mraise\u001b[39;00m \u001b[38;5;167;01mValueError\u001b[39;00m(\n\u001b[1;32m   1381\u001b[0m             \u001b[38;5;124m\"\u001b[39m\u001b[38;5;124mExcel file format cannot be determined, you must specify \u001b[39m\u001b[38;5;124m\"\u001b[39m\n\u001b[1;32m   1382\u001b[0m             \u001b[38;5;124m\"\u001b[39m\u001b[38;5;124man engine manually.\u001b[39m\u001b[38;5;124m\"\u001b[39m\n\u001b[1;32m   1383\u001b[0m         )\n",
      "File \u001b[0;32m~/miniforge3/envs/xai_env/lib/python3.8/site-packages/pandas/io/excel/_base.py:1250\u001b[0m, in \u001b[0;36minspect_excel_format\u001b[0;34m(content_or_path, storage_options)\u001b[0m\n\u001b[1;32m   1247\u001b[0m \u001b[38;5;28;01mif\u001b[39;00m \u001b[38;5;28misinstance\u001b[39m(content_or_path, \u001b[38;5;28mbytes\u001b[39m):\n\u001b[1;32m   1248\u001b[0m     content_or_path \u001b[38;5;241m=\u001b[39m BytesIO(content_or_path)\n\u001b[0;32m-> 1250\u001b[0m \u001b[38;5;28;01mwith\u001b[39;00m \u001b[43mget_handle\u001b[49m\u001b[43m(\u001b[49m\n\u001b[1;32m   1251\u001b[0m \u001b[43m    \u001b[49m\u001b[43mcontent_or_path\u001b[49m\u001b[43m,\u001b[49m\u001b[43m \u001b[49m\u001b[38;5;124;43m\"\u001b[39;49m\u001b[38;5;124;43mrb\u001b[39;49m\u001b[38;5;124;43m\"\u001b[39;49m\u001b[43m,\u001b[49m\u001b[43m \u001b[49m\u001b[43mstorage_options\u001b[49m\u001b[38;5;241;43m=\u001b[39;49m\u001b[43mstorage_options\u001b[49m\u001b[43m,\u001b[49m\u001b[43m \u001b[49m\u001b[43mis_text\u001b[49m\u001b[38;5;241;43m=\u001b[39;49m\u001b[38;5;28;43;01mFalse\u001b[39;49;00m\n\u001b[1;32m   1252\u001b[0m \u001b[43m\u001b[49m\u001b[43m)\u001b[49m \u001b[38;5;28;01mas\u001b[39;00m handle:\n\u001b[1;32m   1253\u001b[0m     stream \u001b[38;5;241m=\u001b[39m handle\u001b[38;5;241m.\u001b[39mhandle\n\u001b[1;32m   1254\u001b[0m     stream\u001b[38;5;241m.\u001b[39mseek(\u001b[38;5;241m0\u001b[39m)\n",
      "File \u001b[0;32m~/miniforge3/envs/xai_env/lib/python3.8/site-packages/pandas/io/common.py:795\u001b[0m, in \u001b[0;36mget_handle\u001b[0;34m(path_or_buf, mode, encoding, compression, memory_map, is_text, errors, storage_options)\u001b[0m\n\u001b[1;32m    786\u001b[0m         handle \u001b[38;5;241m=\u001b[39m \u001b[38;5;28mopen\u001b[39m(\n\u001b[1;32m    787\u001b[0m             handle,\n\u001b[1;32m    788\u001b[0m             ioargs\u001b[38;5;241m.\u001b[39mmode,\n\u001b[0;32m   (...)\u001b[0m\n\u001b[1;32m    791\u001b[0m             newline\u001b[38;5;241m=\u001b[39m\u001b[38;5;124m\"\u001b[39m\u001b[38;5;124m\"\u001b[39m,\n\u001b[1;32m    792\u001b[0m         )\n\u001b[1;32m    793\u001b[0m     \u001b[38;5;28;01melse\u001b[39;00m:\n\u001b[1;32m    794\u001b[0m         \u001b[38;5;66;03m# Binary mode\u001b[39;00m\n\u001b[0;32m--> 795\u001b[0m         handle \u001b[38;5;241m=\u001b[39m \u001b[38;5;28;43mopen\u001b[39;49m\u001b[43m(\u001b[49m\u001b[43mhandle\u001b[49m\u001b[43m,\u001b[49m\u001b[43m \u001b[49m\u001b[43mioargs\u001b[49m\u001b[38;5;241;43m.\u001b[39;49m\u001b[43mmode\u001b[49m\u001b[43m)\u001b[49m\n\u001b[1;32m    796\u001b[0m     handles\u001b[38;5;241m.\u001b[39mappend(handle)\n\u001b[1;32m    798\u001b[0m \u001b[38;5;66;03m# Convert BytesIO or file objects passed with an encoding\u001b[39;00m\n",
      "\u001b[0;31mFileNotFoundError\u001b[0m: [Errno 2] No such file or directory: '../data/survey_results/data_tu-helpfulness-of-xai_2022-07-13_13-03.xlsx'"
     ]
    }
   ],
   "source": [
    "DATA_PATH = \"../data/survey_results/data_tu-helpfulness-of-xai_2022-07-13_13-03.xlsx\"\n",
    "DATA_PREPARED_PATH = f\"{DATA_PATH.rsplit('.',1)[0]}_PREPARED.{DATA_PATH.rsplit('.',1)[1]}\"\n",
    "df = pd.read_excel(DATA_PATH)\n",
    "df_prepared = pd.read_excel(DATA_PREPARED_PATH)\n"
   ]
  },
  {
   "cell_type": "markdown",
   "id": "827050ef",
   "metadata": {},
   "source": [
    "# Demographic questions: Create charts (visual overview)"
   ]
  },
  {
   "cell_type": "code",
   "execution_count": null,
   "id": "38c95ab9",
   "metadata": {},
   "outputs": [],
   "source": [
    "df_prepared = df_prepared.drop_duplicates(subset=[\"case\"]).reset_index(drop=True)"
   ]
  },
  {
   "cell_type": "code",
   "execution_count": null,
   "id": "3243efb7",
   "metadata": {},
   "outputs": [],
   "source": [
    "df_prepared"
   ]
  },
  {
   "cell_type": "code",
   "execution_count": null,
   "id": "37c5b1f7",
   "metadata": {},
   "outputs": [],
   "source": [
    "def func(pct):\n",
    "    return \"{:1.1f}%\".format(pct)"
   ]
  },
  {
   "cell_type": "code",
   "execution_count": null,
   "id": "4233cebc",
   "metadata": {},
   "outputs": [],
   "source": [
    "def my_fmt(x):\n",
    "    print(x)\n",
    "    return '{:.4f}%\\n({:.0f})'.format(x, total*x/100)"
   ]
  },
  {
   "cell_type": "code",
   "execution_count": null,
   "id": "8980760c",
   "metadata": {},
   "outputs": [],
   "source": [
    "def plot_statistics():\n",
    "    fig, ax = plt.subplots(3, 2, figsize=(20, 30))\n",
    "    ax[0][0].pie(autopct=lambda pct: func(pct), labels=df_prepared[\"Education\"].value_counts(dropna=False, normalize=True).index, x=df_prepared[\"Education\"].value_counts(dropna=False, normalize=False), textprops={\"size\": 18})\n",
    "    ax[0][0].set_title(\"Education\", size= 25)\n",
    "    \n",
    "    ax[0][1].pie(autopct=lambda pct: func(pct), labels=df_prepared[\"ML Experience\"].value_counts(dropna=False, normalize=True).index, x=df_prepared[\"ML Experience\"].value_counts(dropna=False, normalize=False), textprops={\"size\": 18})\n",
    "    ax[0][1].set_title(\"ML Experience\", size= 25)\n",
    "    \n",
    "    ax[1][0].pie(autopct=lambda pct: func(pct), labels=df_prepared[\"XAI Experience\"].value_counts(dropna=True, normalize=True).index, x=df_prepared[\"XAI Experience\"].value_counts(dropna=True, normalize=False), textprops={\"size\": 18})\n",
    "    ax[1][0].set_title(\"XAI Experience (Excluding NaN)\", size= 25)\n",
    "    \n",
    "    ax[1][1].pie(autopct=lambda pct: func(pct), labels=df_prepared[\"Color Blindness\"].value_counts(dropna=False, normalize=True).index, x=df_prepared[\"Color Blindness\"].value_counts(dropna=False, normalize=False), textprops={\"size\": 18})\n",
    "    ax[1][1].set_title(\"Color Blindness\", size= 25)\n",
    "    \n",
    "    ax[2][0].pie(autopct=lambda pct: func(pct), labels=df_prepared[\"Visual Impairment Affect\"].value_counts(dropna=True, normalize=True).index, x=df_prepared[\"Visual Impairment Affect\"].value_counts(dropna=True, normalize=False), textprops={\"size\": 18})\n",
    "    ax[2][0].set_title(\"Visual Impairment Affect (Excluding NaN)\", size= 25)\n",
    "    \n",
    "    fig.suptitle(f\"Statistics calculated on a total of {df_prepared.shape[0]} participant\", size=35)"
   ]
  },
  {
   "cell_type": "code",
   "execution_count": null,
   "id": "ed3b2204",
   "metadata": {},
   "outputs": [],
   "source": [
    "plot_statistics()"
   ]
  },
  {
   "cell_type": "markdown",
   "id": "7d94d70d",
   "metadata": {},
   "source": [
    "# Time taken to finish survey\n"
   ]
  },
  {
   "cell_type": "code",
   "execution_count": null,
   "id": "a7fbac9d",
   "metadata": {},
   "outputs": [],
   "source": [
    "df_column_descriptions = df.loc[0]"
   ]
  },
  {
   "cell_type": "code",
   "execution_count": null,
   "id": "a50d57b1",
   "metadata": {},
   "outputs": [],
   "source": [
    "df = df.drop(0)"
   ]
  },
  {
   "cell_type": "code",
   "execution_count": null,
   "id": "67b8d05a",
   "metadata": {},
   "outputs": [],
   "source": [
    "# set dtypes for TIME columns from object to integer\n",
    "df_time = df.astype(dict(zip(df.columns[df.columns.get_loc(\"TIME001\"):df.columns.get_loc(\"TIME001\")+6], [int]*6)))\n",
    "df_time.head()"
   ]
  },
  {
   "cell_type": "code",
   "execution_count": null,
   "id": "6d7546ff",
   "metadata": {},
   "outputs": [],
   "source": [
    "t_time = (df_time.LASTDATA - df_time.STARTED)\n",
    "df_time['timespent'] = t_time.astype(str).map(lambda x: x[7:])\n",
    "df_time['time_in_sec'] =  t_time\n",
    "#df_time.assign(TIMESPENT = t_time)"
   ]
  },
  {
   "cell_type": "code",
   "execution_count": null,
   "id": "6d3b4f15",
   "metadata": {},
   "outputs": [],
   "source": [
    "df_time = df_time.groupby('CASE')['timespent'].apply(list)\n",
    "df_time"
   ]
  },
  {
   "cell_type": "code",
   "execution_count": null,
   "id": "65c78219",
   "metadata": {},
   "outputs": [],
   "source": [
    "for i in df_time:\n",
    "    print(i)"
   ]
  },
  {
   "cell_type": "code",
   "execution_count": null,
   "id": "781f88de",
   "metadata": {},
   "outputs": [],
   "source": [
    "# guess time is meassured in seconds\n",
    "df.iloc[:, df.columns.get_loc(\"TIME001\"):df.columns.get_loc(\"TIME001\")+6].boxplot(showfliers=False)"
   ]
  },
  {
   "cell_type": "code",
   "execution_count": null,
   "id": "b8c9a739",
   "metadata": {},
   "outputs": [],
   "source": [
    "df.iloc[:, df.columns.get_loc(\"TIME001\"):df.columns.get_loc(\"TIME001\")+6].describe()"
   ]
  },
  {
   "cell_type": "code",
   "execution_count": null,
   "id": "ea7ac27c",
   "metadata": {},
   "outputs": [],
   "source": [
    "# time 004 and time 005 sound unrealistic\n",
    "# nur auf der seite drei schauen \n",
    "# untere drei prozent auf ganze weg;"
   ]
  },
  {
   "cell_type": "markdown",
   "id": "ecce42c1",
   "metadata": {},
   "source": [
    "# Amount of same clicked answers"
   ]
  },
  {
   "cell_type": "code",
   "execution_count": null,
   "id": "c3e8130f",
   "metadata": {},
   "outputs": [],
   "source": [
    "DATA_PATH = \"../data/survey_results/data_tu-helpfulness-of-xai_2022-06-29_10-48.xlsx\"\n",
    "DATA_PREPARED_PATH = f\"{DATA_PATH.rsplit('.',1)[0]}_PREPARED.{DATA_PATH.rsplit('.',1)[1]}\"\n",
    "df = pd.read_excel(DATA_PATH)\n",
    "df= pd.read_excel(DATA_PREPARED_PATH)\n",
    "\n",
    "df.head()"
   ]
  },
  {
   "cell_type": "code",
   "execution_count": null,
   "id": "8d1fbda5",
   "metadata": {},
   "outputs": [],
   "source": [
    "# more TRUE than FALSE (more people trust XAI?)\n",
    "\n",
    "df['response'].value_counts()\n",
    "\n",
    "  "
   ]
  },
  {
   "cell_type": "code",
   "execution_count": null,
   "id": "9f4d02e8",
   "metadata": {},
   "outputs": [],
   "source": [
    "# check for all true/all false\n",
    "\n",
    "df_check = df.groupby('case')['response'].apply(list)\n",
    "df_check"
   ]
  },
  {
   "cell_type": "code",
   "execution_count": null,
   "id": "5e93692d",
   "metadata": {},
   "outputs": [],
   "source": [
    "def all_equal(iterator):\n",
    "\n",
    "    iterator = iter(iterator)\n",
    "    try:\n",
    "        first = next(iterator)\n",
    "    except StopIteration:\n",
    "        return True\n",
    "    return all(first == x for x in iterator)\n",
    "\n",
    "# no all true/ all false\n",
    "\n",
    "all_equal(df_check)"
   ]
  },
  {
   "cell_type": "code",
   "execution_count": null,
   "id": "75bdace5",
   "metadata": {},
   "outputs": [],
   "source": [
    "df"
   ]
  },
  {
   "cell_type": "code",
   "execution_count": null,
   "id": "4f561a48",
   "metadata": {},
   "outputs": [],
   "source": []
  }
 ],
 "metadata": {
  "interpreter": {
   "hash": "4621cef83e04d1d5699d95f183f7fdcae51c5e7e1103d9da115b86e3a17f15bc"
  },
  "kernelspec": {
   "display_name": "Python 3 (ipykernel)",
   "language": "python",
   "name": "python3"
  },
  "language_info": {
   "codemirror_mode": {
    "name": "ipython",
    "version": 3
   },
   "file_extension": ".py",
   "mimetype": "text/x-python",
   "name": "python",
   "nbconvert_exporter": "python",
   "pygments_lexer": "ipython3",
   "version": "3.8.13"
  }
 },
 "nbformat": 4,
 "nbformat_minor": 5
}
