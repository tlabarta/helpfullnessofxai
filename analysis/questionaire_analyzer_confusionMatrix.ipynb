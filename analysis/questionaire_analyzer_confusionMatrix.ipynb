{
 "cells": [
  {
   "cell_type": "code",
   "execution_count": null,
   "id": "9eb9ef7a",
   "metadata": {
    "scrolled": false
   },
   "outputs": [],
   "source": [
    "import numpy as np\n",
    "import matplotlib.pyplot as plt\n",
    "import pandas as pd\n",
    "import seaborn as sn\n",
    "\n",
    "from development import data_handler\n"
   ]
  },
  {
   "cell_type": "markdown",
   "id": "ff9d5f67",
   "metadata": {},
   "source": [
    "## Read Data"
   ]
  },
  {
   "cell_type": "code",
   "execution_count": null,
   "id": "a2b94a8f",
   "metadata": {
    "collapsed": false,
    "pycharm": {
     "name": "#%%\n"
    }
   },
   "outputs": [],
   "source": [
    "df_quest_meta = pd.read_excel(\"../data/survey_results/question_meta_data.xlsx\")"
   ]
  },
  {
   "cell_type": "code",
   "execution_count": null,
   "id": "9374525b",
   "metadata": {},
   "outputs": [],
   "source": [
    "DATA_PATH = os.path.join(\"..\", \"data\", \"survey_results\", \"data_tu-helpfulness-of-xai_2022-07-13_13-03.xlsx\")\n",
    "DATA_PREPARED_PATH = os.path.join(\"..\", \"data\", \"survey_results\", \"data_tu-helpfulness-of-xai_2022-07-13_13-03_PREPARED.xlsx\")\n",
    "df = pd.read_excel(DATA_PATH)\n",
    "df_merged = pd.read_excel(DATA_PREPARED_PATH)"
   ]
  },
  {
   "cell_type": "markdown",
   "id": "c078ef35",
   "metadata": {},
   "source": [
    "# Analysis"
   ]
  },
  {
   "cell_type": "code",
   "execution_count": null,
   "id": "6d27f61c",
   "metadata": {
    "collapsed": false,
    "pycharm": {
     "name": "#%%\n"
    }
   },
   "outputs": [],
   "source": [
    "df_merged"
   ]
  },
  {
   "cell_type": "markdown",
   "id": "3de567e7",
   "metadata": {},
   "source": [
    "## Confusion Matrices"
   ]
  },
  {
   "cell_type": "markdown",
   "id": "a26e01e8",
   "metadata": {},
   "source": [
    "### Overall all confusion matrix"
   ]
  },
  {
   "cell_type": "code",
   "execution_count": null,
   "id": "f51274ee",
   "metadata": {},
   "outputs": [],
   "source": [
    "TP = df_merged[(df_merged[\"is_pred_correct\"] == True) & (df_merged[\"response\"] == True)]\n",
    "TN = df_merged[(df_merged[\"is_pred_correct\"] == False) & (df_merged[\"response\"] == False)]\n",
    "FN = df_merged[(df_merged[\"is_pred_correct\"] == True) & (df_merged[\"response\"] == False)]\n",
    "FP = df_merged[(df_merged[\"is_pred_correct\"] == False) & (df_merged[\"response\"] == True)]\n",
    "\n",
    "cm = np.array([[len(TP),len(FN)],[len(FP),len(TN)]])\n",
    "cm = pd.DataFrame(cm, index=[\"model predicted True\", \"model predicted False\"],\n",
    "                  columns=[\"user predicted True\", \"user predicted False\"])\n",
    "sn.set(font_scale=1.4) # for label size\n",
    "sn.heatmap(cm, annot=True, annot_kws={\"size\": 16},cbar=False,fmt=\"g\") # font size\n",
    "\n",
    "plt.show()\n",
    "acc = (len(TP)+len(TN))/(len(TP)+len(TN)+len(FP)+len(FN))\n",
    "print(\"Accuracy is\",str(acc))"
   ]
  },
  {
   "cell_type": "markdown",
   "id": "74cc6ea8",
   "metadata": {},
   "source": [
    "### Model wise confusion matrix"
   ]
  },
  {
   "cell_type": "markdown",
   "id": "07b41eef",
   "metadata": {
    "pycharm": {
     "name": "#%% md\n"
    }
   },
   "source": [
    "#### VGG"
   ]
  },
  {
   "cell_type": "code",
   "execution_count": null,
   "id": "133c4bc0",
   "metadata": {
    "pycharm": {
     "name": "#%%\n"
    }
   },
   "outputs": [],
   "source": [
    "tmp = df_merged[df_merged[\"model\"]==\"vgg\"]\n",
    "TP = tmp[(tmp[\"is_pred_correct\"] == True) & (tmp[\"response\"] == True)]\n",
    "TN = tmp[(tmp[\"is_pred_correct\"] == False) & (tmp[\"response\"] == False)]\n",
    "FN = tmp[(tmp[\"is_pred_correct\"] == True) & (tmp[\"response\"] == False)]\n",
    "FP = tmp[(tmp[\"is_pred_correct\"] == False) & (tmp[\"response\"] == True)]\n",
    "\n",
    "cm = np.array([[len(TP),len(FN)],[len(FP),len(TN)]])\n",
    "cm = pd.DataFrame(cm, index=[\"model predicted True\", \"model predicted False\"],\n",
    "                  columns=[\"user predicted True\", \"user predicted False\"])\n",
    "sn.set(font_scale=1.4) # for label size\n",
    "sn.heatmap(cm, annot=True, annot_kws={\"size\": 16},cbar=False,fmt=\"g\") # font size\n",
    "\n",
    "plt.show()\n",
    "acc = (len(TP)+len(TN))/(len(TP)+len(TN)+len(FP)+len(FN))\n",
    "print(\"Accuracy is\",str(acc))"
   ]
  },
  {
   "cell_type": "markdown",
   "id": "b59d109a",
   "metadata": {},
   "source": [
    "#### AlexNet"
   ]
  },
  {
   "cell_type": "code",
   "execution_count": null,
   "id": "a2f03b76",
   "metadata": {},
   "outputs": [],
   "source": [
    "tmp = df_merged[df_merged[\"model\"]==\"alex\"]\n",
    "TP = tmp[(tmp[\"is_pred_correct\"] == True) & (tmp[\"response\"] == True)]\n",
    "TN = tmp[(tmp[\"is_pred_correct\"] == False) & (tmp[\"response\"] == False)]\n",
    "FN = tmp[(tmp[\"is_pred_correct\"] == True) & (tmp[\"response\"] == False)]\n",
    "FP = tmp[(tmp[\"is_pred_correct\"] == False) & (tmp[\"response\"] == True)]\n",
    "\n",
    "cm = np.array([[len(TP),len(FN)],[len(FP),len(TN)]])\n",
    "cm = pd.DataFrame(cm, index=[\"model predicted True\", \"model predicted False\"],\n",
    "                  columns=[\"user predicted True\", \"user predicted False\"])\n",
    "sn.set(font_scale=1.4) # for label size\n",
    "sn.heatmap(cm, annot=True, annot_kws={\"size\": 16},cbar=False,fmt=\"g\") # font size\n",
    "\n",
    "plt.show()\n",
    "acc = (len(TP)+len(TN))/(len(TP)+len(TN)+len(FP)+len(FN))\n",
    "print(\"Accuracy is\",str(acc))"
   ]
  },
  {
   "cell_type": "markdown",
   "id": "45f3fe9b",
   "metadata": {
    "pycharm": {
     "name": "#%% md\n"
    }
   },
   "source": [
    "### Method wise"
   ]
  },
  {
   "cell_type": "markdown",
   "id": "66951ae2",
   "metadata": {
    "pycharm": {
     "name": "#%% md\n"
    }
   },
   "source": [
    "#### LRP"
   ]
  },
  {
   "cell_type": "code",
   "execution_count": null,
   "id": "3a53a64d",
   "metadata": {
    "pycharm": {
     "name": "#%%\n"
    }
   },
   "outputs": [],
   "source": [
    "tmp = df_merged[df_merged[\"method\"]==\"LRP\"]\n",
    "TP = tmp[(tmp[\"is_pred_correct\"] == True) & (tmp[\"response\"] == True)]\n",
    "TN = tmp[(tmp[\"is_pred_correct\"] == False) & (tmp[\"response\"] == False)]\n",
    "FN = tmp[(tmp[\"is_pred_correct\"] == True) & (tmp[\"response\"] == False)]\n",
    "FP = tmp[(tmp[\"is_pred_correct\"] == False) & (tmp[\"response\"] == True)]\n",
    "\n",
    "cm = np.array([[len(TP),len(FN)],[len(FP),len(TN)]])\n",
    "cm = pd.DataFrame(cm, index=[\"model predicted True\", \"model predicted False\"],\n",
    "                  columns=[\"user predicted True\", \"user predicted False\"])\n",
    "sn.set(font_scale=1.4) # for label size\n",
    "sn.heatmap(cm, annot=True, annot_kws={\"size\": 16},cbar=False,fmt=\"g\") # font size\n",
    "\n",
    "plt.show()\n",
    "acc = (len(TP)+len(TN))/(len(TP)+len(TN)+len(FP)+len(FN))\n",
    "print(\"Accuracy is\",str(acc))"
   ]
  },
  {
   "cell_type": "markdown",
   "id": "e275bf16",
   "metadata": {
    "pycharm": {
     "name": "#%% md\n"
    }
   },
   "source": [
    "#### gradcam"
   ]
  },
  {
   "cell_type": "code",
   "execution_count": null,
   "id": "cb6dfa9a",
   "metadata": {
    "pycharm": {
     "name": "#%%\n"
    }
   },
   "outputs": [],
   "source": [
    "tmp = df_merged[df_merged[\"method\"]==\"gradCAM\"]\n",
    "TP = tmp[(tmp[\"is_pred_correct\"] == True) & (tmp[\"response\"] == True)]\n",
    "TN = tmp[(tmp[\"is_pred_correct\"] == False) & (tmp[\"response\"] == False)]\n",
    "FN = tmp[(tmp[\"is_pred_correct\"] == True) & (tmp[\"response\"] == False)]\n",
    "FP = tmp[(tmp[\"is_pred_correct\"] == False) & (tmp[\"response\"] == True)]\n",
    "\n",
    "cm = np.array([[len(TP),len(FN)],[len(FP),len(TN)]])\n",
    "cm = pd.DataFrame(cm, index=[\"model predicted True\", \"model predicted False\"],\n",
    "                  columns=[\"user predicted True\", \"user predicted False\"])\n",
    "sn.set(font_scale=1.4) # for label size\n",
    "sn.heatmap(cm, annot=True, annot_kws={\"size\": 16},cbar=False,fmt=\"g\") # font size\n",
    "\n",
    "plt.show()\n",
    "acc = (len(TP)+len(TN))/(len(TP)+len(TN)+len(FP)+len(FN))\n",
    "print(\"Accuracy is\",str(acc))"
   ]
  },
  {
   "cell_type": "markdown",
   "id": "6bbd480a",
   "metadata": {
    "pycharm": {
     "name": "#%% md\n"
    }
   },
   "source": [
    "#### LIME"
   ]
  },
  {
   "cell_type": "code",
   "execution_count": null,
   "id": "44284be6",
   "metadata": {
    "pycharm": {
     "name": "#%%\n"
    }
   },
   "outputs": [],
   "source": [
    "tmp = df_merged[df_merged[\"method\"]==\"LIME\"]\n",
    "TP = tmp[(tmp[\"is_pred_correct\"] == True) & (tmp[\"response\"] == True)]\n",
    "TN = tmp[(tmp[\"is_pred_correct\"] == False) & (tmp[\"response\"] == False)]\n",
    "FN = tmp[(tmp[\"is_pred_correct\"] == True) & (tmp[\"response\"] == False)]\n",
    "FP = tmp[(tmp[\"is_pred_correct\"] == False) & (tmp[\"response\"] == True)]\n",
    "\n",
    "cm = np.array([[len(TP),len(FN)],[len(FP),len(TN)]])\n",
    "cm = pd.DataFrame(cm, index=[\"model predicted True\", \"model predicted False\"],\n",
    "                  columns=[\"user predicted True\", \"user predicted False\"])\n",
    "sn.set(font_scale=1.4) # for label size\n",
    "sn.heatmap(cm, annot=True, annot_kws={\"size\": 16},cbar=False,fmt=\"g\") # font size\n",
    "\n",
    "plt.show()\n",
    "acc = (len(TP)+len(TN))/(len(TP)+len(TN)+len(FP)+len(FN))\n",
    "print(\"Accuracy is\",str(acc))"
   ]
  },
  {
   "cell_type": "markdown",
   "id": "c4d3cd74",
   "metadata": {
    "pycharm": {
     "name": "#%% md\n"
    }
   },
   "source": [
    "#### SHAP"
   ]
  },
  {
   "cell_type": "code",
   "execution_count": null,
   "id": "67ea770f",
   "metadata": {
    "pycharm": {
     "name": "#%%\n"
    }
   },
   "outputs": [],
   "source": [
    "tmp = df_merged[df_merged[\"method\"]==\"SHAP\"]\n",
    "TP = tmp[(tmp[\"is_pred_correct\"] == True) & (tmp[\"response\"] == True)]\n",
    "TN = tmp[(tmp[\"is_pred_correct\"] == False) & (tmp[\"response\"] == False)]\n",
    "FN = tmp[(tmp[\"is_pred_correct\"] == True) & (tmp[\"response\"] == False)]\n",
    "FP = tmp[(tmp[\"is_pred_correct\"] == False) & (tmp[\"response\"] == True)]\n",
    "\n",
    "cm = np.array([[len(TP),len(FN)],[len(FP),len(TN)]])\n",
    "cm = pd.DataFrame(cm, index=[\"model predicted True\", \"model predicted False\"],\n",
    "                  columns=[\"user predicted True\", \"user predicted False\"])\n",
    "sn.set(font_scale=1.4) # for label size\n",
    "sn.heatmap(cm, annot=True, annot_kws={\"size\": 16},cbar=False,fmt=\"g\") # font size\n",
    "\n",
    "plt.show()\n",
    "acc = (len(TP)+len(TN))/(len(TP)+len(TN)+len(FP)+len(FN))\n",
    "print(\"Accuracy is\",str(acc))"
   ]
  },
  {
   "cell_type": "markdown",
   "id": "48698abf",
   "metadata": {},
   "source": [
    "#### ConfidenceScores"
   ]
  },
  {
   "cell_type": "code",
   "execution_count": null,
   "id": "1473a136",
   "metadata": {
    "pycharm": {
     "name": "#%%\n"
    }
   },
   "outputs": [],
   "source": [
    "tmp = df_merged[df_merged[\"method\"]==\"ConfidenceScores\"]\n",
    "TP = tmp[(tmp[\"is_pred_correct\"] == True) & (tmp[\"response\"] == True)]\n",
    "TN = tmp[(tmp[\"is_pred_correct\"] == False) & (tmp[\"response\"] == False)]\n",
    "FN = tmp[(tmp[\"is_pred_correct\"] == True) & (tmp[\"response\"] == False)]\n",
    "FP = tmp[(tmp[\"is_pred_correct\"] == False) & (tmp[\"response\"] == True)]\n",
    "\n",
    "cm = np.array([[len(TP),len(FN)],[len(FP),len(TN)]])\n",
    "cm = pd.DataFrame(cm, index=[\"model predicted True\", \"model predicted False\"],\n",
    "                  columns=[\"user predicted True\", \"user predicted False\"])\n",
    "sn.set(font_scale=1.4) # for label size\n",
    "sn.heatmap(cm, annot=True, annot_kws={\"size\": 16},cbar=False,fmt=\"g\") # font size\n",
    "\n",
    "plt.show()\n",
    "acc = (len(TP)+len(TN))/(len(TP)+len(TN)+len(FP)+len(FN))\n",
    "print(\"Accuracy is\",str(acc))"
   ]
  },
  {
   "cell_type": "markdown",
   "id": "737730a4",
   "metadata": {},
   "source": [
    "#### IntegratedGradients"
   ]
  },
  {
   "cell_type": "code",
   "execution_count": null,
   "id": "9ba05b1c",
   "metadata": {
    "pycharm": {
     "name": "#%%\n"
    }
   },
   "outputs": [],
   "source": [
    "tmp = df_merged[df_merged[\"method\"]==\"IntegratedGradients\"]\n",
    "TP = tmp[(tmp[\"is_pred_correct\"] == True) & (tmp[\"response\"] == True)]\n",
    "TN = tmp[(tmp[\"is_pred_correct\"] == False) & (tmp[\"response\"] == False)]\n",
    "FN = tmp[(tmp[\"is_pred_correct\"] == True) & (tmp[\"response\"] == False)]\n",
    "FP = tmp[(tmp[\"is_pred_correct\"] == False) & (tmp[\"response\"] == True)]\n",
    "\n",
    "cm = np.array([[len(TP),len(FN)],[len(FP),len(TN)]])\n",
    "cm = pd.DataFrame(cm, index=[\"model predicted True\", \"model predicted False\"],\n",
    "                  columns=[\"user predicted True\", \"user predicted False\"])\n",
    "sn.set(font_scale=1.4) # for label size\n",
    "sn.heatmap(cm, annot=True, annot_kws={\"size\": 16},cbar=False,fmt=\"g\") # font size\n",
    "\n",
    "plt.show()\n",
    "acc = (len(TP)+len(TN))/(len(TP)+len(TN)+len(FP)+len(FN))\n",
    "print(\"Accuracy is\",str(acc))"
   ]
  },
  {
   "cell_type": "markdown",
   "id": "eeb818f4",
   "metadata": {
    "pycharm": {
     "name": "#%% md\n"
    }
   },
   "source": [
    "### questionnaire wise"
   ]
  },
  {
   "cell_type": "markdown",
   "id": "969ee153",
   "metadata": {
    "pycharm": {
     "name": "#%% md\n"
    }
   },
   "source": [
    "#### questionnaire 1"
   ]
  },
  {
   "cell_type": "code",
   "execution_count": null,
   "id": "9106b59e",
   "metadata": {
    "pycharm": {
     "name": "#%%\n"
    }
   },
   "outputs": [],
   "source": [
    "tmp = df_merged[df_merged[\"question_code\"].apply(lambda x: \"B1\" in x)]\n",
    "TP = tmp[(tmp[\"is_pred_correct\"] == True) & (tmp[\"response\"] == True)]\n",
    "TN = tmp[(tmp[\"is_pred_correct\"] == False) & (tmp[\"response\"] == False)]\n",
    "FN = tmp[(tmp[\"is_pred_correct\"] == True) & (tmp[\"response\"] == False)]\n",
    "FP = tmp[(tmp[\"is_pred_correct\"] == False) & (tmp[\"response\"] == True)]\n",
    "\n",
    "cm = np.array([[len(TP),len(FN)],[len(FP),len(TN)]])\n",
    "cm = pd.DataFrame(cm, index=[\"model predicted True\", \"model predicted False\"],\n",
    "                  columns=[\"user predicted True\", \"user predicted False\"])\n",
    "sn.set(font_scale=1.4) # for label size\n",
    "sn.heatmap(cm, annot=True, annot_kws={\"size\": 16},cbar=False,fmt=\"g\") # font size\n",
    "\n",
    "plt.show()\n",
    "acc = (len(TP)+len(TN))/(len(TP)+len(TN)+len(FP)+len(FN))\n",
    "print(\"Accuracy is\",str(acc))"
   ]
  },
  {
   "cell_type": "markdown",
   "id": "4458f30e",
   "metadata": {
    "pycharm": {
     "name": "#%% md\n"
    }
   },
   "source": [
    "#### questionnaire 2"
   ]
  },
  {
   "cell_type": "code",
   "execution_count": null,
   "id": "fdf78394",
   "metadata": {
    "pycharm": {
     "name": "#%%\n"
    }
   },
   "outputs": [],
   "source": [
    "tmp = df_merged[df_merged[\"question_code\"].apply(lambda x: \"B2\" in x)]\n",
    "TP = tmp[(tmp[\"is_pred_correct\"] == True) & (tmp[\"response\"] == True)]\n",
    "TN = tmp[(tmp[\"is_pred_correct\"] == False) & (tmp[\"response\"] == False)]\n",
    "FN = tmp[(tmp[\"is_pred_correct\"] == True) & (tmp[\"response\"] == False)]\n",
    "FP = tmp[(tmp[\"is_pred_correct\"] == False) & (tmp[\"response\"] == True)]\n",
    "\n",
    "cm = np.array([[len(TP),len(FN)],[len(FP),len(TN)]])\n",
    "cm = pd.DataFrame(cm, index=[\"model predicted True\", \"model predicted False\"],\n",
    "                  columns=[\"user predicted True\", \"user predicted False\"])\n",
    "sn.set(font_scale=1.4) # for label size\n",
    "sn.heatmap(cm, annot=True, annot_kws={\"size\": 16},cbar=False,fmt=\"g\") # font size\n",
    "\n",
    "plt.show()\n",
    "acc = (len(TP)+len(TN))/(len(TP)+len(TN)+len(FP)+len(FN))\n",
    "print(\"Accuracy is\",str(acc))"
   ]
  },
  {
   "cell_type": "markdown",
   "id": "3842a50d",
   "metadata": {
    "pycharm": {
     "name": "#%% md\n"
    }
   },
   "source": [
    "#### questionnaire 3"
   ]
  },
  {
   "cell_type": "code",
   "execution_count": null,
   "id": "801545bb",
   "metadata": {
    "pycharm": {
     "name": "#%%\n"
    }
   },
   "outputs": [],
   "source": [
    "tmp = df_merged[df_merged[\"question_code\"].apply(lambda x: \"B3\" in x)]\n",
    "TP = tmp[(tmp[\"is_pred_correct\"] == True) & (tmp[\"response\"] == True)]\n",
    "TN = tmp[(tmp[\"is_pred_correct\"] == False) & (tmp[\"response\"] == False)]\n",
    "FN = tmp[(tmp[\"is_pred_correct\"] == True) & (tmp[\"response\"] == False)]\n",
    "FP = tmp[(tmp[\"is_pred_correct\"] == False) & (tmp[\"response\"] == True)]\n",
    "\n",
    "cm = np.array([[len(TP),len(FN)],[len(FP),len(TN)]])\n",
    "cm = pd.DataFrame(cm, index=[\"model predicted True\", \"model predicted False\"],\n",
    "                  columns=[\"user predicted True\", \"user predicted False\"])\n",
    "sn.set(font_scale=1.4) # for label size\n",
    "sn.heatmap(cm, annot=True, annot_kws={\"size\": 16},cbar=False,fmt=\"g\") # font size\n",
    "\n",
    "plt.show()\n",
    "acc = (len(TP)+len(TN))/(len(TP)+len(TN)+len(FP)+len(FN))\n",
    "print(\"Accuracy is\",str(acc))"
   ]
  },
  {
   "cell_type": "markdown",
   "id": "be527c41",
   "metadata": {},
   "source": [
    "#### questionnaire 4"
   ]
  },
  {
   "cell_type": "code",
   "execution_count": null,
   "id": "9c7af420",
   "metadata": {
    "pycharm": {
     "name": "#%%\n"
    }
   },
   "outputs": [],
   "source": [
    "tmp = df_merged[df_merged[\"question_code\"].apply(lambda x: \"B4\" in x)]\n",
    "TP = tmp[(tmp[\"is_pred_correct\"] == True) & (tmp[\"response\"] == True)]\n",
    "TN = tmp[(tmp[\"is_pred_correct\"] == False) & (tmp[\"response\"] == False)]\n",
    "FN = tmp[(tmp[\"is_pred_correct\"] == True) & (tmp[\"response\"] == False)]\n",
    "FP = tmp[(tmp[\"is_pred_correct\"] == False) & (tmp[\"response\"] == True)]\n",
    "\n",
    "cm = np.array([[len(TP),len(FN)],[len(FP),len(TN)]])\n",
    "cm = pd.DataFrame(cm, index=[\"model predicted True\", \"model predicted False\"],\n",
    "                  columns=[\"user predicted True\", \"user predicted False\"])\n",
    "sn.set(font_scale=1.4) # for label size\n",
    "sn.heatmap(cm, annot=True, annot_kws={\"size\": 16},cbar=False,fmt=\"g\") # font size\n",
    "\n",
    "plt.show()\n",
    "acc = (len(TP)+len(TN))/(len(TP)+len(TN)+len(FP)+len(FN))\n",
    "print(\"Accuracy is\",str(acc))"
   ]
  },
  {
   "cell_type": "markdown",
   "id": "6ba9c474",
   "metadata": {
    "pycharm": {
     "name": "#%% md\n"
    }
   },
   "source": [
    "#### questionnaire 5"
   ]
  },
  {
   "cell_type": "code",
   "execution_count": null,
   "id": "566e27ca",
   "metadata": {
    "pycharm": {
     "name": "#%%\n"
    }
   },
   "outputs": [],
   "source": [
    "tmp = df_merged[df_merged[\"question_code\"].apply(lambda x: \"B5\" in x)]\n",
    "TP = tmp[(tmp[\"is_pred_correct\"] == True) & (tmp[\"response\"] == True)]\n",
    "TN = tmp[(tmp[\"is_pred_correct\"] == False) & (tmp[\"response\"] == False)]\n",
    "FN = tmp[(tmp[\"is_pred_correct\"] == True) & (tmp[\"response\"] == False)]\n",
    "FP = tmp[(tmp[\"is_pred_correct\"] == False) & (tmp[\"response\"] == True)]\n",
    "\n",
    "cm = np.array([[len(TP),len(FN)],[len(FP),len(TN)]])\n",
    "cm = pd.DataFrame(cm, index=[\"model predicted True\", \"model predicted False\"],\n",
    "                  columns=[\"user predicted True\", \"user predicted False\"])\n",
    "sn.set(font_scale=1.4) # for label size\n",
    "sn.heatmap(cm, annot=True, annot_kws={\"size\": 16},cbar=False,fmt=\"g\") # font size\n",
    "\n",
    "plt.show()\n",
    "acc = (len(TP)+len(TN))/(len(TP)+len(TN)+len(FP)+len(FN))\n",
    "print(\"Accuracy is\",str(acc))"
   ]
  },
  {
   "cell_type": "markdown",
   "id": "a2e23e10",
   "metadata": {
    "pycharm": {
     "name": "#%% md\n"
    }
   },
   "source": [
    "#### questionnaire 6"
   ]
  },
  {
   "cell_type": "code",
   "execution_count": null,
   "id": "04be690c",
   "metadata": {
    "pycharm": {
     "name": "#%%\n"
    }
   },
   "outputs": [],
   "source": [
    "tmp = df_merged[df_merged[\"question_code\"].apply(lambda x: \"B6\" in x)]\n",
    "TP = tmp[(tmp[\"is_pred_correct\"] == True) & (tmp[\"response\"] == True)]\n",
    "TN = tmp[(tmp[\"is_pred_correct\"] == False) & (tmp[\"response\"] == False)]\n",
    "FN = tmp[(tmp[\"is_pred_correct\"] == True) & (tmp[\"response\"] == False)]\n",
    "FP = tmp[(tmp[\"is_pred_correct\"] == False) & (tmp[\"response\"] == True)]\n",
    "\n",
    "cm = np.array([[len(TP),len(FN)],[len(FP),len(TN)]])\n",
    "cm = pd.DataFrame(cm, index=[\"model predicted True\", \"model predicted False\"],\n",
    "                  columns=[\"user predicted True\", \"user predicted False\"])\n",
    "sn.set(font_scale=1.4) # for label size\n",
    "sn.heatmap(cm, annot=True, annot_kws={\"size\": 16},cbar=False,fmt=\"g\") # font size\n",
    "\n",
    "plt.show()\n",
    "acc = (len(TP)+len(TN))/(len(TP)+len(TN)+len(FP)+len(FN))\n",
    "print(\"Accuracy is\",str(acc))"
   ]
  },
  {
   "cell_type": "markdown",
   "id": "27962d2e",
   "metadata": {
    "pycharm": {
     "name": "#%% md\n"
    }
   },
   "source": [
    "#### questionnaire 7"
   ]
  },
  {
   "cell_type": "code",
   "execution_count": null,
   "id": "876463ae",
   "metadata": {
    "pycharm": {
     "name": "#%%\n"
    }
   },
   "outputs": [],
   "source": [
    "tmp = df_merged[df_merged[\"question_code\"].apply(lambda x: \"B7\" in x)]\n",
    "TP = tmp[(tmp[\"is_pred_correct\"] == True) & (tmp[\"response\"] == True)]\n",
    "TN = tmp[(tmp[\"is_pred_correct\"] == False) & (tmp[\"response\"] == False)]\n",
    "FN = tmp[(tmp[\"is_pred_correct\"] == True) & (tmp[\"response\"] == False)]\n",
    "FP = tmp[(tmp[\"is_pred_correct\"] == False) & (tmp[\"response\"] == True)]\n",
    "\n",
    "cm = np.array([[len(TP),len(FN)],[len(FP),len(TN)]])\n",
    "cm = pd.DataFrame(cm, index=[\"model predicted True\", \"model predicted False\"],\n",
    "                  columns=[\"user predicted True\", \"user predicted False\"])\n",
    "sn.set(font_scale=1.4) # for label size\n",
    "sn.heatmap(cm, annot=True, annot_kws={\"size\": 16},cbar=False,fmt=\"g\") # font size\n",
    "\n",
    "plt.show()\n",
    "acc = (len(TP)+len(TN))/(len(TP)+len(TN)+len(FP)+len(FN))\n",
    "print(\"Accuracy is\",str(acc))"
   ]
  },
  {
   "cell_type": "markdown",
   "id": "545a5283",
   "metadata": {
    "pycharm": {
     "name": "#%% md\n"
    }
   },
   "source": [
    "#### questionnaire 8"
   ]
  },
  {
   "cell_type": "code",
   "execution_count": null,
   "id": "28cab9c7",
   "metadata": {
    "pycharm": {
     "name": "#%%\n"
    }
   },
   "outputs": [],
   "source": [
    "tmp = df_merged[df_merged[\"question_code\"].apply(lambda x: \"B8\" in x)]\n",
    "TP = tmp[(tmp[\"is_pred_correct\"] == True) & (tmp[\"response\"] == True)]\n",
    "TN = tmp[(tmp[\"is_pred_correct\"] == False) & (tmp[\"response\"] == False)]\n",
    "FN = tmp[(tmp[\"is_pred_correct\"] == True) & (tmp[\"response\"] == False)]\n",
    "FP = tmp[(tmp[\"is_pred_correct\"] == False) & (tmp[\"response\"] == True)]\n",
    "\n",
    "cm = np.array([[len(TP),len(FN)],[len(FP),len(TN)]])\n",
    "cm = pd.DataFrame(cm, index=[\"model predicted True\", \"model predicted False\"],\n",
    "                  columns=[\"user predicted True\", \"user predicted False\"])\n",
    "sn.set(font_scale=1.4) # for label size\n",
    "sn.heatmap(cm, annot=True, annot_kws={\"size\": 16},cbar=False,fmt=\"g\") # font size\n",
    "\n",
    "plt.show()\n",
    "acc = (len(TP)+len(TN))/(len(TP)+len(TN)+len(FP)+len(FN))\n",
    "print(\"Accuracy is\",str(acc))"
   ]
  },
  {
   "cell_type": "markdown",
   "id": "9eeb82f6",
   "metadata": {},
   "source": [
    "#### questionnaire 9"
   ]
  },
  {
   "cell_type": "code",
   "execution_count": null,
   "id": "084adb0c",
   "metadata": {
    "pycharm": {
     "name": "#%%\n"
    }
   },
   "outputs": [],
   "source": [
    "tmp = df_merged[df_merged[\"question_code\"].apply(lambda x: \"B9\" in x)]\n",
    "TP = tmp[(tmp[\"is_pred_correct\"] == True) & (tmp[\"response\"] == True)]\n",
    "TN = tmp[(tmp[\"is_pred_correct\"] == False) & (tmp[\"response\"] == False)]\n",
    "FN = tmp[(tmp[\"is_pred_correct\"] == True) & (tmp[\"response\"] == False)]\n",
    "FP = tmp[(tmp[\"is_pred_correct\"] == False) & (tmp[\"response\"] == True)]\n",
    "\n",
    "cm = np.array([[len(TP),len(FN)],[len(FP),len(TN)]])\n",
    "cm = pd.DataFrame(cm, index=[\"model predicted True\", \"model predicted False\"],\n",
    "                  columns=[\"user predicted True\", \"user predicted False\"])\n",
    "sn.set(font_scale=1.4) # for label size\n",
    "sn.heatmap(cm, annot=True, annot_kws={\"size\": 16},cbar=False,fmt=\"g\") # font size\n",
    "\n",
    "plt.show()\n",
    "acc = (len(TP)+len(TN))/(len(TP)+len(TN)+len(FP)+len(FN))\n",
    "print(\"Accuracy is\",str(acc))"
   ]
  },
  {
   "cell_type": "markdown",
   "id": "f06851fd",
   "metadata": {},
   "source": [
    "#### questionnaire 10"
   ]
  },
  {
   "cell_type": "code",
   "execution_count": null,
   "id": "e09cdbc4",
   "metadata": {
    "pycharm": {
     "name": "#%%\n"
    }
   },
   "outputs": [],
   "source": [
    "tmp = df_merged[df_merged[\"question_code\"].apply(lambda x: \"C1\" in x)]\n",
    "TP = tmp[(tmp[\"is_pred_correct\"] == True) & (tmp[\"response\"] == True)]\n",
    "TN = tmp[(tmp[\"is_pred_correct\"] == False) & (tmp[\"response\"] == False)]\n",
    "FN = tmp[(tmp[\"is_pred_correct\"] == True) & (tmp[\"response\"] == False)]\n",
    "FP = tmp[(tmp[\"is_pred_correct\"] == False) & (tmp[\"response\"] == True)]\n",
    "\n",
    "cm = np.array([[len(TP),len(FN)],[len(FP),len(TN)]])\n",
    "cm = pd.DataFrame(cm, index=[\"model predicted True\", \"model predicted False\"],\n",
    "                  columns=[\"user predicted True\", \"user predicted False\"])\n",
    "sn.set(font_scale=1.4) # for label size\n",
    "sn.heatmap(cm, annot=True, annot_kws={\"size\": 16},cbar=False,fmt=\"g\") # font size\n",
    "\n",
    "plt.show()\n",
    "acc = (len(TP)+len(TN))/(len(TP)+len(TN)+len(FP)+len(FN))\n",
    "print(\"Accuracy is\",str(acc))"
   ]
  },
  {
   "cell_type": "markdown",
   "id": "ce24690a",
   "metadata": {},
   "source": [
    "#### questionnaire 11"
   ]
  },
  {
   "cell_type": "code",
   "execution_count": null,
   "id": "54115271",
   "metadata": {
    "pycharm": {
     "is_executing": true,
     "name": "#%%\n"
    }
   },
   "outputs": [],
   "source": [
    "tmp = df_merged[df_merged[\"question_code\"].apply(lambda x: \"C2\" in x)]\n",
    "TP = tmp[(tmp[\"is_pred_correct\"] == True) & (tmp[\"response\"] == True)]\n",
    "TN = tmp[(tmp[\"is_pred_correct\"] == False) & (tmp[\"response\"] == False)]\n",
    "FN = tmp[(tmp[\"is_pred_correct\"] == True) & (tmp[\"response\"] == False)]\n",
    "FP = tmp[(tmp[\"is_pred_correct\"] == False) & (tmp[\"response\"] == True)]\n",
    "\n",
    "cm = np.array([[len(TP),len(FN)],[len(FP),len(TN)]])\n",
    "cm = pd.DataFrame(cm, index=[\"model predicted True\", \"model predicted False\"],\n",
    "                  columns=[\"user predicted True\", \"user predicted False\"])\n",
    "sn.set(font_scale=1.4) # for label size\n",
    "sn.heatmap(cm, annot=True, annot_kws={\"size\": 16},cbar=False,fmt=\"g\") # font size\n",
    "\n",
    "plt.show()\n",
    "acc = (len(TP)+len(TN))/(len(TP)+len(TN)+len(FP)+len(FN))\n",
    "print(\"Accuracy is\",str(acc))"
   ]
  },
  {
   "cell_type": "markdown",
   "id": "5bcc5f37",
   "metadata": {},
   "source": [
    "#### questionnaire 12"
   ]
  },
  {
   "cell_type": "code",
   "execution_count": null,
   "id": "45612305",
   "metadata": {
    "pycharm": {
     "name": "#%%\n"
    }
   },
   "outputs": [],
   "source": [
    "tmp = df_merged[df_merged[\"question_code\"].apply(lambda x: \"C3\" in x)]\n",
    "TP = tmp[(tmp[\"is_pred_correct\"] == True) & (tmp[\"response\"] == True)]\n",
    "TN = tmp[(tmp[\"is_pred_correct\"] == False) & (tmp[\"response\"] == False)]\n",
    "FN = tmp[(tmp[\"is_pred_correct\"] == True) & (tmp[\"response\"] == False)]\n",
    "FP = tmp[(tmp[\"is_pred_correct\"] == False) & (tmp[\"response\"] == True)]\n",
    "\n",
    "cm = np.array([[len(TP),len(FN)],[len(FP),len(TN)]])\n",
    "cm = pd.DataFrame(cm, index=[\"model predicted True\", \"model predicted False\"],\n",
    "                  columns=[\"user predicted True\", \"user predicted False\"])\n",
    "sn.set(font_scale=1.4) # for label size\n",
    "sn.heatmap(cm, annot=True, annot_kws={\"size\": 16},cbar=False,fmt=\"g\") # font size\n",
    "\n",
    "plt.show()\n",
    "acc = (len(TP)+len(TN))/(len(TP)+len(TN)+len(FP)+len(FN))\n",
    "print(\"Accuracy is\",str(acc))"
   ]
  },
  {
   "cell_type": "markdown",
   "id": "a622e8df",
   "metadata": {
    "pycharm": {
     "name": "#%% md\n"
    }
   },
   "source": [
    "### Fixed Questions"
   ]
  },
  {
   "cell_type": "code",
   "execution_count": null,
   "id": "928fecf6",
   "metadata": {
    "pycharm": {
     "name": "#%%\n"
    }
   },
   "outputs": [],
   "source": [
    "fixed_img_idxs = df_quest_meta[\"img_idx\"].value_counts()[df_quest_meta[\"img_idx\"].value_counts() == 12].index\n",
    "df_quest_meta_fixed = df_quest_meta[df_quest_meta[\"img_idx\"].isin(fixed_img_idxs)]"
   ]
  },
  {
   "cell_type": "code",
   "execution_count": null,
   "id": "6dd775f2",
   "metadata": {
    "collapsed": false,
    "pycharm": {
     "name": "#%%\n"
    }
   },
   "outputs": [],
   "source": [
    "df_merged_fixed = df_merged[df_merged[\"img_idx\"].isin(fixed_img_idxs)]\n",
    "\n",
    "print(df_merged_fixed)"
   ]
  },
  {
   "cell_type": "markdown",
   "id": "428d741e",
   "metadata": {
    "pycharm": {
     "name": "#%% md\n"
    }
   },
   "source": [
    "#### All fixed"
   ]
  },
  {
   "cell_type": "code",
   "execution_count": null,
   "id": "54740690",
   "metadata": {
    "pycharm": {
     "name": "#%%\n"
    }
   },
   "outputs": [],
   "source": [
    "tmp = df_merged_fixed\n",
    "TP = tmp[(tmp[\"is_pred_correct\"] == True) & (tmp[\"response\"] == True)]\n",
    "TN = tmp[(tmp[\"is_pred_correct\"] == False) & (tmp[\"response\"] == False)]\n",
    "FN = tmp[(tmp[\"is_pred_correct\"] == True) & (tmp[\"response\"] == False)]\n",
    "FP = tmp[(tmp[\"is_pred_correct\"] == False) & (tmp[\"response\"] == True)]\n",
    "\n",
    "cm = np.array([[len(TP),len(FN)],[len(FP),len(TN)]])\n",
    "cm = pd.DataFrame(cm, index=[\"model predicted True\", \"model predicted False\"],\n",
    "                  columns=[\"user predicted True\", \"user predicted False\"])\n",
    "sn.set(font_scale=1.4) # for label size\n",
    "sn.heatmap(cm, annot=True, annot_kws={\"size\": 16},cbar=False,fmt=\"g\") # font size\n",
    "\n",
    "plt.show()\n",
    "acc = (len(TP)+len(TN))/(len(TP)+len(TN)+len(FP)+len(FN))\n",
    "print(\"Accuracy is\",str(acc))"
   ]
  },
  {
   "cell_type": "markdown",
   "id": "eb112896",
   "metadata": {
    "pycharm": {
     "name": "#%% md\n"
    }
   },
   "source": [
    "## per method"
   ]
  },
  {
   "cell_type": "code",
   "execution_count": null,
   "id": "0c35843c",
   "metadata": {
    "collapsed": false,
    "pycharm": {
     "name": "#%%\n"
    }
   },
   "outputs": [],
   "source": [
    "methods = set(df_merged_fixed[\"method\"].tolist())\n",
    "for method in methods :\n",
    "    tmp = df_merged_fixed[df_merged_fixed[\"method\"]==method]\n",
    "    TP = tmp[(tmp[\"is_pred_correct\"] == True) & (tmp[\"response\"] == True)]\n",
    "    TN = tmp[(tmp[\"is_pred_correct\"] == False) & (tmp[\"response\"] == False)]\n",
    "    FN = tmp[(tmp[\"is_pred_correct\"] == True) & (tmp[\"response\"] == False)]\n",
    "    FP = tmp[(tmp[\"is_pred_correct\"] == False) & (tmp[\"response\"] == True)]\n",
    "\n",
    "    cm = np.array([[len(TP),len(FN)],[len(FP),len(TN)]])\n",
    "    cm = pd.DataFrame(cm, index=[\"model predicted True\", \"model predicted False\"],\n",
    "                  columns=[\"user predicted True\", \"user predicted False\"])\n",
    "    sn.set(font_scale=1.4) # for label size\n",
    "    sn.heatmap(cm, annot=True, annot_kws={\"size\": 16},cbar=False,fmt=\"g\") # font size\n",
    "\n",
    "    plt.show()\n",
    "    acc = (len(TP)+len(TN))/(len(TP)+len(TN)+len(FP)+len(FN))\n",
    "    print(\"Accuracy is\",str(acc), \"for\", method)"
   ]
  },
  {
   "cell_type": "code",
   "execution_count": null,
   "id": "79251c86",
   "metadata": {
    "pycharm": {
     "name": "#%%\n"
    }
   },
   "outputs": [],
   "source": [
    "labels = set(df_merged_fixed[\"label\"].tolist())\n",
    "models = set(df_merged_fixed[\"model\"].tolist())\n",
    "\n",
    "for model in models :\n",
    "    model_df = df_merged_fixed[df_merged_fixed[\"model\"]==model]\n",
    "    for label in labels :\n",
    "        tmp = model_df[model_df[\"label\"]==label]\n",
    "        TP = tmp[(tmp[\"is_pred_correct\"] == True) & (tmp[\"response\"] == True)]\n",
    "        TN = tmp[(tmp[\"is_pred_correct\"] == False) & (tmp[\"response\"] == False)]\n",
    "        FN = tmp[(tmp[\"is_pred_correct\"] == True) & (tmp[\"response\"] == False)]\n",
    "        FP = tmp[(tmp[\"is_pred_correct\"] == False) & (tmp[\"response\"] == True)]\n",
    "\n",
    "        cm = np.array([[len(TP),len(FN)],[len(FP),len(TN)]])\n",
    "        cm = pd.DataFrame(cm, index=[\"model predicted True\", \"model predicted False\"],\n",
    "                  columns=[\"user predicted True\", \"user predicted False\"])\n",
    "        sn.set(font_scale=1.4) # for label size\n",
    "        sn.heatmap(cm, annot=True, annot_kws={\"size\": 16},cbar=False,fmt=\"g\") # font size\n",
    "\n",
    "        plt.show()\n",
    "        acc = (len(TP)+len(TN))/(len(TP)+len(TN)+len(FP)+len(FN))\n",
    "        print(\"Accuracy is\",str(acc),\"for\", model, label)"
   ]
  }
 ],
 "metadata": {
  "kernelspec": {
   "display_name": "Python 3 (ipykernel)",
   "language": "python",
   "name": "python3"
  },
  "language_info": {
   "codemirror_mode": {
    "name": "ipython",
    "version": 3
   },
   "file_extension": ".py",
   "mimetype": "text/x-python",
   "name": "python",
   "nbconvert_exporter": "python",
   "pygments_lexer": "ipython3",
   "version": "3.8.13"
  }
 },
 "nbformat": 4,
 "nbformat_minor": 5
}
