{
 "cells": [
  {
   "cell_type": "code",
   "execution_count": 2,
   "id": "43b3cfa8",
   "metadata": {},
   "outputs": [
    {
     "ename": "ModuleNotFoundError",
     "evalue": "No module named 'mnist_tf'",
     "output_type": "error",
     "traceback": [
      "\u001b[1;31m---------------------------------------------------------------------------\u001b[0m",
      "\u001b[1;31mModuleNotFoundError\u001b[0m                       Traceback (most recent call last)",
      "\u001b[1;32m~\\AppData\\Local\\Temp\\ipykernel_65276\\2416671848.py\u001b[0m in \u001b[0;36m<module>\u001b[1;34m\u001b[0m\n\u001b[0;32m      3\u001b[0m \u001b[1;32mimport\u001b[0m \u001b[0mmatplotlib\u001b[0m\u001b[1;33m.\u001b[0m\u001b[0mpyplot\u001b[0m \u001b[1;32mas\u001b[0m \u001b[0mplt\u001b[0m\u001b[1;33m\u001b[0m\u001b[1;33m\u001b[0m\u001b[0m\n\u001b[0;32m      4\u001b[0m \u001b[1;33m\u001b[0m\u001b[0m\n\u001b[1;32m----> 5\u001b[1;33m \u001b[1;32mfrom\u001b[0m \u001b[0mmnist_tf\u001b[0m\u001b[1;33m.\u001b[0m\u001b[0mutils\u001b[0m \u001b[1;32mimport\u001b[0m \u001b[0msetup_mnist\u001b[0m\u001b[1;33m\u001b[0m\u001b[1;33m\u001b[0m\u001b[0m\n\u001b[0m",
      "\u001b[1;31mModuleNotFoundError\u001b[0m: No module named 'mnist_tf'"
     ]
    }
   ],
   "source": [
    "import numpy as np\n",
    "import constrastive_explaination_prototype.src as maxi\n",
    "import matplotlib.pyplot as plt"
   ]
  },
  {
   "cell_type": "code",
   "execution_count": null,
   "id": "9127809c",
   "metadata": {},
   "outputs": [],
   "source": [
    "def main():\n",
    "    data, model, AE = setup_mnist(\n",
    "        model_path=\"./experiments/mnist/models/mnist\",\n",
    "        ae_path=\"./experiments/mnist/models/AE_codec\",\n",
    "    )"
   ]
  },
  {
   "cell_type": "code",
   "execution_count": null,
   "id": "899d02ab",
   "metadata": {},
   "outputs": [],
   "source": [
    "inputs = np.array([data.test_data[10]])"
   ]
  },
  {
   "cell_type": "markdown",
   "id": "edfdf00e",
   "metadata": {},
   "source": [
    "# Serial implementation"
   ]
  },
  {
   "cell_type": "markdown",
   "id": "aa3815d4",
   "metadata": {},
   "source": [
    "## PN"
   ]
  },
  {
   "cell_type": "code",
   "execution_count": null,
   "id": "673bc5bc",
   "metadata": {},
   "outputs": [],
   "source": [
    "loss_class = maxi.TF_CEMLoss\n",
    "optimizer_class = maxi.SpectralAoExpGradOptimizer\n",
    "gradient_class = maxi.TF_Gradient\n",
    "\n",
    "loss_kwargs = {\"mode\": \"PP\", \"c\": 1, \"gamma\": 3, \"K\": 20, \"AE\": AE}\n",
    "optimizer_kwargs = {\"l1\": 0.025, \"l2\": 0.000025, \"eta\": 1.0, \"channels_first\": False}\n",
    "gradient_kwargs = {}"
   ]
  },
  {
   "cell_type": "code",
   "execution_count": null,
   "id": "a1482b65",
   "metadata": {},
   "outputs": [],
   "source": [
    "cem = maxi.ExplanationGenerator(\n",
    "    loss=loss_class,\n",
    "    optimizer=optimizer_class,\n",
    "    gradient=gradient_class,\n",
    "    num_iter=1000,\n",
    "    loss_kwargs=loss_kwargs,\n",
    "    optimizer_kwargs=optimizer_kwargs,\n",
    "    gradient_kwargs=gradient_kwargs,\n",
    "    save_freq=250,\n",
    "    verbose=True,\n",
    ")"
   ]
  },
  {
   "cell_type": "code",
   "execution_count": null,
   "id": "79465d87",
   "metadata": {},
   "outputs": [],
   "source": [
    "results, _ = cem.run(image=inputs, inference_call=model)"
   ]
  },
  {
   "cell_type": "code",
   "execution_count": null,
   "id": "43f8e0ff",
   "metadata": {},
   "outputs": [],
   "source": [
    "f, axarr = plt.subplots(1, len(results))\n",
    "for i, (iter, result) in enumerate(results.items()):\n",
    "    axarr[i].title.set_text(\"Iteration: \" + iter)\n",
    "    axarr[i].imshow(result.squeeze(axis=-1).squeeze(axis=0), cmap=\"gray\", vmin=-0.5, vmax=0.5)"
   ]
  },
  {
   "cell_type": "markdown",
   "id": "0aee37e4",
   "metadata": {},
   "source": [
    "## PP"
   ]
  },
  {
   "cell_type": "code",
   "execution_count": 2,
   "id": "540b4a40",
   "metadata": {},
   "outputs": [],
   "source": [
    "loss_kwargs = {\"mode\": \"PP\", \"c\": 1, \"gamma\": 3, \"K\": 20, \"AE\": AE}\n",
    "optimizer_kwargs = {\"l1\": 0.025, \"l2\": 0.000025, \"eta\": 1.0, \"channels_first\": False}\n",
    "gradient_kwargs = {\"mu\": None}"
   ]
  },
  {
   "cell_type": "code",
   "execution_count": null,
   "id": "01166998",
   "metadata": {},
   "outputs": [],
   "source": [
    "    cem = maxi.ExplanationGenerator(\n",
    "        loss=loss_class,\n",
    "        optimizer=optimizer_class,\n",
    "        gradient=gradient_class,\n",
    "        num_iter=1000,\n",
    "        loss_kwargs=loss_kwargs,\n",
    "        optimizer_kwargs=optimizer_kwargs,\n",
    "        gradient_kwargs=gradient_kwargs,\n",
    "        save_freq=250,\n",
    "        verbose=True,\n",
    "    )"
   ]
  },
  {
   "cell_type": "code",
   "execution_count": null,
   "id": "dbd99335",
   "metadata": {},
   "outputs": [],
   "source": [
    "results, _ = cem.run(image=inputs, inference_call=model)"
   ]
  },
  {
   "cell_type": "code",
   "execution_count": null,
   "id": "97479e9a",
   "metadata": {},
   "outputs": [],
   "source": [
    "f, axarr = plt.subplots(1, len(results))\n",
    "for i, (iter_, result) in enumerate(results.items()):\n",
    "    axarr[i].title.set_text(\"Iteration: \" + iter_)\n",
    "    axarr[i].imshow(result.squeeze(axis=-1).squeeze(axis=0), cmap=\"gray\", vmin=-0.5, vmax=0.5)"
   ]
  },
  {
   "cell_type": "markdown",
   "id": "9998967f",
   "metadata": {},
   "source": [
    "# Parallel implementation"
   ]
  },
  {
   "cell_type": "code",
   "execution_count": null,
   "id": "9e03919c",
   "metadata": {},
   "outputs": [],
   "source": []
  },
  {
   "cell_type": "code",
   "execution_count": null,
   "id": "dc777052",
   "metadata": {},
   "outputs": [],
   "source": []
  },
  {
   "cell_type": "code",
   "execution_count": null,
   "id": "d71c7ea3",
   "metadata": {},
   "outputs": [],
   "source": []
  },
  {
   "cell_type": "code",
   "execution_count": null,
   "id": "37a775f9",
   "metadata": {},
   "outputs": [],
   "source": []
  }
 ],
 "metadata": {
  "kernelspec": {
   "display_name": "Python 3 (ipykernel)",
   "language": "python",
   "name": "python3"
  },
  "language_info": {
   "codemirror_mode": {
    "name": "ipython",
    "version": 3
   },
   "file_extension": ".py",
   "mimetype": "text/x-python",
   "name": "python",
   "nbconvert_exporter": "python",
   "pygments_lexer": "ipython3",
   "version": "3.7.13"
  }
 },
 "nbformat": 4,
 "nbformat_minor": 5
}
