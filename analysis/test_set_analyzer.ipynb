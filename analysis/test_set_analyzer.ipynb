{
 "cells": [
  {
   "cell_type": "code",
   "execution_count": null,
   "metadata": {
    "pycharm": {
     "name": "#%%\n"
    }
   },
   "outputs": [],
   "source": [
    "from torchvision import datasets\n",
    "from models import Vgg16, AlexNet\n",
    "import random \n",
    "import numpy as np\n",
    "import pandas as pd\n",
    "import matplotlib.pyplot as plt\n",
    "from tqdm import tqdm\n",
    "import torch\n",
    "import tensorflow as tf\n",
    "\n",
    "from copy import deepcopy\n",
    "import itertools\n",
    "\n",
    "from methods import data_handler\n",
    "from PIL import Image"
   ]
  },
  {
   "cell_type": "markdown",
   "metadata": {
    "pycharm": {
     "name": "#%% md\n"
    }
   },
   "source": [
    "## Load test data"
   ]
  },
  {
   "cell_type": "code",
   "execution_count": null,
   "metadata": {
    "pycharm": {
     "name": "#%%\n"
    }
   },
   "outputs": [],
   "source": [
    "img_folder = datasets.ImageFolder(root=r'C:\\Users\\julia\\Dokumente\\GitHub\\development\\data\\imagenetv2-matched-frequency-format-val')"
   ]
  },
  {
   "cell_type": "code",
   "execution_count": null,
   "metadata": {
    "pycharm": {
     "name": "#%%\n"
    }
   },
   "outputs": [],
   "source": [
    "def sample_random_images(img_folder, number, seed=None):\n",
    "    images = []\n",
    "    img_paths = img_folder.imgs.copy()\n",
    "    if seed:\n",
    "        random.seed(seed)\n",
    "    for i in range(number):\n",
    "        rand_idx = random.randint(0, len(img_paths))\n",
    "        rand_img_path = img_paths.pop(rand_idx)[0]\n",
    "        rand_img = img_folder.loader(rand_img_path)\n",
    "        # resize\n",
    "        rand_img = rand_img.resize((224, 224))\n",
    "        # convert to np array\n",
    "        images.append(np.array(rand_img))\n",
    "    return np.array(images) / 255"
   ]
  },
  {
   "cell_type": "code",
   "execution_count": null,
   "metadata": {
    "pycharm": {
     "name": "#%%\n"
    }
   },
   "outputs": [],
   "source": [
    "def load_entire_val_set(img_folder):\n",
    "    \"\"\"\n",
    "    So liegen alle Bilder als np array vor; müssen aber als torch-tensor-vorliegen vorliegen\n",
    "    \"\"\"\n",
    "    images = []\n",
    "    labels_idx = []\n",
    "    for img_path in tqdm(img_folder.imgs):\n",
    "        rand_img = img_folder.loader(img_path[0])\n",
    "        # resize\n",
    "        rand_img = rand_img.resize((224, 224))\n",
    "        # convert to np array\n",
    "        images.append(np.array(rand_img))\n",
    "        labels_idx.append(int(img_path[0].split(\"\\\\\")[-2]))\n",
    "    return np.array(images), np.array(labels_idx)"
   ]
  },
  {
   "cell_type": "code",
   "execution_count": null,
   "metadata": {
    "pycharm": {
     "name": "#%%\n"
    }
   },
   "outputs": [],
   "source": [
    "images, labels_idx = load_entire_val_set(img_folder)"
   ]
  },
  {
   "cell_type": "code",
   "execution_count": null,
   "metadata": {
    "pycharm": {
     "name": "#%%\n"
    }
   },
   "outputs": [],
   "source": [
    "labels = data_handler.get_labels()"
   ]
  },
  {
   "cell_type": "markdown",
   "metadata": {
    "pycharm": {
     "name": "#%% md\n"
    }
   },
   "source": [
    "## Predict test data"
   ]
  },
  {
   "cell_type": "code",
   "execution_count": null,
   "metadata": {
    "pycharm": {
     "name": "#%%\n"
    }
   },
   "outputs": [],
   "source": [
    "vgg = Vgg16()\n",
    "alexnet = AlexNet()"
   ]
  },
  {
   "cell_type": "code",
   "execution_count": null,
   "metadata": {
    "pycharm": {
     "name": "#%%\n"
    }
   },
   "outputs": [],
   "source": [
    "model = tf.keras.applications.VGG16(\n",
    "    include_top=True,\n",
    "    weights='imagenet',\n",
    "    input_tensor=None,\n",
    "    input_shape=None,\n",
    "    pooling=None,\n",
    "    classes=1000\n",
    ")"
   ]
  },
  {
   "cell_type": "code",
   "execution_count": null,
   "metadata": {
    "pycharm": {
     "name": "#%%\n"
    }
   },
   "outputs": [],
   "source": [
    "IMG_IDX = 1100"
   ]
  },
  {
   "cell_type": "code",
   "execution_count": null,
   "metadata": {
    "pycharm": {
     "name": "#%%\n"
    }
   },
   "outputs": [],
   "source": [
    "input_preprocessed = tf.keras.applications.vgg16.preprocess_input(images[IMG_IDX].reshape((-1, ) + images[0].shape))"
   ]
  },
  {
   "cell_type": "code",
   "execution_count": null,
   "metadata": {
    "pycharm": {
     "name": "#%%\n"
    }
   },
   "outputs": [],
   "source": [
    "out_idx = model.predict(input_preprocessed).argmax()\n",
    "out_idx"
   ]
  },
  {
   "cell_type": "code",
   "execution_count": null,
   "metadata": {
    "pycharm": {
     "name": "#%%\n"
    }
   },
   "outputs": [],
   "source": [
    "images[IMG_IDX]"
   ]
  },
  {
   "cell_type": "code",
   "execution_count": null,
   "metadata": {
    "pycharm": {
     "name": "#%%\n"
    }
   },
   "outputs": [],
   "source": [
    "test = r\"C:\\Users\\julia\\Dokumente\\GitHub\\development\\data\\imagenetv2-matched-frequency-format-val\\900\\d9885ca6d7331dec3d8a37283d0b981f7e5892cb.jpeg\""
   ]
  },
  {
   "cell_type": "code",
   "execution_count": null,
   "metadata": {
    "pycharm": {
     "name": "#%%\n"
    }
   },
   "outputs": [],
   "source": [
    "\"LIME\" is not \"LIME\""
   ]
  },
  {
   "cell_type": "code",
   "execution_count": null,
   "metadata": {
    "pycharm": {
     "name": "#%%\n"
    }
   },
   "outputs": [],
   "source": [
    "plt.imshow(images[IMG_IDX])"
   ]
  },
  {
   "cell_type": "code",
   "execution_count": null,
   "metadata": {
    "pycharm": {
     "name": "#%%\n"
    }
   },
   "outputs": [],
   "source": [
    "img_folder.imgs"
   ]
  },
  {
   "cell_type": "code",
   "execution_count": null,
   "metadata": {
    "pycharm": {
     "name": "#%%\n"
    }
   },
   "outputs": [],
   "source": [
    "preds = []\n",
    "labels_idx = []\n",
    "for img_path in tqdm(img_folder.imgs):\n",
    "    img = img_folder.loader(img_path[0])\n",
    "    \n",
    "    # for PyTorch\n",
    "#     input_tensor = data_handler.transform()(img)\n",
    "#     input_tensor = input_tensor.unsqueeze(0)\n",
    "#     output = model.predict(input_tensor)\n",
    "#     The output has unnormalized scores. To get probabilities, you can run a softmax on it.\n",
    "#     probabilities = torch.nn.functional.softmax(output[0], dim=0)\n",
    "    \n",
    "    # for tensorflow/keras\n",
    "    img = img.resize((224, 224), Image.BICUBIC)\n",
    "    img = np.array(img)\n",
    "    input_preprocessed = tf.keras.applications.vgg16.preprocess_input(img.reshape((-1, ) + img.shape))\n",
    "    probabilities = model.predict(input_preprocessed)\n",
    "    \n",
    "    labels_idx.append(int(img_path[0].split(\"\\\\\")[-2]))\n",
    "    preds.append(probabilities)"
   ]
  },
  {
   "cell_type": "markdown",
   "metadata": {
    "pycharm": {
     "name": "#%% md\n"
    }
   },
   "source": [
    "## Create statistics"
   ]
  },
  {
   "cell_type": "code",
   "execution_count": null,
   "metadata": {
    "pycharm": {
     "name": "#%%\n"
    }
   },
   "outputs": [],
   "source": [
    "\"\"\"\n",
    "Anmerkung: finde noch Klassen die sich ähneln heraus\n",
    "\n",
    "Was kann man für Stats berechnen:\n",
    "- Pro Klasse Prozent richtig oder falsch\n",
    "- für falsche Preds: \n",
    "    - Berechne Differenz zwischen falscher prob und eigentlich richtiger Prob\n",
    "        --> um wie viel % lag pred daneben\n",
    "        --> Könnte bei großer Differenz auch als negativ BSP für Class Confidence gelten\n",
    "            (ist sowas überhaupt erwünscht; kommt wahrscheinlich darauf an, wie oft solche\n",
    "            großen Abweichungen vorkommen)\n",
    "        --> hier sollten generell die Erklärungen besonders schlecht ausfallen\n",
    "        --> falsche Preds mit hoher Differenz sind besonders für Klassen interessant,\n",
    "            bei denen ansonsten viel richtig predicted wird (eventuell Clever-Hans)\n",
    "- für richtige Preds\n",
    "    - Berechne Differenz zwischen richtiger Pred und nächstgrößter Pred\n",
    "        --> mögliches Identifizieren schwieriger/ähnlicher Klassen (als schwieriges\n",
    "        BSP für Conf Scores)\n",
    "        --> m\n",
    "- \n",
    "\"\"\""
   ]
  },
  {
   "cell_type": "code",
   "execution_count": null,
   "metadata": {
    "pycharm": {
     "name": "#%%\n"
    }
   },
   "outputs": [],
   "source": [
    "df[\"pred_conf\"] = df.apply(lambda x: x.max(), axis=1)\n",
    "df[\"pred_label\"] = df[[0:1000]].apply(lambda x: x.argmax(), axis=1)\n",
    "df[\"true_label_idx\"] = labels_idx\n",
    "df[\"pred_is_correct\"] = df[\"pred\"] == df[\"true_label_idx\"]"
   ]
  },
  {
   "cell_type": "code",
   "execution_count": null,
   "metadata": {
    "pycharm": {
     "name": "#%%\n"
    }
   },
   "outputs": [],
   "source": [
    "def get_prediction_success_stats_df(preds, labels_idx):\n",
    "    df = pd.DataFrame(np.array(preds))\n",
    "    df[\"pred_conf\"] = df[df.columns[0:1000]].apply(lambda x: x.max(), axis=1)\n",
    "    df[\"pred_label\"] = df[df.columns[0:1000]].apply(lambda x: x.argmax(), axis=1)\n",
    "    df[\"true_label_idx\"] = labels_idx\n",
    "    df[\"pred_is_correct\"] = df[\"pred_label\"] == df[\"true_label_idx\"]\n",
    "    return df"
   ]
  },
  {
   "cell_type": "code",
   "execution_count": null,
   "metadata": {
    "pycharm": {
     "name": "#%%\n"
    }
   },
   "outputs": [],
   "source": [
    "def calc_diff(x):\n",
    "    # if pred correct, calc confidence differnce to nearest class\n",
    "    if x[\"pred_is_correct\"]:\n",
    "        preds = x[0:1000].sort_values(ascending=False)\n",
    "        return preds[0] - preds[1]\n",
    "    # else calc confidence difference between predicted class and true class\n",
    "    conf_true_class = x[x[\"true_label_idx\"]]\n",
    "    return x[0:1000].max() - conf_true_class"
   ]
  },
  {
   "cell_type": "code",
   "execution_count": null,
   "metadata": {
    "pycharm": {
     "name": "#%%\n"
    }
   },
   "outputs": [],
   "source": [
    "def get_class_grouped_success_stats_df(df_stats):\n",
    "    # calc accuracy per class\n",
    "    df_class_grp = df_stats.groupby(by=\"true_label_idx\")[\"pred_is_correct\"].sum() / 10\n",
    "    # calc mean accuracies per class and pred_is_correct\n",
    "    # df_vgg_mean_conf = df_stats.groupby(by=[\"true_label_idx\", \"pred_is_correct\"])[\"pred_conf\"].mean().to_frame()\n",
    "    return df_class_grp"
   ]
  },
  {
   "cell_type": "code",
   "execution_count": null,
   "metadata": {
    "pycharm": {
     "name": "#%%\n"
    }
   },
   "outputs": [],
   "source": [
    "a = [pred[0] for pred in preds ]"
   ]
  },
  {
   "cell_type": "code",
   "execution_count": null,
   "metadata": {
    "pycharm": {
     "name": "#%%\n"
    }
   },
   "outputs": [],
   "source": [
    "np.array(a).shape"
   ]
  },
  {
   "cell_type": "code",
   "execution_count": null,
   "metadata": {
    "pycharm": {
     "name": "#%%\n"
    }
   },
   "outputs": [],
   "source": [
    "df = get_prediction_success_stats_df(a, labels_idx)\n",
    "df.to_pickle(\"./data/stats/df_vgg_tf.pickle\")"
   ]
  },
  {
   "cell_type": "code",
   "execution_count": null,
   "metadata": {
    "pycharm": {
     "name": "#%%\n"
    }
   },
   "outputs": [],
   "source": [
    "df"
   ]
  },
  {
   "cell_type": "code",
   "execution_count": null,
   "metadata": {
    "pycharm": {
     "name": "#%%\n"
    }
   },
   "outputs": [],
   "source": [
    "df[\"pred_is_correct\"].sum() / df.shape[0]"
   ]
  },
  {
   "cell_type": "code",
   "execution_count": null,
   "metadata": {
    "pycharm": {
     "name": "#%%\n"
    }
   },
   "outputs": [],
   "source": [
    "df_vgg[\"pred_is_correct\"].sum() / df_vgg.shape[0]"
   ]
  },
  {
   "cell_type": "markdown",
   "metadata": {
    "pycharm": {
     "name": "#%% md\n"
    }
   },
   "source": [
    "### Vgg stats"
   ]
  },
  {
   "cell_type": "code",
   "execution_count": null,
   "metadata": {
    "pycharm": {
     "name": "#%%\n"
    }
   },
   "outputs": [],
   "source": [
    "df_vgg = pd.read_pickle(\"./data/stats/df_vgg.pickle\")"
   ]
  },
  {
   "cell_type": "code",
   "execution_count": null,
   "metadata": {
    "pycharm": {
     "name": "#%%\n"
    }
   },
   "outputs": [],
   "source": [
    "# nachträglich berechnen\n",
    "# df_vgg[\"conf_diff\"] = df_vgg.apply(calc_diff, axis=1) # bis jetzt nicht mit anzufangen\n",
    "df_vgg[\"pred_conf\"] = df_vgg.apply(lambda x: x[0:1000].max(), axis=1)"
   ]
  },
  {
   "cell_type": "code",
   "execution_count": null,
   "metadata": {
    "pycharm": {
     "name": "#%%\n"
    }
   },
   "outputs": [],
   "source": [
    "# overall accuray:\n",
    "df_vgg[\"pred_is_correct\"].sum() / 10000"
   ]
  },
  {
   "cell_type": "code",
   "execution_count": null,
   "metadata": {
    "pycharm": {
     "name": "#%%\n"
    }
   },
   "outputs": [],
   "source": [
    "df_vgg_grp = get_class_grouped_success_stats_df(df_vgg)"
   ]
  },
  {
   "cell_type": "code",
   "execution_count": null,
   "metadata": {
    "pycharm": {
     "name": "#%%\n"
    }
   },
   "outputs": [],
   "source": [
    "df_vgg_grp"
   ]
  },
  {
   "cell_type": "code",
   "execution_count": null,
   "metadata": {
    "pycharm": {
     "name": "#%%\n"
    }
   },
   "outputs": [],
   "source": [
    "df_vgg_grp.plot()"
   ]
  },
  {
   "cell_type": "code",
   "execution_count": null,
   "metadata": {
    "pycharm": {
     "name": "#%%\n"
    }
   },
   "outputs": [],
   "source": [
    "df_vgg_frac_correct = df_vgg_grp.value_counts(normalize=False).sort_index().to_frame(\"fraction_correct\").reset_index()\n",
    "df_vgg_frac_correct.columns = [\"accuracy\", \"number classes\"]"
   ]
  },
  {
   "cell_type": "code",
   "execution_count": null,
   "metadata": {
    "pycharm": {
     "name": "#%%\n"
    }
   },
   "outputs": [],
   "source": [
    "df_vgg_frac_correct"
   ]
  },
  {
   "cell_type": "code",
   "execution_count": null,
   "metadata": {
    "pycharm": {
     "name": "#%%\n"
    }
   },
   "outputs": [],
   "source": [
    "# print unsuccessful classes\n",
    "for idx in df_vgg_grp[df_vgg_grp == 0.0].index:\n",
    "    print(labels[str(idx)][1])"
   ]
  },
  {
   "cell_type": "code",
   "execution_count": null,
   "metadata": {
    "scrolled": true,
    "pycharm": {
     "name": "#%%\n"
    }
   },
   "outputs": [],
   "source": [
    "# print successful classes\n",
    "for idx in df_vgg_grp[df_vgg_grp == 1.0].index:\n",
    "    print(labels[str(idx)][1])"
   ]
  },
  {
   "cell_type": "markdown",
   "metadata": {
    "pycharm": {
     "name": "#%% md\n"
    }
   },
   "source": [
    "### Alex stats"
   ]
  },
  {
   "cell_type": "code",
   "execution_count": null,
   "metadata": {
    "pycharm": {
     "name": "#%%\n"
    }
   },
   "outputs": [],
   "source": [
    "df_alex = pd.read_pickle(\"./data/stats/df_alexnet.pickle\")"
   ]
  },
  {
   "cell_type": "code",
   "execution_count": null,
   "metadata": {
    "pycharm": {
     "name": "#%%\n"
    }
   },
   "outputs": [],
   "source": [
    "# nachträglich berechnen\n",
    "# df_vgg[\"conf_diff\"] = df_vgg.apply(calc_diff, axis=1) # bis jetzt nicht mit anzufangen\n",
    "df_alex[\"pred_conf\"] = df_alex.apply(lambda x: x[0:1000].max(), axis=1)"
   ]
  },
  {
   "cell_type": "code",
   "execution_count": null,
   "metadata": {
    "pycharm": {
     "name": "#%%\n"
    }
   },
   "outputs": [],
   "source": [
    "# overall accuray:\n",
    "df_alex[\"pred_is_correct\"].sum() / 10000"
   ]
  },
  {
   "cell_type": "code",
   "execution_count": null,
   "metadata": {
    "pycharm": {
     "name": "#%%\n"
    }
   },
   "outputs": [],
   "source": [
    "df_alex_grp = get_class_grouped_success_stats_df(df_alex)"
   ]
  },
  {
   "cell_type": "code",
   "execution_count": null,
   "metadata": {
    "pycharm": {
     "name": "#%%\n"
    }
   },
   "outputs": [],
   "source": [
    "df_alex_grp"
   ]
  },
  {
   "cell_type": "code",
   "execution_count": null,
   "metadata": {
    "pycharm": {
     "name": "#%%\n"
    }
   },
   "outputs": [],
   "source": [
    "df_alex_grp.plot()"
   ]
  },
  {
   "cell_type": "code",
   "execution_count": null,
   "metadata": {
    "pycharm": {
     "name": "#%%\n"
    }
   },
   "outputs": [],
   "source": [
    "df_alex_frac_correct = df_alex_grp.value_counts(normalize=False).sort_index().to_frame(\"fraction_correct\").reset_index()\n",
    "df_alex_frac_correct.columns = [\"accuracy\", \"number classes\"]"
   ]
  },
  {
   "cell_type": "code",
   "execution_count": null,
   "metadata": {
    "pycharm": {
     "name": "#%%\n"
    }
   },
   "outputs": [],
   "source": [
    "df_alex_frac_correct"
   ]
  },
  {
   "cell_type": "code",
   "execution_count": null,
   "metadata": {
    "pycharm": {
     "name": "#%%\n"
    }
   },
   "outputs": [],
   "source": [
    "# print unsuccessful classes\n",
    "for idx in df_alex_grp[df_alex_grp == 0.0].index:\n",
    "    print(labels[str(idx)][1])"
   ]
  },
  {
   "cell_type": "code",
   "execution_count": null,
   "metadata": {
    "scrolled": true,
    "pycharm": {
     "name": "#%%\n"
    }
   },
   "outputs": [],
   "source": [
    "# print successful classes\n",
    "for idx in df_alex_grp[df_alex_grp == 1.0].index:\n",
    "    print(labels[str(idx)][1])"
   ]
  },
  {
   "cell_type": "markdown",
   "metadata": {
    "pycharm": {
     "name": "#%% md\n"
    }
   },
   "source": [
    "### Analyze similarities and differences"
   ]
  },
  {
   "cell_type": "code",
   "execution_count": null,
   "metadata": {
    "pycharm": {
     "name": "#%%\n"
    }
   },
   "outputs": [],
   "source": [
    "df_diff = (df_vgg_grp - df_alex_grp)"
   ]
  },
  {
   "cell_type": "code",
   "execution_count": null,
   "metadata": {
    "pycharm": {
     "name": "#%%\n"
    }
   },
   "outputs": [],
   "source": [
    "df_diff.plot(xlabel=\"class_index\", ylabel=\"accuracy_vgg - accuracy-alex\", title=\"VGG16 vs. AlexNet on all classes\")"
   ]
  },
  {
   "cell_type": "code",
   "execution_count": null,
   "metadata": {
    "pycharm": {
     "name": "#%%\n"
    }
   },
   "outputs": [],
   "source": [
    "df_diff.sort_values().head(5)"
   ]
  },
  {
   "cell_type": "code",
   "execution_count": null,
   "metadata": {
    "pycharm": {
     "name": "#%%\n"
    }
   },
   "outputs": [],
   "source": [
    "df_diff.sort_values().tail(5)"
   ]
  },
  {
   "cell_type": "code",
   "execution_count": null,
   "metadata": {
    "pycharm": {
     "name": "#%%\n"
    }
   },
   "outputs": [],
   "source": [
    "num = 5\n",
    "for i in range(num):\n",
    "    print(labels[str(df_diff.sort_values().head(5).index[i])][1])"
   ]
  },
  {
   "cell_type": "code",
   "execution_count": null,
   "metadata": {
    "pycharm": {
     "name": "#%%\n"
    }
   },
   "outputs": [],
   "source": [
    "num = 5\n",
    "for i in range(num):\n",
    "    print(labels[str(df_diff.sort_values().tail(5).index[i])][1])"
   ]
  },
  {
   "cell_type": "markdown",
   "metadata": {
    "pycharm": {
     "name": "#%% md\n"
    }
   },
   "source": [
    "# Picking  procedure as proposed by Christian"
   ]
  },
  {
   "cell_type": "code",
   "execution_count": null,
   "metadata": {
    "pycharm": {
     "name": "#%%\n"
    }
   },
   "outputs": [],
   "source": [
    "imgs_idx = list(range(10000))\n",
    "xai_methods = ['gradCam', 'LRP', 'SHAP', 'LIME', 'ConfidenceScores', 'CEM']\n",
    "models = [\"alex\", \"vgg\"]\n",
    "\n",
    "df_vgg = pd.read_pickle(\"./data/stats/df_vgg.pickle\")\n",
    "df_alex = pd.read_pickle(\"./data/stats/df_alexnet.pickle\")"
   ]
  },
  {
   "cell_type": "code",
   "execution_count": null,
   "metadata": {
    "pycharm": {
     "name": "#%%\n"
    }
   },
   "outputs": [],
   "source": [
    "def get_fixed_img_questionnaires(imgs_idx, xai_methods, models):\n",
    "    \n",
    "    NUM_QUESTIONNAIRES = 12\n",
    "    NUM_IMGS = 12\n",
    "    questionnaires_list = []\n",
    "    random_imgs_idx = [imgs_idx.pop(random.randint(0, len(imgs_idx)-1)) for i in range(NUM_IMGS)]\n",
    "    permutations = list(itertools.product(random_imgs_idx, models, xai_methods))\n",
    "    # distribute permutations on questionnaires \n",
    "    for q in range(NUM_QUESTIONNAIRES):\n",
    "        questionnaire = []\n",
    "        for i in range(NUM_IMGS):\n",
    "            if (q+i) > (NUM_IMGS-1):\n",
    "                questionnaire.append(permutations[i*NUM_IMGS:i*NUM_IMGS+NUM_IMGS][(q+i) - NUM_IMGS])\n",
    "            else:\n",
    "                questionnaire.append(permutations[i*NUM_IMGS:i*NUM_IMGS+NUM_IMGS][q+i])\n",
    "        random.shuffle(questionnaire)\n",
    "        questionnaires_list.append(questionnaire)\n",
    "    \n",
    "    return questionnaires_list"
   ]
  },
  {
   "cell_type": "code",
   "execution_count": null,
   "metadata": {
    "pycharm": {
     "name": "#%%\n"
    }
   },
   "outputs": [],
   "source": [
    "questionnaires_list = get_fixed_img_questionnaires(imgs_idx, xai_methods, models)"
   ]
  },
  {
   "cell_type": "code",
   "execution_count": null,
   "metadata": {
    "pycharm": {
     "name": "#%%\n"
    }
   },
   "outputs": [],
   "source": [
    "def add_random_unique_images(questionnaires_list, imgs_idx, df_alex, df_vgg, xai_methods):\n",
    "   \n",
    "    FINAL_QUESTIONNAIRE_SIZE = 24\n",
    "    \n",
    "    for idx_qn, questionnaire in enumerate(questionnaires_list):\n",
    "        \n",
    "        df_variants_count = pd.DataFrame(list(itertools.product(xai_methods, models, [True, False]))).groupby([0, 1, 2]).count()\n",
    "        df_variants_count[\"count\"] = 0\n",
    "        \n",
    "        # evaluate variants for the already drawn fixed questions\n",
    "        for idx_q, question in enumerate(questionnaire):\n",
    "            if question[1] == \"alex\":\n",
    "                if df_alex[\"pred_is_correct\"][question[0]]:\n",
    "                    questionnaires_list[idx_qn][idx_q] += (True, )\n",
    "                    df_variants_count.loc[question[2], \"alex\", True][\"count\"] += 1\n",
    "                else: \n",
    "                    questionnaires_list[idx_qn][idx_q] += (False, )\n",
    "                    df_variants_count.loc[question[2], \"alex\", False][\"count\"] += 1\n",
    "            else:\n",
    "                if df_vgg[\"pred_is_correct\"][question[0]]:\n",
    "                    questionnaires_list[idx_qn][idx_q] += (True, )\n",
    "                    df_variants_count.loc[question[2], \"vgg\", True][\"count\"] += 1\n",
    "                else:\n",
    "                    questionnaires_list[idx_qn][idx_q] += (False, )\n",
    "                    df_variants_count.loc[question[2], \"vgg\", False][\"count\"] += 1\n",
    "                    \n",
    "        # add addtional random images to each questionnaire such that for every variant in df_variants_count the \n",
    "        # count will be 1\n",
    "        while df_variants_count[\"count\"].sum() != FINAL_QUESTIONNAIRE_SIZE:\n",
    "            rand_img_idx = imgs_idx.pop(random.randint(0, len(imgs_idx)-1))\n",
    "            \n",
    "            alex_pred = df_alex.loc[rand_img_idx][\"pred_is_correct\"]\n",
    "            vgg_pred = df_alex.loc[rand_img_idx][\"pred_is_correct\"]\n",
    "            \n",
    "            df_alex_options = df_variants_count.loc[:, \"alex\", alex_pred]\n",
    "            df_alex_options = df_alex_options[df_alex_options[\"count\"] == 0]\n",
    "            \n",
    "            df_vgg_options = df_variants_count.loc[:, \"vgg\", vgg_pred]\n",
    "            df_vgg_options = df_vgg_options[df_vgg_options[\"count\"] == 0]\n",
    "            \n",
    "            if not df_alex_options.empty:\n",
    "                rand_variant = df_alex_options.index[random.randint(0, df_alex_options.shape[0]-1)]\n",
    "                question = (rand_img_idx, rand_variant[1], rand_variant[0], rand_variant[2])\n",
    "                questionnaire.append(question)\n",
    "                df_variants_count.loc[rand_variant][\"count\"] += 1\n",
    "            \n",
    "            elif not df_vgg_options.empty:\n",
    "                rand_variant = df_vgg_options.index[random.randint(0, df_vgg_options.shape[0]-1)]\n",
    "                question = (rand_img_idx, rand_variant[1], rand_variant[0], rand_variant[2])\n",
    "                questionnaire.append(question)\n",
    "                df_variants_count.loc[rand_variant][\"count\"] += 1\n",
    "                    \n",
    "    return df_variants_count"
   ]
  },
  {
   "cell_type": "code",
   "execution_count": null,
   "metadata": {
    "pycharm": {
     "name": "#%%\n"
    }
   },
   "outputs": [],
   "source": [
    "df_test = add_random_unique_images(questionnaires_list, imgs_idx, df_alex, df_vgg, xai_methods)"
   ]
  },
  {
   "cell_type": "code",
   "execution_count": null,
   "metadata": {
    "pycharm": {
     "name": "#%%\n"
    }
   },
   "outputs": [],
   "source": [
    "df_qn1 = pd.DataFrame(questionnaires_list[0])"
   ]
  },
  {
   "cell_type": "code",
   "execution_count": null,
   "metadata": {
    "pycharm": {
     "name": "#%%\n"
    }
   },
   "outputs": [],
   "source": [
    "df_qn1"
   ]
  },
  {
   "cell_type": "code",
   "execution_count": null,
   "metadata": {
    "pycharm": {
     "name": "#%%\n"
    }
   },
   "outputs": [],
   "source": [
    "df_qn1_count  = df_qn1.groupby(by=[2,1,3]).count()"
   ]
  },
  {
   "cell_type": "code",
   "execution_count": null,
   "metadata": {
    "pycharm": {
     "name": "#%%\n"
    }
   },
   "outputs": [],
   "source": [
    "df_qn1_count.index.name = [\"XAI_Method\", \"model\", \"outcome\", \"image_count\"]"
   ]
  },
  {
   "cell_type": "code",
   "execution_count": null,
   "metadata": {
    "pycharm": {
     "name": "#%%\n"
    }
   },
   "outputs": [],
   "source": [
    "df_qn1_count.columns = [\"XAI_Method\", \"model\", \"outcome\", \"image_count\"]"
   ]
  },
  {
   "cell_type": "code",
   "execution_count": null,
   "metadata": {
    "pycharm": {
     "name": "#%%\n"
    }
   },
   "outputs": [],
   "source": [
    "df_qn1_count"
   ]
  },
  {
   "cell_type": "markdown",
   "metadata": {
    "pycharm": {
     "name": "#%% md\n"
    }
   },
   "source": [
    "## Writing question text including label to files"
   ]
  },
  {
   "cell_type": "code",
   "execution_count": null,
   "metadata": {
    "pycharm": {
     "name": "#%%\n"
    }
   },
   "outputs": [],
   "source": [
    "import os\n",
    "from methods import data_handler\n",
    "from torchvision import datasets"
   ]
  },
  {
   "cell_type": "code",
   "execution_count": null,
   "metadata": {
    "pycharm": {
     "name": "#%%\n"
    }
   },
   "outputs": [],
   "source": [
    "questionnaires_list = data_handler.get_questionnaires(\"data/questionnaires.pickle\")"
   ]
  },
  {
   "cell_type": "code",
   "execution_count": null,
   "metadata": {
    "pycharm": {
     "name": "#%%\n"
    }
   },
   "outputs": [],
   "source": [
    "questionnaires_list[1]"
   ]
  },
  {
   "cell_type": "code",
   "execution_count": null,
   "metadata": {
    "pycharm": {
     "name": "#%%\n"
    }
   },
   "outputs": [],
   "source": [
    "img_folder = datasets.ImageFolder(root=r'/Users/julianvonklitzing/Documents/GitHub/development/data/imagenetv2-matched-frequency-format-val')"
   ]
  },
  {
   "cell_type": "code",
   "execution_count": null,
   "metadata": {
    "pycharm": {
     "name": "#%%\n"
    }
   },
   "outputs": [],
   "source": [
    "labels = data_handler.get_labels()"
   ]
  },
  {
   "cell_type": "code",
   "execution_count": null,
   "metadata": {
    "pycharm": {
     "name": "#%%\n"
    }
   },
   "outputs": [],
   "source": [
    "img_folder.imgs[0][0].split(\"/\")[-2]"
   ]
  },
  {
   "cell_type": "code",
   "execution_count": null,
   "metadata": {
    "pycharm": {
     "name": "#%%\n"
    }
   },
   "outputs": [],
   "source": [
    "current_dir = os.getcwd()\n",
    "folder_path = os.path.join(current_dir, f\"questionnaire_forms_questions_txts\")\n",
    "    \n",
    "if not os.path.exists(folder_path):\n",
    "        os.mkdir(folder_path)\n",
    "\n",
    "for idx, questionnaire in enumerate(questionnaires_list):\n",
    "    file1 = open(os.path.join(folder_path, f\"questionnaire_{idx+1}.txt\"), \"w\") # write mode\n",
    "    for qu_idx, question in enumerate(questionnaire):\n",
    "        label_idx_str = img_folder.imgs[question[0]][0].split(\"/\")[-2]\n",
    "        label = labels[label_idx_str][1]\n",
    "        print(label)\n",
    "        file1.write(f\"{qu_idx + 1}.) Do you think the AI has recognized the '{label.replace('_', ' ')}' in this image?\\n\")\n",
    "    file1.close()"
   ]
  },
  {
   "cell_type": "code",
   "execution_count": null,
   "metadata": {
    "pycharm": {
     "name": "#%%\n"
    }
   },
   "outputs": [],
   "source": [
    "\"test_split\".replace(\"_\", \" \")"
   ]
  },
  {
   "cell_type": "code",
   "execution_count": null,
   "metadata": {
    "pycharm": {
     "name": "#%%\n"
    }
   },
   "outputs": [],
   "source": [
    "df_alex = pd.read_pickle(\"./data/stats/df_alexnet.pickle\")"
   ]
  },
  {
   "cell_type": "code",
   "execution_count": null,
   "metadata": {
    "pycharm": {
     "name": "#%%\n"
    }
   },
   "outputs": [],
   "source": [
    "df_alex_2 = pd.read_pickle(\"./data/stats/df_alexnet_2.pickle\")"
   ]
  },
  {
   "cell_type": "code",
   "execution_count": null,
   "metadata": {
    "pycharm": {
     "name": "#%%\n"
    }
   },
   "outputs": [],
   "source": [
    "df_alex[\"pred_is_correct\"].sum() / df_alex.shape[0]"
   ]
  },
  {
   "cell_type": "code",
   "execution_count": null,
   "metadata": {
    "pycharm": {
     "name": "#%%\n"
    }
   },
   "outputs": [],
   "source": [
    "df_alex_2[\"pred_is_correct\"].sum() / df_alex.shape[0]"
   ]
  },
  {
   "cell_type": "code",
   "execution_count": null,
   "metadata": {
    "pycharm": {
     "name": "#%%\n"
    }
   },
   "outputs": [],
   "source": [
    "df_vgg = pd.read_pickle(\"./data/stats/df_vgg.pickle\")\n",
    "df_vgg_2 = pd.read_pickle(\"./data/stats/df_vgg_2.pickle\")"
   ]
  },
  {
   "cell_type": "code",
   "execution_count": null,
   "metadata": {
    "pycharm": {
     "name": "#%%\n"
    }
   },
   "outputs": [],
   "source": [
    "df_vgg[\"pred_is_correct\"].sum() / df_alex.shape[0]"
   ]
  },
  {
   "cell_type": "code",
   "execution_count": null,
   "metadata": {
    "pycharm": {
     "name": "#%%\n"
    }
   },
   "outputs": [],
   "source": [
    "df_vgg_2[\"pred_is_correct\"].sum() / df_alex.shape[0]"
   ]
  },
  {
   "cell_type": "code",
   "execution_count": null,
   "metadata": {
    "pycharm": {
     "name": "#%%\n"
    }
   },
   "outputs": [],
   "source": [
    "import pandas as pd"
   ]
  },
  {
   "cell_type": "code",
   "execution_count": null,
   "metadata": {
    "pycharm": {
     "name": "#%%\n"
    }
   },
   "outputs": [],
   "source": [
    "df_vgg_2 = pd.read_pickle(\"./data/stats/df_vgg.pickle\")"
   ]
  },
  {
   "cell_type": "code",
   "execution_count": null,
   "metadata": {
    "pycharm": {
     "name": "#%%\n"
    }
   },
   "outputs": [],
   "source": [
    "df_vgg_2[\"pred_is_correct\"].sum()/df_vgg_2.shape[0]"
   ]
  },
  {
   "cell_type": "markdown",
   "metadata": {
    "pycharm": {
     "name": "#%% md\n"
    }
   },
   "source": [
    "## Confidence Scores"
   ]
  },
  {
   "cell_type": "code",
   "execution_count": null,
   "metadata": {
    "pycharm": {
     "name": "#%%\n"
    }
   },
   "outputs": [],
   "source": [
    "import matplotlib.pyplot as plt\n",
    "import seaborn as sns"
   ]
  },
  {
   "cell_type": "code",
   "execution_count": null,
   "metadata": {
    "pycharm": {
     "name": "#%%\n"
    }
   },
   "outputs": [],
   "source": [
    "labels = [\"1st most probable class\\n (the predicted class)\", \"2nd most probable class\", \"3rd most probable class\"]\n",
    "numbers = [0.002, 90.5784, 30]\n",
    "numbers.sort(reverse=True)"
   ]
  },
  {
   "cell_type": "code",
   "execution_count": null,
   "metadata": {
    "pycharm": {
     "name": "#%%\n"
    }
   },
   "outputs": [],
   "source": [
    "plt.figure(figsize=(8, 4))\n",
    "splot=sns.barplot(x=numbers,y=labels, color=\"blue\")\n",
    "plt.xlim(0, 100)\n",
    "plt.xlabel(\"AI's confidence for the given classes \\n in %\", size=20)\n",
    "plt.yticks(fontsize=15)\n",
    "plt.xticks(fontsize=15)\n",
    "plt.bar_label(splot.containers[0], labels=[f\"{round(score, 1)}%\" if round(score, 1) >= 0.1 else \"smaller than 0.1%\" for score in numbers], size=13)\n",
    "plt.tight_layout()\n",
    "fig = plt.gcf()\n",
    "plt.close()\n",
    "\n",
    "fig.savefig(\"test.png\", )# bbox_inches='tight'"
   ]
  },
  {
   "cell_type": "code",
   "execution_count": null,
   "metadata": {
    "pycharm": {
     "name": "#%%\n"
    }
   },
   "outputs": [],
   "source": [
    "fig.show()"
   ]
  },
  {
   "cell_type": "code",
   "execution_count": null,
   "metadata": {
    "pycharm": {
     "name": "#%%\n"
    }
   },
   "outputs": [],
   "source": [
    "plt.xlim(0, 100)\n",
    "plt.barh(labels, numbers, height=0.5)\n",
    "plt.xlabel(\"Confidence of the model for the given classes in %\")\n",
    "plt.xticks()\n",
    "plt.yticks(fontsize=20)\n",
    "#plt.bar_label([\"t1\", \"t2\", \"t3\"])\n",
    "plt.tight_layout()"
   ]
  },
  {
   "cell_type": "markdown",
   "metadata": {
    "pycharm": {
     "name": "#%% md\n"
    }
   },
   "source": [
    "# Automate html code for survey"
   ]
  },
  {
   "cell_type": "markdown",
   "metadata": {
    "pycharm": {
     "name": "#%% md\n"
    }
   },
   "source": [
    "## Automate html for last side"
   ]
  },
  {
   "cell_type": "code",
   "execution_count": null,
   "metadata": {
    "pycharm": {
     "name": "#%%\n"
    }
   },
   "outputs": [],
   "source": [
    "import os\n",
    "import pickle"
   ]
  },
  {
   "cell_type": "code",
   "execution_count": null,
   "metadata": {
    "pycharm": {
     "name": "#%%\n"
    }
   },
   "outputs": [],
   "source": [
    "def get_questionnaires(path):\n",
    "    with open(path,'rb') as f:\n",
    "        questionnaires_list = pickle.load(f)\n",
    "    \n",
    "    return questionnaires_list"
   ]
  },
  {
   "cell_type": "code",
   "execution_count": null,
   "metadata": {
    "pycharm": {
     "name": "#%%\n"
    }
   },
   "outputs": [],
   "source": [
    "files = os.listdir(\"/Users/julianvonklitzing/Desktop/files\")"
   ]
  },
  {
   "cell_type": "code",
   "execution_count": null,
   "metadata": {
    "pycharm": {
     "name": "#%%\n"
    }
   },
   "outputs": [],
   "source": [
    "questionnaires_list = get_questionnaires(\"data/questionnaires.pickle\")"
   ]
  },
  {
   "cell_type": "code",
   "execution_count": null,
   "metadata": {
    "pycharm": {
     "name": "#%%\n"
    }
   },
   "outputs": [],
   "source": [
    "files[50].split(\"_\")"
   ]
  },
  {
   "cell_type": "code",
   "execution_count": null,
   "metadata": {
    "pycharm": {
     "name": "#%%\n"
    }
   },
   "outputs": [],
   "source": [
    "start_questionnaire = 6\n",
    "end_questionnaire = 12\n",
    "\n",
    "\n",
    "START = \"\"\"<h1>Thank you for completing our questionnaire!</h1>\n",
    "<p>We would like to thank you very much for advancing our research.</p>\n",
    "<p>Your answers were transmitted, you may close the browser window or tab now.</p>\n",
    "<p>If you want to be informed about the outcomes of our survey, reach out to our <a href=\"mailto:xai_survey@ITTuberlin.onmicrosoft.com\">Shared Mailbox</a>.\n",
    "<p> Below, you can find the AI predictions to each image:</p><br>\"\"\"\n",
    "\n",
    "\n",
    "END = \"\"\"<!-- Additional spacing (remove or adjust as required)  -->\n",
    "            <div style=\"padding-bottom: 120px\"></div>\"\"\"\n",
    "\n",
    "\n",
    "\n",
    "for i in range(start_questionnaire, end_questionnaire+1):\n",
    "    f = open(f\"{i}_end.txt\", \"w\")\n",
    "    f.write(f\"{START} \\n\")\n",
    "    corr_count=0\n",
    "    wrong_count=0\n",
    "    for j in range(1, 24+1):\n",
    "        try:\n",
    "            file = [file for file in files if file.startswith(f\"{i}_{j}_\")][0]\n",
    "            \n",
    "            xai = file.split(\"_\")[4]\n",
    "            width = \"width=600\" if xai==\"cs\" else \"\"\n",
    "            \n",
    "            if file.split(\"_\")[3].startswith(\"t\"):\n",
    "                corr_count+=1\n",
    "            else:\n",
    "                wrong_count+=1\n",
    "                \n",
    "            correct = \"CORRECT\" if file.split(\"_\")[3].startswith(\"t\") else \"WRONG\"\n",
    "            varibale = f'<center><img src=\"{file}\" {width}> <b><center>AI Prediction: {correct}</center><hr>'\n",
    "            f.write(f\"{varibale} \\n\")\n",
    "            f.write(f\"\\n\")\n",
    "        except:\n",
    "            f.write(f\" ----------------FAIL-------------- \\n\")\n",
    "            f.write(f\"\\n\")\n",
    "            print(f\"FAIL QN:{i}  Q:{j}\")\n",
    "            \n",
    "    print(f\"QN {i}: CORRECT:{corr_count}  WRONG:{wrong_count}\")        \n",
    "    f.write(f\"{END} \\n\")\n",
    "    f.close()\n"
   ]
  },
  {
   "cell_type": "markdown",
   "metadata": {
    "pycharm": {
     "name": "#%% md\n"
    }
   },
   "source": [
    "## Automate html for question-side"
   ]
  },
  {
   "cell_type": "markdown",
   "metadata": {
    "pycharm": {
     "name": "#%% md\n"
    }
   },
   "source": []
  },
  {
   "cell_type": "markdown",
   "metadata": {
    "pycharm": {
     "name": "#%% md\n"
    }
   },
   "source": [
    "## Automate image preparation"
   ]
  },
  {
   "cell_type": "code",
   "execution_count": null,
   "metadata": {
    "pycharm": {
     "name": "#%%\n"
    }
   },
   "outputs": [],
   "source": [
    "\"\"\"\n",
    "Two matplotlib figures must be put into one single (1, 2) Plot\n",
    "    - right one with colotbar or ConfidenceScore plot\n",
    "\"\"\""
   ]
  },
  {
   "cell_type": "code",
   "execution_count": null,
   "metadata": {
    "pycharm": {
     "name": "#%%\n"
    }
   },
   "outputs": [],
   "source": [
    "import os\n",
    "import numpy as np\n",
    "import matplotlib.pyplot as plt\n",
    "from PIL import Image, ImageOps"
   ]
  },
  {
   "cell_type": "code",
   "execution_count": null,
   "metadata": {
    "pycharm": {
     "name": "#%%\n"
    }
   },
   "outputs": [],
   "source": [
    "# https://note.nkmk.me/en/python-pillow-concat-images/\n",
    "def get_concat_h(im1, im2):\n",
    "    dst = Image.new('RGB', (im1.width + im2.width, im1.height))\n",
    "    dst.paste(im1, (0, 0))\n",
    "    dst.paste(im2, (im1.width, 0))\n",
    "    return dst\n",
    "\n",
    "\n",
    "def get_concat_v(im1, im2):\n",
    "    dst = Image.new('RGB', (im1.width, im1.height + im2.height))\n",
    "    dst.paste(im1, (0, 0))\n",
    "    dst.paste(im2, (0, im1.height))\n",
    "    return dst"
   ]
  },
  {
   "cell_type": "code",
   "execution_count": null,
   "metadata": {
    "pycharm": {
     "name": "#%%\n"
    }
   },
   "outputs": [],
   "source": [
    "folder_path = \"/Users/julianvonklitzing/Documents/GitHub/development/data/images/0\"\n",
    "# folder_path = \"/Users/julianvonklitzing/Documents/GitHub/development/questionnaire_forms_08-06_23-10/questionnaire_1\"\n",
    "examp_imgs_paths = [f\"{folder_path}/{file}\" for file in os.listdir(folder_path)]"
   ]
  },
  {
   "cell_type": "code",
   "execution_count": null,
   "metadata": {
    "pycharm": {
     "name": "#%%\n"
    }
   },
   "outputs": [],
   "source": [
    "im1 = Image.open(examp_imgs_paths[1])\n",
    "im2 = Image.open(examp_imgs_paths[2])"
   ]
  },
  {
   "cell_type": "markdown",
   "metadata": {
    "pycharm": {
     "name": "#%% md\n"
    }
   },
   "source": [
    "im1 = im1.resize((224, 224))"
   ]
  },
  {
   "cell_type": "code",
   "execution_count": null,
   "metadata": {
    "pycharm": {
     "name": "#%%\n"
    }
   },
   "outputs": [],
   "source": [
    "im1"
   ]
  },
  {
   "cell_type": "code",
   "execution_count": null,
   "metadata": {
    "pycharm": {
     "name": "#%%\n"
    }
   },
   "outputs": [],
   "source": [
    "im2 = im2.resize((224, 224))"
   ]
  },
  {
   "cell_type": "code",
   "execution_count": null,
   "metadata": {
    "pycharm": {
     "name": "#%%\n"
    }
   },
   "outputs": [],
   "source": [
    "im2"
   ]
  },
  {
   "cell_type": "code",
   "execution_count": null,
   "metadata": {
    "pycharm": {
     "name": "#%%\n"
    }
   },
   "outputs": [],
   "source": [
    "get_concat_h(im2, im1)\n",
    "# get_concat_v(im1, im1).save('data/dst/pillow_concat_v.jpg')"
   ]
  },
  {
   "cell_type": "code",
   "execution_count": null,
   "metadata": {
    "pycharm": {
     "name": "#%%\n"
    }
   },
   "outputs": [],
   "source": [
    "plt.imshow(im1)\n",
    "plt.axis(\"off\")\n",
    "plt.title(\"Image of a lion\")\n",
    "fig1 = plt.gcf()\n",
    "fig1.set_figwidth(244)"
   ]
  },
  {
   "cell_type": "code",
   "execution_count": null,
   "metadata": {
    "pycharm": {
     "name": "#%%\n"
    }
   },
   "outputs": [],
   "source": [
    "fig1"
   ]
  },
  {
   "cell_type": "code",
   "execution_count": null,
   "metadata": {
    "pycharm": {
     "name": "#%%\n"
    }
   },
   "outputs": [],
   "source": [
    "plt.imshow(im2)\n",
    "plt.axis(\"off\")# location=\"bottom\"\n",
    "fig2 = plt.gcf()"
   ]
  },
  {
   "cell_type": "code",
   "execution_count": null,
   "metadata": {
    "pycharm": {
     "name": "#%%\n"
    }
   },
   "outputs": [],
   "source": [
    "fig2.colorbar()"
   ]
  },
  {
   "cell_type": "markdown",
   "metadata": {
    "pycharm": {
     "name": "#%% md\n"
    }
   },
   "source": [
    "### New plotting approach"
   ]
  },
  {
   "cell_type": "code",
   "execution_count": null,
   "metadata": {
    "pycharm": {
     "name": "#%%\n"
    }
   },
   "outputs": [],
   "source": [
    "\"\"\"\n",
    "Vielleicht einfachster Approach:\n",
    "\n",
    "erstelle subplots und übergebe alle Information (orginales Bild und Erklrung in Array-Form; plotte erst dort)\n",
    "SAHP: shap_values\n",
    "Integrated Gradient: attr_ig\n",
    "LIME: heatmap\n",
    "LRP: denke \"b\" aus heatmap() funktion\n",
    "gradCAM: grayscale_cam ??\n",
    "\"\"\""
   ]
  },
  {
   "cell_type": "code",
   "execution_count": null,
   "metadata": {
    "pycharm": {
     "name": "#%%\n"
    }
   },
   "outputs": [],
   "source": [
    "im1 = Image.open(examp_imgs_paths[1]).resize((224, 224))\n",
    "im1_gray = gray_image = ImageOps.grayscale(im1)\n",
    "im2 = Image.open(examp_imgs_paths[2]).resize((224, 224))"
   ]
  },
  {
   "cell_type": "code",
   "execution_count": null,
   "metadata": {
    "pycharm": {
     "name": "#%%\n"
    }
   },
   "outputs": [],
   "source": [
    "im1_np = np.array(im1.getdata()).reshape(im1.size[0], im1.size[1], 3)\n",
    "im1_gray_np = np.array(im1_gray.getdata()).reshape(im1_gray.size[0], im1_gray.size[1])\n",
    "\n",
    "im2_np = np.array(im2.getdata()).reshape(im2.size[0], im2.size[1], 3)"
   ]
  },
  {
   "cell_type": "code",
   "execution_count": null,
   "metadata": {
    "pycharm": {
     "name": "#%%\n"
    }
   },
   "outputs": [],
   "source": [
    "plt.imshow(im1_np, cmap=gray)"
   ]
  },
  {
   "cell_type": "code",
   "execution_count": null,
   "metadata": {
    "pycharm": {
     "name": "#%%\n"
    }
   },
   "outputs": [],
   "source": [
    "fig, (ax1, ax2) = plt.subplots(1, 2)\n",
    "ax1.imshow(im1_np)\n",
    "ax1.axis(\"off\")\n",
    "ax1.set_title(\"Image of a lion\")\n",
    "ax2.imshow(im1_gray_np, cmap=\"gray\", alpha=0.4) # im1_gray_np\n",
    "ax2.imshow(im2_np, alpha=0.3)\n",
    "ax2.axis(\"off\")"
   ]
  },
  {
   "cell_type": "code",
   "execution_count": null,
   "metadata": {
    "pycharm": {
     "name": "#%%\n"
    }
   },
   "outputs": [],
   "source": [
    "plt.imshow(np.random.random((224, 224)) * 255)"
   ]
  },
  {
   "cell_type": "code",
   "execution_count": null,
   "metadata": {
    "pycharm": {
     "name": "#%%\n"
    }
   },
   "outputs": [],
   "source": [
    "questionnaires_list[11]"
   ]
  },
  {
   "cell_type": "markdown",
   "metadata": {
    "pycharm": {
     "name": "#%% md\n"
    }
   },
   "source": [
    "## Trying stuff"
   ]
  },
  {
   "cell_type": "code",
   "execution_count": null,
   "metadata": {
    "pycharm": {
     "name": "#%%\n"
    }
   },
   "outputs": [],
   "source": [
    "from methods import data_handler, gradcam, LRP, SHAP, lime, integrated_gradients, confidence_scores\n",
    "from models import AlexNet, Vgg16\n",
    "import argparse\n",
    "import numpy as np\n",
    "import cv2\n",
    "import matplotlib.pyplot as plt\n",
    "import os\n",
    "import torch\n",
    "from datetime import datetime\n",
    "import random"
   ]
  },
  {
   "cell_type": "code",
   "execution_count": null,
   "metadata": {
    "pycharm": {
     "name": "#%%\n"
    }
   },
   "outputs": [],
   "source": [
    "# define models\n",
    "#models_list = [Vgg16(), AlexNet()]\n",
    "#[model.eval() for model in models_list]\n",
    "\n",
    "labels = data_handler.get_labels()\n",
    "model = AlexNet()\n",
    "model.eval()\n",
    "for img_idx in range(1):\n",
    "\n",
    "    img_org_np, img_prep_torch, img_name, img_true_label_str = data_handler.get_question_image(\n",
    "            r'/Users/julianvonklitzing/Documents/GitHub/development/data/images',\n",
    "            img_idx,\n",
    "            labels)\n",
    "\n",
    "    # for model in models_list:\n",
    "    #     model_used = model\n",
    "        \n",
    "    # predict\n",
    "    output = model.predict(img_prep_torch)\n",
    "    # output has unnormalized scores. To get probabilities, run a softmax on it.\n",
    "    pred_idx = torch.nn.functional.softmax(output[0], dim=0).detach().numpy().argmax()\n",
    "    label = labels[str(pred_idx)]\n",
    "    # must be manually verfied if true, because there are no true labels available for manually\n",
    "    # downloaded images\n",
    "    print(f\"{img_name}, {model.name}: {label[1]}\")\n",
    "\n",
    "\n",
    "    # gradcam.explain(model_used.model, img_prep_torch, img_org_np).savefig(os.path.join(\"introduction\" , f\"intro_gradCAM_{model.name}_{img_name}\"))\n",
    "    # LRP.explain(model_used.model, img_prep_torch, img_name, model_used.name).savefig(os.path.join(\"introduction\", f\"intro_LRP_{model.name}_{img_name}\"))\n",
    "    # lime_ex = lime.LIMEExplainer(model_used)\n",
    "    # lime_ex.explain(img_org_np).savefig(os.path.join(\"introduction\", f\"intro_LIME_{model.name}_{img_name}\"))\n",
    "    shap_values = SHAP.explain(model_used.model, img_prep_torch, img_org_np, labels).savefig(os.path.join(\"introduction\", f\"intro_SHAP_{model.name}_{img_name}\"))\n",
    "    print(fig)\n",
    "    #ige = integrated_gradients.IntegratedGradientsExplainer(model_used)\n",
    "    # ige.explain(img_prep_torch).savefig(os.path.join(\"introduction\", f\"intro_IntegratedGradients_{model.name}_{img_name}\"))\n",
    "    #confidence_scores.explain(model_used, img_prep_torch, labels, 3).savefig(os.path.join(\"introduction\", f\"intro_ConfidenceScores_{model.name}_{img_name}\"))\n"
   ]
  },
  {
   "cell_type": "code",
   "execution_count": null,
   "metadata": {
    "pycharm": {
     "name": "#%%\n"
    }
   },
   "outputs": [],
   "source": [
    "fig, (ax1, ax2) = plt.subplots(1, 2)\n",
    "ax1.imshow(im1_np)\n",
    "ax1.axis(\"off\")\n",
    "ax1.set_title(\"Image of a lion\")\n",
    "ax2.imshow(im1_gray_np, cmap=\"gray\", alpha=0.4) # im1_gray_np\n",
    "ax2.imshow(im2_np, alpha=0.3)\n",
    "ax2.axis(\"off\") "
   ]
  },
  {
   "cell_type": "markdown",
   "metadata": {
    "pycharm": {
     "name": "#%% md\n"
    }
   },
   "source": [
    "## Shuffle question order"
   ]
  },
  {
   "cell_type": "code",
   "execution_count": null,
   "metadata": {
    "pycharm": {
     "name": "#%%\n"
    }
   },
   "outputs": [],
   "source": [
    "from methods import data_handler\n",
    "from torchvision import datasets\n",
    "import os\n",
    "from tqdm import tqdm"
   ]
  },
  {
   "cell_type": "code",
   "execution_count": null,
   "metadata": {
    "pycharm": {
     "name": "#%%\n"
    }
   },
   "outputs": [],
   "source": [
    "labels = data_handler.get_labels()"
   ]
  },
  {
   "cell_type": "code",
   "execution_count": null,
   "metadata": {
    "pycharm": {
     "name": "#%%\n"
    }
   },
   "outputs": [],
   "source": [
    "def img_idx_to_label(img_idx, labels, testset_path):\n",
    "    img_folder = datasets.ImageFolder(root=testset_path)\n",
    "    img_path = img_folder.imgs[img_idx][0]\n",
    "    # extract correct class\n",
    "    class_idx_true_str = img_path.split(os.sep)[-2]\n",
    "    img_label_true = labels[class_idx_true_str][1]\n",
    "    return img_label_true"
   ]
  },
  {
   "cell_type": "code",
   "execution_count": null,
   "metadata": {
    "pycharm": {
     "name": "#%%\n"
    }
   },
   "outputs": [],
   "source": [
    "questionnaires_org = data_handler.get_questionnaires(\"data/questionnaires.pickle\")\n",
    "questionnaires_shuffled = data_handler.get_questionnaires(\"data/questionnaires_shuffled.pickle\")"
   ]
  },
  {
   "cell_type": "code",
   "execution_count": null,
   "metadata": {
    "pycharm": {
     "name": "#%%\n"
    }
   },
   "outputs": [],
   "source": [
    "img_idx_to_label(9521, labels, \"data/imagenetv2-matched-frequency-format-val\")"
   ]
  },
  {
   "cell_type": "code",
   "execution_count": null,
   "metadata": {
    "pycharm": {
     "name": "#%%\n"
    }
   },
   "outputs": [],
   "source": [
    "(\"custard_apple\", ) + questionnaires_shuffled[11][0][1:]"
   ]
  },
  {
   "cell_type": "code",
   "execution_count": null,
   "metadata": {
    "pycharm": {
     "name": "#%%\n"
    }
   },
   "outputs": [],
   "source": [
    "current_dir = os.getcwd()\n",
    "folder_path = os.path.join(current_dir, f\"questionnaires_shuffle_order\")\n",
    "    \n",
    "if not os.path.exists(folder_path):\n",
    "        os.mkdir(folder_path)\n",
    "\n",
    "for idx, questionnaire in enumerate(questionnaires_shuffled):\n",
    "    file1 = open(os.path.join(folder_path, f\"questionnaire_{idx+1}.txt\"), \"w\") # write mode\n",
    "    for qu_idx, question in enumerate(questionnaire):\n",
    "        label = img_idx_to_label(question[0], labels, \"data/imagenetv2-matched-frequency-format-val\")\n",
    "        file1.write(f\"[{qu_idx + 1}] {(label, ) + questionnaires_shuffled[idx][qu_idx][1:]} \\n\")\n",
    "    file1.close()"
   ]
  },
  {
   "cell_type": "code",
   "execution_count": null,
   "metadata": {
    "pycharm": {
     "name": "#%%\n"
    }
   },
   "outputs": [],
   "source": []
  }
 ],
 "metadata": {
  "interpreter": {
   "hash": "ede4499f868e22dd0c1440ea31653c8ba2b55f4555af4839dd996b836d3f3eca"
  },
  "kernelspec": {
   "display_name": "Python 3 (ipykernel)",
   "language": "python",
   "name": "python3"
  },
  "language_info": {
   "codemirror_mode": {
    "name": "ipython",
    "version": 3
   },
   "file_extension": ".py",
   "mimetype": "text/x-python",
   "name": "python",
   "nbconvert_exporter": "python",
   "pygments_lexer": "ipython3",
   "version": "3.7.12"
  }
 },
 "nbformat": 4,
 "nbformat_minor": 2
}