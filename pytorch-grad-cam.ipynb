{
 "cells": [
  {
   "cell_type": "code",
   "execution_count": 1,
   "outputs": [
    {
     "data": {
      "text/plain": "VGG(\n  (features): Sequential(\n    (0): Conv2d(3, 64, kernel_size=(3, 3), stride=(1, 1), padding=(1, 1))\n    (1): ReLU(inplace=True)\n    (2): Conv2d(64, 64, kernel_size=(3, 3), stride=(1, 1), padding=(1, 1))\n    (3): ReLU(inplace=True)\n    (4): MaxPool2d(kernel_size=2, stride=2, padding=0, dilation=1, ceil_mode=False)\n    (5): Conv2d(64, 128, kernel_size=(3, 3), stride=(1, 1), padding=(1, 1))\n    (6): ReLU(inplace=True)\n    (7): Conv2d(128, 128, kernel_size=(3, 3), stride=(1, 1), padding=(1, 1))\n    (8): ReLU(inplace=True)\n    (9): MaxPool2d(kernel_size=2, stride=2, padding=0, dilation=1, ceil_mode=False)\n    (10): Conv2d(128, 256, kernel_size=(3, 3), stride=(1, 1), padding=(1, 1))\n    (11): ReLU(inplace=True)\n    (12): Conv2d(256, 256, kernel_size=(3, 3), stride=(1, 1), padding=(1, 1))\n    (13): ReLU(inplace=True)\n    (14): Conv2d(256, 256, kernel_size=(3, 3), stride=(1, 1), padding=(1, 1))\n    (15): ReLU(inplace=True)\n    (16): Conv2d(256, 256, kernel_size=(3, 3), stride=(1, 1), padding=(1, 1))\n    (17): ReLU(inplace=True)\n    (18): MaxPool2d(kernel_size=2, stride=2, padding=0, dilation=1, ceil_mode=False)\n    (19): Conv2d(256, 512, kernel_size=(3, 3), stride=(1, 1), padding=(1, 1))\n    (20): ReLU(inplace=True)\n    (21): Conv2d(512, 512, kernel_size=(3, 3), stride=(1, 1), padding=(1, 1))\n    (22): ReLU(inplace=True)\n    (23): Conv2d(512, 512, kernel_size=(3, 3), stride=(1, 1), padding=(1, 1))\n    (24): ReLU(inplace=True)\n    (25): Conv2d(512, 512, kernel_size=(3, 3), stride=(1, 1), padding=(1, 1))\n    (26): ReLU(inplace=True)\n    (27): MaxPool2d(kernel_size=2, stride=2, padding=0, dilation=1, ceil_mode=False)\n    (28): Conv2d(512, 512, kernel_size=(3, 3), stride=(1, 1), padding=(1, 1))\n    (29): ReLU(inplace=True)\n    (30): Conv2d(512, 512, kernel_size=(3, 3), stride=(1, 1), padding=(1, 1))\n    (31): ReLU(inplace=True)\n    (32): Conv2d(512, 512, kernel_size=(3, 3), stride=(1, 1), padding=(1, 1))\n    (33): ReLU(inplace=True)\n    (34): Conv2d(512, 512, kernel_size=(3, 3), stride=(1, 1), padding=(1, 1))\n    (35): ReLU(inplace=True)\n    (36): MaxPool2d(kernel_size=2, stride=2, padding=0, dilation=1, ceil_mode=False)\n  )\n  (avgpool): AdaptiveAvgPool2d(output_size=(7, 7))\n  (classifier): Sequential(\n    (0): Linear(in_features=25088, out_features=4096, bias=True)\n    (1): ReLU(inplace=True)\n    (2): Dropout(p=0.5, inplace=False)\n    (3): Linear(in_features=4096, out_features=4096, bias=True)\n    (4): ReLU(inplace=True)\n    (5): Dropout(p=0.5, inplace=False)\n    (6): Linear(in_features=4096, out_features=1000, bias=True)\n  )\n)"
     },
     "execution_count": 1,
     "metadata": {},
     "output_type": "execute_result"
    }
   ],
   "source": [
    "import torch\n",
    "import torch.nn as nn\n",
    "\n",
    "from torch.utils import data\n",
    "from torchvision.models import vgg19\n",
    "from torchvision import transforms\n",
    "from torchvision import datasets\n",
    "from torchvision.datasets.utils import download_url\n",
    "import matplotlib.pyplot as plt\n",
    "import numpy as np\n",
    "import json\n",
    "\n",
    "transform = transforms.Compose([transforms.Resize((224, 224)),\n",
    "                                transforms.ToTensor(),\n",
    "                                transforms.Normalize(mean=[0.485, 0.456, 0.406], std=[0.229, 0.224, 0.225])])\n",
    "\n",
    "dataset = datasets.ImageFolder(root='./data/', transform=transform)\n",
    "\n",
    "dataloader = data.DataLoader(dataset=dataset, shuffle=False, batch_size=1)\n",
    "\n",
    "vgg19(pretrained=True)"
   ],
   "metadata": {
    "collapsed": false,
    "pycharm": {
     "name": "#%%\n"
    }
   }
  },
  {
   "cell_type": "code",
   "execution_count": 2,
   "outputs": [],
   "source": [
    "\n",
    "class VGG(nn.Module):\n",
    "    def __init__(self):\n",
    "        super(VGG, self).__init__()\n",
    "\n",
    "        # pretrained VGG19 network\n",
    "        self.vgg = vgg19(pretrained=True)\n",
    "\n",
    "        # access its last convolutional layer\n",
    "        self.features_conv = self.vgg.features[:36]\n",
    "\n",
    "        # get the max pool of the features stem\n",
    "        self.max_pool = nn.MaxPool2d(kernel_size=2, stride=2, padding=0, dilation=1, ceil_mode=False)\n",
    "\n",
    "        # get the classifier of the vgg19\n",
    "        self.classifier = self.vgg.classifier\n",
    "\n",
    "        # placeholder for the gradients\n",
    "        self.gradients = None\n",
    "\n",
    "    # hook for the gradients of the activations\n",
    "    def activations_hook(self, grad):\n",
    "        self.gradients = grad\n",
    "\n",
    "    def forward(self, x):\n",
    "        x = self.features_conv(x)\n",
    "\n",
    "        # register the hook\n",
    "        h = x.register_hook(self.activations_hook)\n",
    "\n",
    "        # apply the remaining pooling\n",
    "        x = self.max_pool(x)\n",
    "        x = x.view((1, -1))\n",
    "        x = self.classifier(x)\n",
    "        return x\n",
    "\n",
    "    # method for the gradient extraction\n",
    "    def get_activations_gradient(self):\n",
    "        return self.gradients\n",
    "\n",
    "    # method for the activation exctraction\n",
    "    def get_activations(self, x):\n",
    "        return self.features_conv(x)"
   ],
   "metadata": {
    "collapsed": false,
    "pycharm": {
     "name": "#%%\n"
    }
   }
  },
  {
   "cell_type": "code",
   "execution_count": 3,
   "outputs": [
    {
     "name": "stdout",
     "output_type": "stream",
     "text": [
      "Using downloaded and verified file: ./imagenet_class_index.json\n"
     ]
    }
   ],
   "source": [
    "# Download class labels from imagenet dataset\n",
    "download_url(\"https://s3.amazonaws.com/deep-learning-models/image-models/imagenet_class_index.json\", \".\", \"imagenet_class_index.json\")\n",
    "\n",
    "with open(\"imagenet_class_index.json\", \"r\") as h:\n",
    "    labels = json.load(h)"
   ],
   "metadata": {
    "collapsed": false,
    "pycharm": {
     "name": "#%%\n"
    }
   }
  },
  {
   "cell_type": "code",
   "execution_count": 4,
   "outputs": [
    {
     "name": "stdout",
     "output_type": "stream",
     "text": [
      "tensor([[ 1.0530e+01,  5.2559e+00,  3.1950e+01,  2.9110e+01,  2.1745e+01,\n",
      "          1.9936e+01,  1.7560e+01, -1.7517e+00,  7.6880e-01,  6.5517e-01,\n",
      "          2.0035e+00,  3.0536e+00,  2.4741e+00,  4.1158e+00,  1.8742e+00,\n",
      "          4.0138e-01, -7.3129e-01,  3.4425e+00,  5.4254e-01,  1.7525e+00,\n",
      "          2.4739e-03,  8.2529e+00,  5.6675e+00,  5.2600e+00, -2.2888e-01,\n",
      "         -3.0417e+00,  1.9738e+00, -1.1138e+00,  2.7854e+00,  7.4719e+00,\n",
      "          3.7036e+00, -8.2108e-02,  1.4166e+00,  1.3926e+01,  1.5403e+01,\n",
      "          3.1858e+00,  7.3190e+00, -4.7898e+00,  2.3757e+00, -3.2123e-01,\n",
      "          2.5910e-01,  7.0697e-01, -5.2049e+00, -4.9949e+00,  9.1579e-01,\n",
      "         -4.4130e+00, -2.8869e+00, -6.2484e+00, -1.8028e+00,  2.5439e+00,\n",
      "          9.3769e+00,  1.9010e+00,  1.6113e+00, -5.4286e-01,  1.7258e+00,\n",
      "         -3.6749e-01, -1.7974e+00, -9.1346e-01,  4.1153e+00,  1.0220e+00,\n",
      "          2.8276e+00,  1.8567e+00,  1.6727e+00,  3.1716e+00,  1.8929e+00,\n",
      "          8.6295e+00, -5.6714e-01, -8.7237e-01,  3.8425e-01,  2.2539e+00,\n",
      "         -3.6603e+00,  4.7593e+00,  3.8766e-01, -1.0478e+00, -3.4622e-01,\n",
      "          1.3695e+00, -2.6658e+00, -1.8087e+00,  5.2845e+00, -4.1031e-01,\n",
      "         -2.6820e-01,  7.3543e+00,  3.5052e+00,  4.0582e-01,  1.8894e+00,\n",
      "          1.7458e+00,  2.8190e+00,  8.1943e+00,  2.0971e+00,  2.2928e+00,\n",
      "         -3.1353e+00, -5.4694e+00, -2.3793e+00, -2.8575e-01,  3.8065e+00,\n",
      "         -3.1951e+00, -1.0648e+00,  8.1366e+00,  7.2729e+00,  9.8304e+00,\n",
      "          4.9675e+00, -9.0099e-01, -2.7748e+00,  8.1032e+00, -5.7757e+00,\n",
      "         -2.2132e+00, -1.7632e+00,  1.0844e+01, -1.8833e+00,  2.4137e+00,\n",
      "          2.5032e+00,  6.5172e+00,  5.9927e+00,  1.8892e+00,  4.4337e+00,\n",
      "          2.4024e+00,  2.9164e+00,  6.3434e+00,  4.7575e+00,  1.8563e+00,\n",
      "          2.4442e+00,  1.8817e+00,  1.5228e+00,  1.7822e+00,  4.8499e+00,\n",
      "          9.4514e-01,  9.2498e+00,  2.4614e-01, -3.9659e-01,  2.6088e+00,\n",
      "          1.3039e+00,  4.8397e+00,  5.0123e+00,  1.9106e+00,  4.4574e+00,\n",
      "         -2.6755e-01,  1.7141e+00,  6.0173e+00,  4.1648e+00,  5.0301e+00,\n",
      "          8.4935e+00,  3.8354e+00,  3.1897e+00,  3.8540e+00,  6.5411e+00,\n",
      "          7.9238e+00,  1.5300e+01,  1.8867e+01,  1.4886e+01,  1.6453e+01,\n",
      "          1.4166e+01, -2.4096e+00, -4.0464e+00, -1.2759e+00, -2.9368e+00,\n",
      "         -2.0352e+00, -2.8917e+00, -3.1803e+00, -3.0183e+00, -5.1657e+00,\n",
      "         -2.9009e+00,  1.2923e+00, -7.8890e-02, -1.6120e+00, -2.8157e+00,\n",
      "         -4.1419e+00, -1.1470e+00, -1.3994e+00, -4.6199e+00,  1.8958e+00,\n",
      "         -1.5305e+00,  5.6082e-01,  4.6367e+00,  4.4070e-01, -2.1194e+00,\n",
      "         -3.0044e+00,  4.9575e-01, -3.2953e+00,  2.0586e+00, -3.5118e-01,\n",
      "          6.6803e-01, -2.8394e+00, -6.5839e+00, -4.9104e+00, -6.8777e+00,\n",
      "         -2.8801e+00, -5.1201e+00, -6.3300e+00, -1.1001e+00, -5.2096e+00,\n",
      "         -1.8321e+00, -3.6428e+00, -5.1220e+00, -3.4481e+00, -2.2223e+00,\n",
      "          1.0347e+00, -4.1816e+00, -4.8641e+00, -4.8892e+00, -3.0301e+00,\n",
      "         -5.3972e+00, -6.5436e+00, -6.0246e+00,  1.8236e+00, -1.2327e+00,\n",
      "         -1.8511e+00, -2.7147e+00, -1.9093e+00, -3.1527e-01, -1.3428e+00,\n",
      "         -3.5662e-01, -3.9327e+00,  4.4929e+00, -1.5857e+00, -1.9515e+00,\n",
      "         -1.0804e+00, -1.5518e+00,  1.6107e+00, -1.0985e+00, -1.5701e+00,\n",
      "         -4.2321e+00, -3.3448e+00, -7.1809e-01, -1.1930e+00, -4.0558e+00,\n",
      "         -2.2446e+00, -5.0162e+00, -1.9624e+00, -5.4570e+00, -2.0908e-01,\n",
      "         -4.6465e+00, -1.6825e+00,  1.3923e-01, -5.7426e+00, -2.0431e+00,\n",
      "         -1.1572e+00, -1.6726e+00, -1.7428e+00, -1.3007e+00, -1.5866e+00,\n",
      "         -3.1705e+00, -3.5119e+00,  1.6647e+00, -3.2018e+00, -4.8573e+00,\n",
      "          6.6509e-01,  5.2283e+00, -1.6706e+00,  2.8150e+00,  1.3894e+00,\n",
      "          3.4067e+00,  6.0079e+00, -6.7168e+00, -2.9830e+00, -1.8340e+00,\n",
      "         -4.2359e+00, -3.7147e-01, -1.2869e-01,  1.3330e+00, -2.3399e+00,\n",
      "         -4.3746e+00, -3.7352e+00, -7.3309e+00, -3.2438e+00,  9.9449e-03,\n",
      "         -1.8541e+00, -5.2742e+00, -3.3168e+00, -3.1939e+00,  1.3582e+00,\n",
      "          2.9097e+00, -5.7293e+00, -1.7890e+00, -5.8813e-01, -3.3567e+00,\n",
      "         -3.9736e+00,  2.9800e-01, -4.2768e+00, -6.2845e+00,  3.2698e+00,\n",
      "         -3.3759e+00, -1.7285e+00, -1.5780e+00, -1.4670e+00, -1.1841e+00,\n",
      "         -1.2839e+00, -9.3994e-01, -2.5883e+00, -1.4718e+00,  2.4547e+00,\n",
      "         -3.5182e+00, -6.0903e+00, -2.9789e-01, -5.1260e+00, -2.6056e+00,\n",
      "         -4.7006e+00,  1.0756e+01, -1.6590e+00, -3.3881e+00, -3.9666e+00,\n",
      "         -4.2595e+00,  2.1103e-02, -1.9355e+00, -6.1842e-01, -1.3975e+00,\n",
      "         -5.0591e+00, -1.0416e-01, -1.4545e+00, -1.0285e+00, -2.5178e+00,\n",
      "          3.1102e+00, -2.8800e+00, -2.5381e+00, -4.0476e+00,  3.0955e-01,\n",
      "         -4.1137e-01, -3.7994e+00,  3.9483e-01, -2.5240e+00,  6.3459e-01,\n",
      "         -5.2445e-01, -3.4953e+00, -2.9884e+00, -8.1935e+00,  4.7750e-01,\n",
      "         -5.5485e+00,  2.4759e-01,  2.9658e+00, -1.7894e-02,  5.5161e+00,\n",
      "         -1.7679e-01,  2.0780e+00,  1.0070e+00,  2.1975e+00, -9.6609e-01,\n",
      "         -3.9170e+00, -3.4873e+00,  4.6486e+00, -4.8847e-01, -5.7993e+00,\n",
      "         -1.0372e+00,  8.1563e-01, -2.3282e+00, -2.8818e+00,  4.3284e+00,\n",
      "          1.4034e+00, -5.0402e-01, -3.7974e+00,  5.0357e-01, -2.9718e+00,\n",
      "         -1.0983e+00, -4.0123e+00, -1.8797e+00, -6.3879e-01, -3.8969e+00,\n",
      "          8.0470e-01,  5.1096e+00,  4.8911e+00,  4.7144e-01,  5.9091e-01,\n",
      "          6.6725e+00, -1.0523e+00,  2.2093e+00,  2.7384e-01,  1.7116e+00,\n",
      "         -3.7295e+00, -4.6649e+00, -3.3661e+00, -6.2308e+00, -5.2334e+00,\n",
      "         -7.2186e+00, -7.3592e+00, -4.7527e+00, -4.3911e+00, -3.3088e+00,\n",
      "         -4.3001e+00, -4.9024e+00, -4.3246e+00, -5.0732e+00, -2.2657e+00,\n",
      "         -3.0802e+00, -5.3257e+00, -4.4914e+00, -2.6402e+00, -2.0262e+00,\n",
      "         -3.1074e+00, -3.0128e+00, -4.7805e+00, -3.5683e+00,  1.7441e+01,\n",
      "          1.1846e+01,  1.8120e+01,  6.0769e+00,  3.0577e-02,  2.3726e+01,\n",
      "          1.8105e+01,  6.5739e+00,  1.7504e+01,  5.0718e-01,  1.9501e-01,\n",
      "         -3.6192e+00, -3.9655e+00, -2.2289e+00,  7.0552e+00,  7.1804e+00,\n",
      "          7.9661e+00, -8.4952e+00, -3.6151e+00,  3.1126e+00, -1.8274e+00,\n",
      "         -2.0075e+00, -2.6117e+00,  2.9655e+00,  1.9403e-02, -4.7762e+00,\n",
      "         -1.5428e+00, -3.6812e+00,  3.1629e+00,  4.4797e+00,  1.1413e+00,\n",
      "         -2.8587e+00,  2.5857e-01,  7.3811e-01, -3.2016e+00, -1.8092e+00,\n",
      "         -3.5847e+00, -1.8828e+00,  3.4078e+00, -2.1286e+00,  3.8317e+00,\n",
      "         -3.3360e+00, -1.9487e+00, -2.0592e+00,  5.3016e+00,  3.3215e-01,\n",
      "          5.4252e+00, -2.4651e+00,  3.9250e+00,  4.0017e+00, -3.8800e+00,\n",
      "          1.4396e-01,  3.5309e+00, -3.4544e+00, -2.6783e+00, -6.0985e+00,\n",
      "          8.8692e-01,  7.2625e-01,  1.0264e+00,  3.1655e-02, -1.1514e+00,\n",
      "          4.2768e-01,  2.9352e+00,  7.4066e-01, -7.9430e+00, -5.2899e+00,\n",
      "          1.0163e+00,  7.7352e-01,  7.3432e-01, -5.1271e+00, -1.2098e+00,\n",
      "          2.4596e+00,  4.6350e+00, -4.0189e+00,  4.2863e+00,  5.0942e-01,\n",
      "         -3.1781e+00, -9.4331e-02,  7.4598e-01, -3.3112e+00,  4.7977e+00,\n",
      "         -1.5318e+00,  2.5728e+00,  4.6603e+00,  1.9728e+00, -4.6467e+00,\n",
      "          2.3157e+00,  1.1496e-01,  8.6764e-01, -2.8086e+00, -3.5346e-01,\n",
      "          1.1950e+00,  4.1786e-01, -1.0323e+00, -1.2957e+00,  4.9476e+00,\n",
      "         -2.1307e+00, -4.9556e+00, -1.0372e+00,  6.4003e+00,  1.6942e+00,\n",
      "          7.9444e-01, -3.3243e+00, -1.5097e+00, -6.3082e+00,  2.7929e+00,\n",
      "         -6.7625e+00, -2.4749e+00, -1.7198e+00, -2.2520e-01,  3.7763e+00,\n",
      "         -3.7153e+00, -1.5824e+00, -3.5356e-01,  4.3066e+00,  1.7103e-01,\n",
      "          9.3473e-01,  3.0954e+00,  3.0419e+00,  8.0267e-01, -5.8563e+00,\n",
      "          2.8911e+00, -9.8208e-01,  6.8025e-01,  4.0453e+00, -9.3538e-01,\n",
      "          1.0413e+00, -3.7598e+00, -6.3131e-01,  3.4377e+00, -6.6044e+00,\n",
      "         -4.6539e+00, -2.7741e+00, -3.3086e+00,  3.3664e+00,  1.1325e+00,\n",
      "          1.7545e+00, -4.7846e+00, -1.2886e+00, -9.7276e-01,  6.7888e-01,\n",
      "         -3.0135e+00, -9.0025e-01, -9.7797e+00, -6.6859e+00, -1.0947e-01,\n",
      "         -1.1997e-01,  4.3790e+00, -2.2633e+00,  3.0064e-02, -3.2734e+00,\n",
      "          1.8618e+00,  4.6881e+00,  4.9933e-01, -3.5747e-01,  6.3656e-01,\n",
      "          3.1794e+00, -4.8388e-01, -6.5898e+00, -6.9238e+00, -2.8102e+00,\n",
      "         -1.0863e+00, -4.1322e+00,  1.0775e+00, -2.4819e+00,  2.7062e+00,\n",
      "         -5.4888e+00, -3.2224e+00,  8.9006e+00,  4.6037e+00, -2.4796e+00,\n",
      "         -7.0589e-01, -2.3328e+00,  3.0214e+00,  3.4722e+00, -5.8506e+00,\n",
      "         -4.2286e+00,  1.4815e+00,  4.1101e+00, -5.3637e+00, -4.4366e+00,\n",
      "          1.5561e+00,  6.8888e-01,  4.0667e+00, -4.1986e+00,  4.0126e+00,\n",
      "         -5.1496e+00,  4.2747e-03,  1.6816e+00, -2.9915e+00, -5.0872e+00,\n",
      "         -4.5527e+00,  3.7668e+00, -3.0651e+00,  2.6381e-01, -2.9927e-02,\n",
      "          9.7892e-01, -2.7738e+00,  3.1754e+00, -1.6221e+00,  4.6972e+00,\n",
      "          5.0075e-01,  5.1381e-01,  5.0394e-01,  2.4583e+00, -4.3996e+00,\n",
      "         -5.8473e+00, -3.0525e-03,  1.8086e+00, -2.7694e+00, -1.4408e+00,\n",
      "          5.7609e+00, -4.3552e+00, -1.4262e+00, -6.4800e+00,  2.1234e+00,\n",
      "         -1.7355e+00,  4.3692e+00, -6.8160e+00, -1.8392e+00, -3.0551e+00,\n",
      "         -1.6269e+00, -2.6025e+00, -6.4197e+00,  1.3235e+00, -4.8780e+00,\n",
      "          3.3521e+00,  5.1029e+00,  5.9779e-02,  3.6832e+00, -1.8317e-01,\n",
      "          9.2745e-01, -4.2087e+00, -2.0022e+00,  8.2171e-01, -5.8581e+00,\n",
      "          2.9495e+00,  1.7822e+00, -2.6156e+00,  7.0702e+00, -1.1995e+00,\n",
      "         -4.6690e+00,  5.4969e-01, -6.9976e-01,  1.4904e+00, -6.1340e+00,\n",
      "         -2.6675e+00,  1.5039e+00,  3.2873e-01,  3.4927e+00,  1.7239e+00,\n",
      "         -5.7448e-01, -1.0915e+00, -3.4092e+00,  8.4288e+00,  1.6863e+00,\n",
      "         -5.4882e+00, -1.7464e+00,  2.6541e+00, -3.6025e+00, -5.8496e-01,\n",
      "          4.8538e+00, -3.7089e+00, -5.0666e-01,  5.1400e-01, -1.3011e+00,\n",
      "         -3.0900e+00, -1.3722e+00,  6.8134e+00, -4.4865e+00,  2.5768e+00,\n",
      "         -4.4445e+00, -8.1282e+00,  1.1168e+00, -4.1027e+00,  9.2248e-01,\n",
      "         -3.9709e+00,  2.4960e+00,  2.0259e+00, -1.6503e-01, -1.5645e+00,\n",
      "         -1.3688e+00, -3.7158e+00, -1.9854e+00,  1.9413e+00,  4.7209e-01,\n",
      "         -4.2728e+00,  2.0769e+00,  3.2133e+00,  1.0879e+00, -2.8341e+00,\n",
      "          8.4165e-01, -4.9520e-02, -1.1675e+00,  7.4179e-02,  9.8007e+00,\n",
      "         -1.3843e+00,  4.2675e+00, -7.3457e+00, -2.8592e+00, -4.9268e+00,\n",
      "         -4.0279e+00,  6.4500e+00,  1.0063e+00,  3.4506e+00, -1.7131e+00,\n",
      "          1.9420e+00,  3.9018e+00, -3.7943e+00, -3.8024e+00, -9.4794e-01,\n",
      "          1.5569e+00,  5.1522e+00, -1.7555e+00, -2.1938e+00, -1.9265e-02,\n",
      "         -5.4748e+00, -3.6804e+00, -1.1156e-01, -7.7561e-01,  1.8289e+00,\n",
      "          1.4146e+00, -1.0658e+00,  5.6446e+00, -1.7725e+00,  5.9752e+00,\n",
      "          3.4255e+00, -4.7807e+00, -2.3079e+00, -4.0805e-01,  6.2517e+00,\n",
      "          7.3483e-01,  1.5437e+00,  2.0950e+00, -2.3440e+00, -1.6029e+00,\n",
      "          5.5744e+00, -6.5052e+00,  3.2616e+00,  6.3662e+00, -4.7567e-01,\n",
      "         -1.5569e+00, -5.9232e-01, -4.8010e+00,  4.2886e+00, -4.6737e+00,\n",
      "         -4.4665e+00, -4.8545e-01,  2.9764e+00, -3.0602e+00, -1.1027e+00,\n",
      "          4.7336e+00, -4.4994e+00,  4.0034e-01, -1.1605e+00,  8.1400e+00,\n",
      "         -1.0291e+00, -2.8718e+00,  1.1954e+00, -1.0155e+00,  4.0072e+00,\n",
      "         -1.9676e+00, -3.0507e+00,  5.1886e-01,  1.1898e+00, -1.9251e-01,\n",
      "          3.3749e-01,  3.3203e+00, -2.2795e+00,  5.8892e+00, -3.9386e+00,\n",
      "         -4.2588e-01,  1.6437e+00, -3.7196e+00,  1.1518e+00, -1.0012e+00,\n",
      "         -4.6768e+00,  8.4237e-01,  2.6445e+00,  2.1016e+00,  1.1794e+00,\n",
      "         -2.3504e+00,  1.6138e+00,  9.7366e-01,  3.0817e+00, -2.0010e+00,\n",
      "          8.0492e-01,  2.5283e+00,  3.2618e+00, -1.6589e+00, -4.4473e+00,\n",
      "          2.1594e-01, -3.3883e+00,  1.1790e+00,  3.3320e+00,  5.3284e+00,\n",
      "         -3.2444e-03, -1.4720e+00,  5.5436e+00, -5.8234e+00, -6.0512e+00,\n",
      "         -2.5416e+00,  1.3380e+00,  3.2221e+00,  3.9968e+00,  4.1648e+00,\n",
      "          1.9696e+00,  2.0082e+00,  3.0492e+00, -5.2931e+00, -4.3143e+00,\n",
      "         -5.3473e+00,  1.0899e+01,  1.0937e+00, -2.9639e+00,  8.5657e-01,\n",
      "         -2.5264e+00, -4.1641e+00,  4.8550e+00,  9.8257e-01,  6.5283e-01,\n",
      "         -1.3923e+00, -1.2659e+00,  6.6144e+00,  2.6730e+00,  5.8815e+00,\n",
      "          1.3639e+00, -2.1403e+00, -3.0602e+00,  8.1508e+00,  1.2336e+00,\n",
      "         -3.3879e+00, -5.2999e-01,  5.9495e+00, -1.2605e+00, -2.7568e+00,\n",
      "         -5.8367e+00, -4.3543e-01,  2.8372e+00,  9.1534e+00, -4.0382e+00,\n",
      "          8.1924e-01, -5.3029e+00, -1.4621e+00,  1.5349e+01, -1.2839e+00,\n",
      "         -2.9813e-01,  3.4669e-01, -9.7358e-01,  3.2194e+00, -3.0533e+00,\n",
      "          1.2028e+00, -5.3963e-01,  3.3487e+00, -6.0216e-01,  2.0852e+00,\n",
      "          4.2799e+00, -2.2847e+00, -1.1629e+00, -2.2864e+00,  2.3403e+00,\n",
      "         -1.8112e+00,  1.2519e+00,  2.0000e+00, -4.5905e+00, -5.2173e+00,\n",
      "          3.1258e+00, -6.5717e+00, -3.6286e+00, -4.9047e+00,  9.4477e-01,\n",
      "         -4.6930e+00,  3.4511e+00,  4.4650e-01,  4.4047e-01, -5.8276e+00,\n",
      "         -5.5750e+00, -2.9793e+00, -1.4867e+00,  2.3915e+00, -1.2560e-01,\n",
      "         -6.7849e+00,  2.6276e+00, -4.1147e+00, -4.4727e+00, -6.3370e+00,\n",
      "          1.3324e+00,  5.5547e+00, -1.3151e+00, -2.8372e+00, -2.0807e-03,\n",
      "         -3.7974e+00, -5.4677e+00, -7.1966e-01,  2.9929e+00, -3.6823e+00,\n",
      "         -6.7171e-01, -1.0236e+00, -4.8606e+00, -1.3594e+00, -3.7024e+00,\n",
      "         -1.3951e+00, -6.8000e-02, -4.5295e+00,  2.9251e-01, -3.1428e+00,\n",
      "          1.1091e+01,  8.2159e+00,  2.2099e+00,  8.7799e+00,  6.1593e+00,\n",
      "          5.0234e+00,  2.1873e+00,  2.5335e+00,  1.6007e-01, -1.0625e+00,\n",
      "          7.6740e-01, -2.0544e+00, -4.7274e-01,  5.3015e+00,  4.3209e+00,\n",
      "         -2.7793e+00, -2.0618e+00, -1.5230e+00,  8.1786e+00, -2.1909e+00,\n",
      "         -2.6149e+00, -3.3307e+00, -9.3301e-01, -1.4447e+00, -2.5534e+00,\n",
      "         -1.3939e+00,  1.6571e+00, -6.5392e+00, -3.2819e+00, -3.9791e+00,\n",
      "         -5.9865e+00, -5.2697e+00,  2.9972e-01,  1.3654e-01,  3.0901e+00,\n",
      "         -3.0313e+00, -1.0041e-01, -2.4258e+00, -3.8962e+00, -1.2637e+00,\n",
      "         -5.8057e-01,  1.3958e+00, -2.2562e-02, -2.2299e+00, -2.2641e+00,\n",
      "         -3.2909e+00, -4.5046e+00, -5.8971e+00,  5.8062e-01, -2.7494e+00,\n",
      "         -1.4217e+00, -4.4185e+00, -3.6059e-01,  4.0179e-01, -2.8893e-01,\n",
      "         -1.6952e+00,  1.1484e+00,  5.1066e-01, -3.9463e-01,  2.9134e+00,\n",
      "         -4.7095e+00,  2.2931e+00, -1.3599e+00, -1.7879e+00, -3.5263e+00,\n",
      "         -3.4559e+00, -7.9474e-01, -4.7806e+00, -2.7036e+00, -2.1580e+00,\n",
      "          2.9471e+00, -1.2381e+00, -1.8365e-01,  3.5233e+00, -1.5975e+00,\n",
      "          4.1397e+00,  7.9278e+00, -1.1374e+00,  8.9712e+00,  3.3161e-02,\n",
      "          3.4859e+00,  3.3238e+00,  5.0495e+00,  3.4657e+00, -3.7086e-01,\n",
      "          4.7479e+00, -1.7621e-01, -4.5335e+00,  1.3602e+01, -4.3976e+00,\n",
      "         -6.0696e+00, -5.2174e+00, -1.9052e-01, -7.0980e-01, -1.2098e+00,\n",
      "         -3.5779e+00, -2.4863e+00, -4.6970e+00, -5.3153e+00, -7.7441e-01,\n",
      "         -2.5087e+00, -2.0952e+00, -2.1115e-01, -1.9294e+00,  1.9443e+00]],\n",
      "       grad_fn=<AddmmBackward0>)\n"
     ]
    }
   ],
   "source": [
    "# initialize the VGG model\n",
    "vgg = VGG()\n",
    "\n",
    "# set the evaluation mode\n",
    "vgg.eval()\n",
    "\n",
    "# get the image from the dataloader\n",
    "img, _ = next(iter(dataloader))\n",
    "\n",
    "# get the most likely prediction of the model\n",
    "pred = vgg(img)#.argmax(dim=1)\n",
    "print(pred)"
   ],
   "metadata": {
    "collapsed": false,
    "pycharm": {
     "name": "#%%\n"
    }
   }
  },
  {
   "cell_type": "code",
   "execution_count": 5,
   "outputs": [
    {
     "data": {
      "text/plain": "<matplotlib.image.AxesImage at 0x7faa6d278730>"
     },
     "execution_count": 5,
     "metadata": {},
     "output_type": "execute_result"
    },
    {
     "data": {
      "text/plain": "<Figure size 288x288 with 1 Axes>",
      "image/png": "[encoded data removed]"
     },
     "metadata": {
      "needs_background": "light"
     },
     "output_type": "display_data"
    }
   ],
   "source": [
    "# get the gradient of the output with respect to the parameters of the model\n",
    "pred[:, 2].backward()\n",
    "\n",
    "# pull the gradients out of the model\n",
    "gradients = vgg.get_activations_gradient()\n",
    "\n",
    "# pool the gradients across the channels\n",
    "pooled_gradients = torch.mean(gradients, dim=[0, 2, 3])\n",
    "\n",
    "# get the activations of the last convolutional layer\n",
    "activations = vgg.get_activations(img).detach()\n",
    "\n",
    "# weight the channels by corresponding gradients\n",
    "for i in range(512):\n",
    "    activations[:, i, :, :] *= pooled_gradients[i]\n",
    "\n",
    "# average the channels of the activations\n",
    "heatmap = torch.mean(activations, dim=1).squeeze()\n",
    "\n",
    "# relu on top of the heatmap\n",
    "# expression (2) in https://arxiv.org/pdf/1610.02391.pdf\n",
    "heatmap = np.maximum(heatmap, 0)\n",
    "\n",
    "# normalize the heatmap\n",
    "heatmap /= torch.max(heatmap)\n",
    "\n",
    "# draw the heatmap\n",
    "plt.matshow(heatmap.squeeze())"
   ],
   "metadata": {
    "collapsed": false,
    "pycharm": {
     "name": "#%%\n"
    }
   }
  },
  {
   "cell_type": "code",
   "execution_count": 6,
   "outputs": [
    {
     "data": {
      "text/plain": "True"
     },
     "execution_count": 6,
     "metadata": {},
     "output_type": "execute_result"
    }
   ],
   "source": [
    "import cv2\n",
    "img = np.asarray(cv2.imread('./data/Shark/shark.jpg'))\n",
    "dsize = (img.shape[1], img.shape[0])\n",
    "heatmap_arr = np.asarray(heatmap)\n",
    "heatmap = cv2.resize(heatmap_arr, dsize)\n",
    "heatmap = np.uint8(255 * heatmap)\n",
    "heatmap = cv2.applyColorMap(heatmap, cv2.COLORMAP_JET)\n",
    "superimposed_img = heatmap * 0.4 + img\n",
    "cv2.imwrite('./map.jpg', superimposed_img)\n",
    "#img2 = superimposed_img[:,:,::-1]\n",
    "#plt.imshow(img2)"
   ],
   "metadata": {
    "collapsed": false,
    "pycharm": {
     "name": "#%%\n"
    }
   }
  },
  {
   "cell_type": "code",
   "execution_count": 6,
   "outputs": [],
   "source": [
    "\n"
   ],
   "metadata": {
    "collapsed": false,
    "pycharm": {
     "name": "#%%\n"
    }
   }
  }
 ],
 "metadata": {
  "kernelspec": {
   "display_name": "Python 3",
   "language": "python",
   "name": "python3"
  },
  "language_info": {
   "codemirror_mode": {
    "name": "ipython",
    "version": 2
   },
   "file_extension": ".py",
   "mimetype": "text/x-python",
   "name": "python",
   "nbconvert_exporter": "python",
   "pygments_lexer": "ipython2",
   "version": "2.7.6"
  }
 },
 "nbformat": 4,
 "nbformat_minor": 0
}