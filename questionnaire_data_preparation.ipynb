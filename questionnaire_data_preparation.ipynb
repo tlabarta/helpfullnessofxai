{
 "cells": [
  {
   "cell_type": "code",
   "execution_count": null,
   "id": "9eb9ef7a",
   "metadata": {
    "scrolled": false
   },
   "outputs": [],
   "source": [
    "import pandas as pd\n",
    "import numpy as np\n",
    "from tqdm import tqdm\n",
    "import matplotlib.pyplot as plt\n",
    "\n",
    "from torchvision import datasets\n",
    "import os\n",
    "from itertools import chain, product\n",
    "import data_handler"
   ]
  },
  {
   "cell_type": "markdown",
   "id": "db6bd947",
   "metadata": {},
   "source": [
    "This Notebook will save two Excel files with the following content:\n",
    "1. Question meta data (question code, img_idx, img_label, model, xai, outcome)\n",
    "2. The transformed long-format version of the SoSci data specified in DATA_PATH"
   ]
  },
  {
   "cell_type": "markdown",
   "id": "2afde216",
   "metadata": {},
   "source": [
    "# Data preparation"
   ]
  },
  {
   "cell_type": "markdown",
   "id": "ff9d5f67",
   "metadata": {},
   "source": [
    "## Read questionnaire information from picking procedure"
   ]
  },
  {
   "cell_type": "code",
   "execution_count": null,
   "id": "1f3b0da2",
   "metadata": {},
   "outputs": [],
   "source": [
    "questionnaires = data_handler.get_questionnaires(\"./data/question_generation/questionnaires.pickle\")\n",
    "labels = data_handler.get_labels(\"./data/imagenet_class_index.json\")\n",
    "# nootebook changes from .\\data/imagenet_class_index.json to '.\\\\data/imagenet_class_index.json'"
   ]
  },
  {
   "cell_type": "code",
   "execution_count": null,
   "id": "b6640676",
   "metadata": {},
   "outputs": [],
   "source": [
    "def get_label_from_img_idx(img_idx, testset_path, labels):    \n",
    "    img_folder = datasets.ImageFolder(root=testset_path)\n",
    "    img_path = img_folder.imgs[img_idx][0]\n",
    "    img_name = img_path.split(os.sep)[-1]\n",
    "    # extract correct class\n",
    "    class_idx_true_str = img_path.split(os.sep)[-2]\n",
    "    img_label_true = labels[class_idx_true_str][1]\n",
    "    return img_label_true"
   ]
  },
  {
   "cell_type": "code",
   "execution_count": null,
   "id": "aea9a876",
   "metadata": {},
   "outputs": [],
   "source": [
    "# enrich questionnaire data with image label names\n",
    "questionnaires_2 = []\n",
    "for questionnaire in tqdm(questionnaires):\n",
    "    questionnaire_2 = []\n",
    "    for question in questionnaire:\n",
    "        label = get_label_from_img_idx(question[0], \"./data/imagenetv2-matched-frequency-format-val\", labels)\n",
    "        question_labled = (label, ) + question        \n",
    "        questionnaire_2.append(question_labled)\n",
    "    questionnaires_2.append(questionnaire_2) "
   ]
  },
  {
   "cell_type": "markdown",
   "id": "f5be42d6",
   "metadata": {},
   "source": [
    "## Load question codes used in SoSci"
   ]
  },
  {
   "cell_type": "code",
   "execution_count": null,
   "id": "6700944c",
   "metadata": {},
   "outputs": [],
   "source": [
    "codes_list = []\n",
    "for i in range(1, 12+1):\n",
    "    codes = pd.read_csv(f\"./questionaires_shuffle_order/questionaire_{i}.txt\", sep=\";\", names=[0, 1])[1]\n",
    "    codes = codes.str.extract(\"(\\w\\d{3})\")\n",
    "    codes = list(codes[0])\n",
    "    codes_list.append(codes)"
   ]
  },
  {
   "cell_type": "markdown",
   "id": "a5ee37a8",
   "metadata": {},
   "source": [
    "## Create questions meta data df"
   ]
  },
  {
   "cell_type": "code",
   "execution_count": null,
   "id": "2d5444db",
   "metadata": {},
   "outputs": [],
   "source": [
    "df_quest_meta = pd.DataFrame(list(chain(*questionnaires_2)))\n",
    "df_quest_meta[5] = list(chain(*codes_list))\n",
    "df_quest_meta.columns = [\"label\", \"img_idx\", \"model\", \"method\", \"is_pred_correct\", \"question_code\"]"
   ]
  },
  {
   "cell_type": "code",
   "execution_count": null,
   "id": "3ecf8b97",
   "metadata": {
    "scrolled": true
   },
   "outputs": [],
   "source": [
    "df_quest_meta"
   ]
  },
  {
   "cell_type": "markdown",
   "id": "005ca4bb",
   "metadata": {},
   "source": [
    "## Load and transform questionnaire data"
   ]
  },
  {
   "cell_type": "code",
   "execution_count": null,
   "id": "c627e2ff",
   "metadata": {},
   "outputs": [],
   "source": [
    "DATA_PATH = \"data/survey_results/data_tu-helpfulness-of-xai_2022-07-13_13-03.xlsx\"\n",
    "ANSER_CODES_PATH = \"data/survey_results/values_tu-helpfulness-of-xai_2022-07-13_13-04.csv\"\n",
    "df = pd.read_excel(DATA_PATH)\n",
    "df[\"DE09\"].loc[0] = \"ML Experience Usefulness\"\n",
    "df_answer_codes = pd.read_csv(ANSER_CODES_PATH, sep=';', encoding='utf-16').set_index([\"VAR\", \"RESPONSE\"])"
   ]
  },
  {
   "cell_type": "code",
   "execution_count": null,
   "id": "66fa0d06",
   "metadata": {},
   "outputs": [],
   "source": [
    "df_answer_codes.reset_index()"
   ]
  },
  {
   "cell_type": "code",
   "execution_count": null,
   "id": "439ef7bc",
   "metadata": {},
   "outputs": [],
   "source": [
    "def map_answer_codes_to_textual(s, df_answer_codes):\n",
    "    def map_(s_name, e, df_answer_codes):\n",
    "        try:\n",
    "            return df_answer_codes.loc[s_name, e][\"MEANING\"]\n",
    "        except:\n",
    "            \n",
    "            return e\n",
    "    try:\n",
    "        return s.apply(lambda e: map_(s.name, e, df_answer_codes))\n",
    "    except:\n",
    "        print(\"Error in mapping column\", s.name)\n",
    "        return s"
   ]
  },
  {
   "cell_type": "code",
   "execution_count": null,
   "id": "3221b4fc",
   "metadata": {},
   "outputs": [],
   "source": [
    "def convert_q_data_from_wide_to_long(df):\n",
    "    column_names_demographic = list(df[df.columns[df.columns.get_loc(\"DE02\"):df.columns.get_loc(\"FB01_01\")+1]].loc[0])\n",
    "    #delete column descriptions\n",
    "    df = df.drop(0)    \n",
    "    df_long = pd.melt(df, id_vars=\"CASE\", value_vars=df.columns.values[6:294]).dropna()\n",
    "    df_long.columns = [\"case\", \"question_code\", \"response\"]\n",
    "    df_long = df_long.sort_values(\"case\", )\n",
    "    # map response 1(Yes)/2(No) values to True/False\n",
    "    df_long[\"response\"] = df_long[\"response\"].apply(lambda x: True if x==1 else False)\n",
    "    df_long = df_long.reset_index(drop=True)\n",
    "    \n",
    "    df_demo = df[list(df.columns[df.columns.get_loc(\"DE02\"):df.columns.get_loc(\"FB01_01\")+1]) + [\"QUESTNNR\", \"TIME003\"]]\n",
    "    df_demo = df_demo.apply(lambda s: map_answer_codes_to_textual(s, df_answer_codes))\n",
    "    df_demo.columns = column_names_demographic + [\"QUESTNNR\", \"TIME003\"]\n",
    "    num_questions = 24\n",
    "    df_demo = df_demo.apply(lambda s: s.repeat(num_questions)).reset_index(drop=True) \n",
    "    df_long = pd.concat([df_long[\"case\"], df_demo, df_long[df_long.columns[1:]]], axis=1)\n",
    "    \n",
    "    return df_long"
   ]
  },
  {
   "cell_type": "code",
   "execution_count": null,
   "id": "531db118",
   "metadata": {},
   "outputs": [],
   "source": [
    "df_long = convert_q_data_from_wide_to_long(df)"
   ]
  },
  {
   "cell_type": "code",
   "execution_count": null,
   "id": "ee25f0e8",
   "metadata": {},
   "outputs": [],
   "source": [
    "df_merged = df_long.merge(right=df_quest_meta)\n",
    "df_merged = df_merged.sort_values(\"case\")"
   ]
  },
  {
   "cell_type": "markdown",
   "id": "45931c03",
   "metadata": {},
   "source": [
    "## Save question meta data & prepared data to file"
   ]
  },
  {
   "cell_type": "code",
   "execution_count": null,
   "id": "5a7d2cde",
   "metadata": {},
   "outputs": [],
   "source": [
    "df_quest_meta.to_excel(\"data/survey_results/question_meta_data.xlsx\")"
   ]
  },
  {
   "cell_type": "code",
   "execution_count": null,
   "id": "892c58b6",
   "metadata": {},
   "outputs": [],
   "source": [
    "data_format = DATA_PATH.split(\".\")[-1]\n",
    "filenname = f\"{DATA_PATH.split(os.sep)[-1].split('.')[0]}_PREPARED.{data_format}\"\n",
    "OUTPUT_PATH = f\"data/survey_results/{filenname}\"\n",
    "df_merged.to_excel(OUTPUT_PATH)"
   ]
  },
  {
   "cell_type": "code",
   "execution_count": null,
   "id": "81b4dc42",
   "metadata": {},
   "outputs": [],
   "source": []
  }
 ],
 "metadata": {
  "kernelspec": {
   "display_name": "Python 3 (ipykernel)",
   "language": "python",
   "name": "python3"
  },
  "language_info": {
   "codemirror_mode": {
    "name": "ipython",
    "version": 3
   },
   "file_extension": ".py",
   "mimetype": "text/x-python",
   "name": "python",
   "nbconvert_exporter": "python",
   "pygments_lexer": "ipython3",
   "version": "3.8.13"
  }
 },
 "nbformat": 4,
 "nbformat_minor": 5
}