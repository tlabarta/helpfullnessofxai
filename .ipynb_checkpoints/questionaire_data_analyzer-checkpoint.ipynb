{
 "cells": [
  {
   "cell_type": "code",
   "execution_count": 1,
   "id": "9eb9ef7a",
   "metadata": {},
   "outputs": [
    {
     "name": "stderr",
     "output_type": "stream",
     "text": [
      "\n",
      "Bad key \"text.kerning_factor\" on line 4 in\n",
      "/Users/julianvonklitzing/opt/anaconda3/envs/xai_env/lib/python3.7/site-packages/matplotlib/mpl-data/stylelib/_classic_test_patch.mplstyle.\n",
      "You probably need to get an updated matplotlibrc file from\n",
      "https://github.com/matplotlib/matplotlib/blob/v3.1.3/matplotlibrc.template\n",
      "or from the matplotlib source distribution\n",
      "/Users/julianvonklitzing/opt/anaconda3/envs/xai_env/lib/python3.7/site-packages/tqdm/auto.py:22: TqdmWarning: IProgress not found. Please update jupyter and ipywidgets. See https://ipywidgets.readthedocs.io/en/stable/user_install.html\n",
      "  from .autonotebook import tqdm as notebook_tqdm\n"
     ]
    }
   ],
   "source": [
    "import pandas as pd\n",
    "from methods import data_handler\n",
    "from tqdm import tqdm\n",
    "\n",
    "from torchvision import datasets\n",
    "import os\n",
    "from itertools import chain"
   ]
  },
  {
   "cell_type": "markdown",
   "id": "24474819",
   "metadata": {},
   "source": [
    "## Read questionnaire information from picking procedure"
   ]
  },
  {
   "cell_type": "code",
   "execution_count": 6,
   "id": "1f3b0da2",
   "metadata": {},
   "outputs": [
    {
     "name": "stdout",
     "output_type": "stream",
     "text": [
      "Using downloaded and verified file: ./data/imagenet_class_index.json\n"
     ]
    }
   ],
   "source": [
    "questionnaires = data_handler.get_questionaires(\"data2/questionaires_shuffled.pickle\")\n",
    "labels = data_handler.get_labels()"
   ]
  },
  {
   "cell_type": "code",
   "execution_count": 33,
   "id": "b6640676",
   "metadata": {},
   "outputs": [],
   "source": [
    "def get_label_from_img_idx(img_idx, testset_path, labels):    \n",
    "    img_folder = datasets.ImageFolder(root=testset_path)\n",
    "    img_path = img_folder.imgs[img_idx][0]\n",
    "    img_name = img_path.split(os.sep)[-1]\n",
    "    # extract correct class\n",
    "    class_idx_true_str = img_path.split(os.sep)[-2]\n",
    "    img_label_true = labels[class_idx_true_str][1]\n",
    "    return img_label_true"
   ]
  },
  {
   "cell_type": "code",
   "execution_count": 34,
   "id": "aea9a876",
   "metadata": {},
   "outputs": [
    {
     "name": "stderr",
     "output_type": "stream",
     "text": [
      "100%|███████████████████████████████████████████| 12/12 [00:36<00:00,  3.03s/it]\n"
     ]
    }
   ],
   "source": [
    "# enrich questionnaire data with image label names\n",
    "questionnaires_2 = []\n",
    "for questionnaire in tqdm(questionnaires):\n",
    "    questionnaire_2 = []\n",
    "    for question in questionnaire:\n",
    "        label = get_label_from_img_idx(question[0], \"data2/imagenetv2-matched-frequency-format-val\", labels)\n",
    "        question_labled = (label, ) + question        \n",
    "        questionnaire_2.append(question_labled)\n",
    "    questionnaires_2.append(questionnaire_2) "
   ]
  },
  {
   "cell_type": "markdown",
   "id": "7ece2799",
   "metadata": {},
   "source": [
    "## Load question codes used in SoSci"
   ]
  },
  {
   "cell_type": "code",
   "execution_count": 36,
   "id": "6563fd3c",
   "metadata": {},
   "outputs": [],
   "source": [
    "codes_list = []\n",
    "for i in range(1, 12+1):\n",
    "    codes = pd.read_csv(f\"questionaires_shuffle_order/questionaire_{i}.txt\", sep=\";\", names=[0, 1])[1]\n",
    "    codes = codes.str.extract(\"(\\w\\d{3})\")\n",
    "    codes = list(codes[0])\n",
    "    codes_list.append(codes)"
   ]
  },
  {
   "cell_type": "markdown",
   "id": "17c22a0c",
   "metadata": {},
   "source": [
    "## Create questions meta data df"
   ]
  },
  {
   "cell_type": "code",
   "execution_count": 43,
   "id": "3dbbe557",
   "metadata": {},
   "outputs": [],
   "source": [
    "df_quest_meta = pd.DataFrame(list(chain(*questionnaires_2)))\n",
    "df_quest_meta[5] = list(chain(*codes_list))\n",
    "df_quest_meta.columns = [\"label\", \"img_idx\", \"model\", \"method\", \"success\", \"quest_code\"]"
   ]
  },
  {
   "cell_type": "code",
   "execution_count": 45,
   "id": "cacdedc0",
   "metadata": {
    "scrolled": true
   },
   "outputs": [
    {
     "data": {
      "text/html": [
       "<div>\n",
       "<style scoped>\n",
       "    .dataframe tbody tr th:only-of-type {\n",
       "        vertical-align: middle;\n",
       "    }\n",
       "\n",
       "    .dataframe tbody tr th {\n",
       "        vertical-align: top;\n",
       "    }\n",
       "\n",
       "    .dataframe thead th {\n",
       "        text-align: right;\n",
       "    }\n",
       "</style>\n",
       "<table border=\"1\" class=\"dataframe\">\n",
       "  <thead>\n",
       "    <tr style=\"text-align: right;\">\n",
       "      <th></th>\n",
       "      <th>label</th>\n",
       "      <th>img_idx</th>\n",
       "      <th>model</th>\n",
       "      <th>method</th>\n",
       "      <th>success</th>\n",
       "      <th>quest_code</th>\n",
       "    </tr>\n",
       "  </thead>\n",
       "  <tbody>\n",
       "    <tr>\n",
       "      <th>0</th>\n",
       "      <td>custard_apple</td>\n",
       "      <td>9521</td>\n",
       "      <td>vgg</td>\n",
       "      <td>LRP</td>\n",
       "      <td>True</td>\n",
       "      <td>B108</td>\n",
       "    </tr>\n",
       "    <tr>\n",
       "      <th>1</th>\n",
       "      <td>Boston_bull</td>\n",
       "      <td>1073</td>\n",
       "      <td>vgg</td>\n",
       "      <td>SHAP</td>\n",
       "      <td>True</td>\n",
       "      <td>B111</td>\n",
       "    </tr>\n",
       "    <tr>\n",
       "      <th>2</th>\n",
       "      <td>toilet_tissue</td>\n",
       "      <td>9992</td>\n",
       "      <td>alex</td>\n",
       "      <td>IntegratedGradients</td>\n",
       "      <td>False</td>\n",
       "      <td>B118</td>\n",
       "    </tr>\n",
       "    <tr>\n",
       "      <th>3</th>\n",
       "      <td>gas_pump</td>\n",
       "      <td>5253</td>\n",
       "      <td>vgg</td>\n",
       "      <td>ConfidenceScores</td>\n",
       "      <td>False</td>\n",
       "      <td>B123</td>\n",
       "    </tr>\n",
       "    <tr>\n",
       "      <th>4</th>\n",
       "      <td>mailbag</td>\n",
       "      <td>5976</td>\n",
       "      <td>vgg</td>\n",
       "      <td>IntegratedGradients</td>\n",
       "      <td>False</td>\n",
       "      <td>B124</td>\n",
       "    </tr>\n",
       "    <tr>\n",
       "      <th>...</th>\n",
       "      <td>...</td>\n",
       "      <td>...</td>\n",
       "      <td>...</td>\n",
       "      <td>...</td>\n",
       "      <td>...</td>\n",
       "      <td>...</td>\n",
       "    </tr>\n",
       "    <tr>\n",
       "      <th>283</th>\n",
       "      <td>custard_apple</td>\n",
       "      <td>9521</td>\n",
       "      <td>vgg</td>\n",
       "      <td>gradCAM</td>\n",
       "      <td>True</td>\n",
       "      <td>C307</td>\n",
       "    </tr>\n",
       "    <tr>\n",
       "      <th>284</th>\n",
       "      <td>coral_reef</td>\n",
       "      <td>9710</td>\n",
       "      <td>alex</td>\n",
       "      <td>gradCAM</td>\n",
       "      <td>True</td>\n",
       "      <td>C302</td>\n",
       "    </tr>\n",
       "    <tr>\n",
       "      <th>285</th>\n",
       "      <td>black_grouse</td>\n",
       "      <td>7798</td>\n",
       "      <td>alex</td>\n",
       "      <td>LRP</td>\n",
       "      <td>False</td>\n",
       "      <td>C319</td>\n",
       "    </tr>\n",
       "    <tr>\n",
       "      <th>286</th>\n",
       "      <td>steel_arch_bridge</td>\n",
       "      <td>8034</td>\n",
       "      <td>alex</td>\n",
       "      <td>SHAP</td>\n",
       "      <td>True</td>\n",
       "      <td>C317</td>\n",
       "    </tr>\n",
       "    <tr>\n",
       "      <th>287</th>\n",
       "      <td>slot</td>\n",
       "      <td>7808</td>\n",
       "      <td>alex</td>\n",
       "      <td>ConfidenceScores</td>\n",
       "      <td>False</td>\n",
       "      <td>C316</td>\n",
       "    </tr>\n",
       "  </tbody>\n",
       "</table>\n",
       "<p>288 rows × 6 columns</p>\n",
       "</div>"
      ],
      "text/plain": [
       "                 label  img_idx model               method  success quest_code\n",
       "0        custard_apple     9521   vgg                  LRP     True       B108\n",
       "1          Boston_bull     1073   vgg                 SHAP     True       B111\n",
       "2        toilet_tissue     9992  alex  IntegratedGradients    False       B118\n",
       "3             gas_pump     5253   vgg     ConfidenceScores    False       B123\n",
       "4              mailbag     5976   vgg  IntegratedGradients    False       B124\n",
       "..                 ...      ...   ...                  ...      ...        ...\n",
       "283      custard_apple     9521   vgg              gradCAM     True       C307\n",
       "284         coral_reef     9710  alex              gradCAM     True       C302\n",
       "285       black_grouse     7798  alex                  LRP    False       C319\n",
       "286  steel_arch_bridge     8034  alex                 SHAP     True       C317\n",
       "287               slot     7808  alex     ConfidenceScores    False       C316\n",
       "\n",
       "[288 rows x 6 columns]"
      ]
     },
     "execution_count": 45,
     "metadata": {},
     "output_type": "execute_result"
    }
   ],
   "source": [
    "df_quest_meta"
   ]
  },
  {
   "cell_type": "markdown",
   "id": "f6f37509",
   "metadata": {},
   "source": [
    "## Load and transform questionnaire data"
   ]
  },
  {
   "cell_type": "code",
   "execution_count": 64,
   "id": "c627e2ff",
   "metadata": {},
   "outputs": [],
   "source": [
    "df = pd.read_excel(\"data2/data_tu-helpfulness-of-xai_2022-06-21_17-15.xlsx\")\n",
    "df = df.drop(0)"
   ]
  },
  {
   "cell_type": "code",
   "execution_count": 65,
   "id": "70b5d7aa",
   "metadata": {},
   "outputs": [],
   "source": [
    "def convert_q_data_from_wide_to_long(df):\n",
    "    df_long = pd.melt(df, id_vars=\"CASE\", value_vars=df.columns.values[6:294]).dropna()\n",
    "    df_long.columns = [\"case\", \"question_code\", \"response\"]\n",
    "    df_long = df_melt.sort_values(\"case\", )\n",
    "    return df_long"
   ]
  },
  {
   "cell_type": "code",
   "execution_count": 66,
   "id": "e91bed5b",
   "metadata": {},
   "outputs": [],
   "source": [
    "df_long = convert_q_data_from_wide_to_long(df)"
   ]
  },
  {
   "cell_type": "code",
   "execution_count": 67,
   "id": "d91f7661",
   "metadata": {},
   "outputs": [
    {
     "data": {
      "text/html": [
       "<div>\n",
       "<style scoped>\n",
       "    .dataframe tbody tr th:only-of-type {\n",
       "        vertical-align: middle;\n",
       "    }\n",
       "\n",
       "    .dataframe tbody tr th {\n",
       "        vertical-align: top;\n",
       "    }\n",
       "\n",
       "    .dataframe thead th {\n",
       "        text-align: right;\n",
       "    }\n",
       "</style>\n",
       "<table border=\"1\" class=\"dataframe\">\n",
       "  <thead>\n",
       "    <tr style=\"text-align: right;\">\n",
       "      <th></th>\n",
       "      <th>case</th>\n",
       "      <th>question_code</th>\n",
       "      <th>response</th>\n",
       "    </tr>\n",
       "  </thead>\n",
       "  <tbody>\n",
       "    <tr>\n",
       "      <th>19723</th>\n",
       "      <td>579</td>\n",
       "      <td>B720</td>\n",
       "      <td>1</td>\n",
       "    </tr>\n",
       "    <tr>\n",
       "      <th>17545</th>\n",
       "      <td>579</td>\n",
       "      <td>B702</td>\n",
       "      <td>2</td>\n",
       "    </tr>\n",
       "    <tr>\n",
       "      <th>19481</th>\n",
       "      <td>579</td>\n",
       "      <td>B718</td>\n",
       "      <td>2</td>\n",
       "    </tr>\n",
       "    <tr>\n",
       "      <th>18997</th>\n",
       "      <td>579</td>\n",
       "      <td>B714</td>\n",
       "      <td>1</td>\n",
       "    </tr>\n",
       "    <tr>\n",
       "      <th>19360</th>\n",
       "      <td>579</td>\n",
       "      <td>B717</td>\n",
       "      <td>1</td>\n",
       "    </tr>\n",
       "    <tr>\n",
       "      <th>...</th>\n",
       "      <td>...</td>\n",
       "      <td>...</td>\n",
       "      <td>...</td>\n",
       "    </tr>\n",
       "    <tr>\n",
       "      <th>13067</th>\n",
       "      <td>1566</td>\n",
       "      <td>B512</td>\n",
       "      <td>2</td>\n",
       "    </tr>\n",
       "    <tr>\n",
       "      <th>12583</th>\n",
       "      <td>1566</td>\n",
       "      <td>B508</td>\n",
       "      <td>1</td>\n",
       "    </tr>\n",
       "    <tr>\n",
       "      <th>13672</th>\n",
       "      <td>1566</td>\n",
       "      <td>B517</td>\n",
       "      <td>1</td>\n",
       "    </tr>\n",
       "    <tr>\n",
       "      <th>12825</th>\n",
       "      <td>1566</td>\n",
       "      <td>B510</td>\n",
       "      <td>1</td>\n",
       "    </tr>\n",
       "    <tr>\n",
       "      <th>12341</th>\n",
       "      <td>1566</td>\n",
       "      <td>B506</td>\n",
       "      <td>2</td>\n",
       "    </tr>\n",
       "  </tbody>\n",
       "</table>\n",
       "<p>2904 rows × 3 columns</p>\n",
       "</div>"
      ],
      "text/plain": [
       "       case question_code response\n",
       "19723   579          B720        1\n",
       "17545   579          B702        2\n",
       "19481   579          B718        2\n",
       "18997   579          B714        1\n",
       "19360   579          B717        1\n",
       "...     ...           ...      ...\n",
       "13067  1566          B512        2\n",
       "12583  1566          B508        1\n",
       "13672  1566          B517        1\n",
       "12825  1566          B510        1\n",
       "12341  1566          B506        2\n",
       "\n",
       "[2904 rows x 3 columns]"
      ]
     },
     "execution_count": 67,
     "metadata": {},
     "output_type": "execute_result"
    }
   ],
   "source": [
    "df_long"
   ]
  },
  {
   "cell_type": "code",
   "execution_count": null,
   "id": "1aa8aa95",
   "metadata": {},
   "outputs": [],
   "source": []
  }
 ],
 "metadata": {
  "kernelspec": {
   "display_name": "Python 3 (ipykernel)",
   "language": "python",
   "name": "python3"
  },
  "language_info": {
   "codemirror_mode": {
    "name": "ipython",
    "version": 3
   },
   "file_extension": ".py",
   "mimetype": "text/x-python",
   "name": "python",
   "nbconvert_exporter": "python",
   "pygments_lexer": "ipython3",
   "version": "3.7.12"
  }
 },
 "nbformat": 4,
 "nbformat_minor": 5
}
