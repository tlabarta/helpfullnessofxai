{
 "cells": [
  {
   "cell_type": "code",
   "execution_count": null,
   "id": "2d918547",
   "metadata": {},
   "outputs": [],
   "source": [
    "import matplotlib.pyplot as plt\n",
    "import pandas as pd\n",
    "import os"
   ]
  },
  {
   "cell_type": "markdown",
   "id": "b2df016d",
   "metadata": {},
   "source": [
    "# Load data"
   ]
  },
  {
   "cell_type": "code",
   "execution_count": null,
   "id": "b089296e",
   "metadata": {},
   "outputs": [],
   "source": [
    "DATA_PATH = os.path.join(\"..\", \"data\", \"survey_results\", \"data_tu-helpfulness-of-xai_2022-07-13_13-03.xlsx\")\n",
    "DATA_PREPARED_PATH = os.path.join(\"..\", \"data\", \"survey_results\", \"data_tu-helpfulness-of-xai_2022-07-13_13-03_PREPARED.xlsx\")\n",
    "df = pd.read_excel(DATA_PATH)\n",
    "df_prepared = pd.read_excel(DATA_PREPARED_PATH)"
   ]
  },
  {
   "cell_type": "markdown",
   "id": "827050ef",
   "metadata": {},
   "source": [
    "# Demographic questions: Create charts (visual overview)"
   ]
  },
  {
   "cell_type": "code",
   "execution_count": null,
   "id": "38c95ab9",
   "metadata": {},
   "outputs": [],
   "source": [
    "df_prepared = df_prepared.drop_duplicates(subset=[\"case\"]).reset_index(drop=True)"
   ]
  },
  {
   "cell_type": "code",
   "execution_count": null,
   "id": "37c5b1f7",
   "metadata": {},
   "outputs": [],
   "source": [
    "def func(pct):\n",
    "    return \"{:1.1f}%\".format(pct)"
   ]
  },
  {
   "cell_type": "code",
   "execution_count": null,
   "id": "4233cebc",
   "metadata": {},
   "outputs": [],
   "source": [
    "def my_fmt(x):\n",
    "    print(x)\n",
    "    return '{:.4f}%\\n({:.0f})'.format(x, total*x/100)"
   ]
  },
  {
   "cell_type": "code",
   "execution_count": null,
   "id": "8980760c",
   "metadata": {},
   "outputs": [],
   "source": [
    "def plot_statistics():\n",
    "    fig, ax = plt.subplots(3, 2, figsize=(20, 30))\n",
    "    ax[0][0].pie(autopct=lambda pct: func(pct), labels=df_prepared[\"Education\"].value_counts(dropna=False, normalize=True).index, x=df_prepared[\"Education\"].value_counts(dropna=False, normalize=False), textprops={\"size\": 18})\n",
    "    ax[0][0].set_title(\"Education\", size= 25)\n",
    "    \n",
    "    ax[0][1].pie(autopct=lambda pct: func(pct), labels=df_prepared[\"ML Experience\"].value_counts(dropna=False, normalize=True).index, x=df_prepared[\"ML Experience\"].value_counts(dropna=False, normalize=False), textprops={\"size\": 18})\n",
    "    ax[0][1].set_title(\"ML Experience\", size= 25)\n",
    "    \n",
    "    ax[1][0].pie(autopct=lambda pct: func(pct), labels=df_prepared[\"ML Experience\"].value_counts(dropna=True, normalize=True).index, x=df_prepared[\"ML Experience\"].value_counts(dropna=True, normalize=False), textprops={\"size\": 18})\n",
    "    ax[1][0].set_title(\"XAI Experience (Excluding NaN)\", size= 25)\n",
    "    \n",
    "    ax[1][1].pie(autopct=lambda pct: func(pct), labels=df_prepared[\"Color Blindness\"].value_counts(dropna=False, normalize=True).index, x=df_prepared[\"Color Blindness\"].value_counts(dropna=False, normalize=False), textprops={\"size\": 18})\n",
    "    ax[1][1].set_title(\"Color Blindness\", size= 25)\n",
    "    \n",
    "    ax[2][0].pie(autopct=lambda pct: func(pct), labels=df_prepared[\"Visual Impairment Affect\"].value_counts(dropna=True, normalize=True).index, x=df_prepared[\"Visual Impairment Affect\"].value_counts(dropna=True, normalize=False), textprops={\"size\": 18})\n",
    "    ax[2][0].set_title(\"Visual Impairment Affect (Excluding NaN)\", size= 25)\n",
    "    \n",
    "    fig.suptitle(f\"Statistics calculated on a total of {df_prepared.shape[0]} participant\", size=35)"
   ]
  },
  {
   "cell_type": "code",
   "execution_count": null,
   "id": "ed3b2204",
   "metadata": {},
   "outputs": [],
   "source": [
    "plot_statistics()"
   ]
  },
  {
   "cell_type": "code",
   "execution_count": null,
   "id": "4f561a48",
   "metadata": {},
   "outputs": [],
   "source": []
  }
 ],
 "metadata": {
  "interpreter": {
   "hash": "4621cef83e04d1d5699d95f183f7fdcae51c5e7e1103d9da115b86e3a17f15bc"
  },
  "kernelspec": {
   "display_name": "Python 3 (ipykernel)",
   "language": "python",
   "name": "python3"
  },
  "language_info": {
   "codemirror_mode": {
    "name": "ipython",
    "version": 3
   },
   "file_extension": ".py",
   "mimetype": "text/x-python",
   "name": "python",
   "nbconvert_exporter": "python",
   "pygments_lexer": "ipython3",
   "version": "3.8.13"
  }
 },
 "nbformat": 4,
 "nbformat_minor": 5
}
