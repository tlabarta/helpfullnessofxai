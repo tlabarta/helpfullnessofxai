{
 "cells": [
  {
   "cell_type": "code",
   "execution_count": 1,
   "metadata": {},
   "outputs": [],
   "source": [
    "from torchvision import datasets\n",
    "from models import Vgg16, AlexNet\n",
    "import random \n",
    "import numpy as np\n",
    "import pandas as pd\n",
    "import matplotlib.pyplot as plt\n",
    "from tqdm import tqdm\n",
    "import torch\n",
    "from methods import data_handler"
   ]
  },
  {
   "cell_type": "markdown",
   "metadata": {},
   "source": [
    "## Load test data"
   ]
  },
  {
   "cell_type": "code",
   "execution_count": 35,
   "metadata": {},
   "outputs": [],
   "source": [
    "img_folder = datasets.ImageFolder(root=r'C:\\Users\\julia\\Dokumente\\GitHub\\development\\data\\imagenetv2-matched-frequency-format-val')"
   ]
  },
  {
   "cell_type": "code",
   "execution_count": 27,
   "metadata": {},
   "outputs": [],
   "source": [
    "def sample_random_images(img_folder, number, seed=None):\n",
    "    images = []\n",
    "    img_paths = img_folder.imgs.copy()\n",
    "    if seed:\n",
    "        random.seed(seed)\n",
    "    for i in range(number):\n",
    "        rand_idx = random.randint(0, len(img_paths))\n",
    "        rand_img_path = img_paths.pop(rand_idx)[0]\n",
    "        rand_img = img_folder.loader(rand_img_path)\n",
    "        # resize\n",
    "        rand_img = rand_img.resize((224, 224))\n",
    "        # convert to np array\n",
    "        images.append(np.array(rand_img))\n",
    "    return np.array(images) / 255"
   ]
  },
  {
   "cell_type": "code",
   "execution_count": 46,
   "metadata": {},
   "outputs": [],
   "source": [
    "def load_entire_val_set(img_folder):\n",
    "    \"\"\"\n",
    "    So liegen alle Bilder als np array vor; müssen aber als torch-tensor-vorliegen vorliegen\n",
    "    \"\"\"\n",
    "    images = []\n",
    "    labels_idx = []\n",
    "    for img_path in tqdm(img_folder.imgs):\n",
    "        rand_img = img_folder.loader(img_path[0])\n",
    "        # resize\n",
    "        rand_img = rand_img.resize((224, 224))\n",
    "        # convert to np array\n",
    "        images.append(np.array(rand_img))\n",
    "        labels_idx.append(int(img_path[0].split(\"\\\\\")[-2]))\n",
    "    return np.array(images), np.array(labels_idx)"
   ]
  },
  {
   "cell_type": "code",
   "execution_count": 47,
   "metadata": {},
   "outputs": [
    {
     "name": "stderr",
     "output_type": "stream",
     "text": [
      "100%|██████████| 10000/10000 [00:51<00:00, 195.37it/s]\n"
     ]
    }
   ],
   "source": [
    "images, labels_idx = load_entire_val_set(img_folder)"
   ]
  },
  {
   "cell_type": "code",
   "execution_count": 16,
   "metadata": {},
   "outputs": [
    {
     "name": "stdout",
     "output_type": "stream",
     "text": [
      "Using downloaded and verified file: .\\data/imagenet_class_index.json\n"
     ]
    }
   ],
   "source": [
    "labels = data_handler.get_labels()"
   ]
  },
  {
   "cell_type": "markdown",
   "metadata": {},
   "source": [
    "## Predict test data"
   ]
  },
  {
   "cell_type": "code",
   "execution_count": 119,
   "metadata": {},
   "outputs": [
    {
     "name": "stdout",
     "output_type": "stream",
     "text": [
      "Using downloaded and verified file: .\\data/imagenet_class_index.json\n",
      "Using downloaded and verified file: .\\data/imagenet_class_index.json\n"
     ]
    }
   ],
   "source": [
    "vgg = Vgg16()\n",
    "alexnet = AlexNet()"
   ]
  },
  {
   "cell_type": "code",
   "execution_count": 121,
   "metadata": {},
   "outputs": [
    {
     "name": "stderr",
     "output_type": "stream",
     "text": [
      "100%|██████████| 10000/10000 [03:47<00:00, 43.92it/s]\n"
     ]
    }
   ],
   "source": [
    "preds = []\n",
    "labels_idx = []\n",
    "for img_path in tqdm(img_folder.imgs):\n",
    "    img = img_folder.loader(img_path[0])\n",
    "    input_tensor = data_handler.transform()(img)\n",
    "    input_tensor = input_tensor.unsqueeze(0)\n",
    "    labels_idx.append(int(img_path[0].split(\"\\\\\")[-2]))\n",
    "    # output = vgg.predict(input_tensor)\n",
    "    output = alexnet.predict(input_tensor)\n",
    "    # The output has unnormalized scores. To get probabilities, you can run a softmax on it.\n",
    "    probabilities = torch.nn.functional.softmax(output[0], dim=0)\n",
    "    preds.append(probabilities.detach().numpy())"
   ]
  },
  {
   "cell_type": "markdown",
   "metadata": {},
   "source": [
    "## Create statistics"
   ]
  },
  {
   "cell_type": "code",
   "execution_count": null,
   "metadata": {},
   "outputs": [],
   "source": [
    "\"\"\"\n",
    "Anmerkung: finde noch Klassen die sich ähneln heraus\n",
    "\n",
    "Was kann man für Stats berechnen:\n",
    "- Pro Klasse Prozent richtig oder falsch\n",
    "- für falsche Preds: \n",
    "    - Berechne Differenz zwischen falscher prob und eigentlich richtiger Prob\n",
    "        --> um wie viel % lag pred daneben\n",
    "        --> Könnte bei großer Differenz auch als negativ BSP für Class Confidence gelten\n",
    "            (ist sowas überhaupt erwünscht; kommt wahrscheinlich darauf an, wie oft solche\n",
    "            großen Abweichungen vorkommen)\n",
    "        --> hier sollten generell die Erklärungen besonders schlecht ausfallen\n",
    "        --> falsche Preds mit hoher Differenz sind besonders für Klassen interessant,\n",
    "            bei denen ansonsten viel richtig predicted wird (eventuell Clever-Hans)\n",
    "- für richtige Preds\n",
    "    - Berechne Differenz zwischen richtiger Pred und nächstgrößter Pred\n",
    "        --> mögliches Identifizieren schwieriger/ähnlicher Klassen (als schwieriges\n",
    "        BSP für Conf Scores)\n",
    "        --> m\n",
    "- \n",
    "\"\"\""
   ]
  },
  {
   "cell_type": "code",
   "execution_count": 6,
   "metadata": {},
   "outputs": [],
   "source": [
    "def get_prediction_success_stats_df(preds, labels_idx):\n",
    "    df = pd.DataFrame(np.array(preds))\n",
    "    df[\"pred_conf\"] = df.apply(lambda x: x.max(), axis=1)\n",
    "    df[\"pred_label\"] = df.apply(lambda x: x.argmax(), axis=1)\n",
    "    df[\"true_label_idx\"] = labels_idx\n",
    "    df[\"pred_is_correct\"] = df[\"pred\"] == df[\"true_label_idx\"]\n",
    "    return df"
   ]
  },
  {
   "cell_type": "code",
   "execution_count": 7,
   "metadata": {},
   "outputs": [],
   "source": [
    "def calc_diff(x):\n",
    "    # if pred correct, calc confidence differnce to nearest class\n",
    "    if x[\"pred_is_correct\"]:\n",
    "        preds = x[0:1000].sort_values(ascending=False)\n",
    "        return preds[0] - preds[1]\n",
    "    # else calc confidence difference between predicted class and true class\n",
    "    conf_true_class = x[x[\"true_label_idx\"]]\n",
    "    return x[0:1000].max() - conf_true_class"
   ]
  },
  {
   "cell_type": "code",
   "execution_count": 8,
   "metadata": {},
   "outputs": [],
   "source": [
    "def get_class_grouped_success_stats_df(df_stats):\n",
    "    # calc accuracy per class\n",
    "    df_class_grp = df_stats.groupby(by=\"true_label_idx\")[\"pred_is_correct\"].sum() / 10\n",
    "    # calc mean accuracies per class and pred_is_correct\n",
    "    # df_vgg_mean_conf = df_stats.groupby(by=[\"true_label_idx\", \"pred_is_correct\"])[\"pred_conf\"].mean().to_frame()\n",
    "    return df_class_grp"
   ]
  },
  {
   "cell_type": "code",
   "execution_count": 122,
   "metadata": {},
   "outputs": [],
   "source": [
    "# df_alexnet = get_prediction_success_stats_df(preds, labels_idx)\n",
    "# df_alexnet.to_pickle(\"./data/stats/df_alexnet.pickle\")"
   ]
  },
  {
   "cell_type": "markdown",
   "metadata": {},
   "source": [
    "### Vgg stats"
   ]
  },
  {
   "cell_type": "code",
   "execution_count": 2,
   "metadata": {},
   "outputs": [],
   "source": [
    "df_vgg = pd.read_pickle(\"./data/stats/df_vgg.pickle\")"
   ]
  },
  {
   "cell_type": "code",
   "execution_count": 3,
   "metadata": {},
   "outputs": [],
   "source": [
    "# nachträglich berechnen\n",
    "# df_vgg[\"conf_diff\"] = df_vgg.apply(calc_diff, axis=1) # bis jetzt nicht mit anzufangen\n",
    "df_vgg[\"pred_conf\"] = df_vgg.apply(lambda x: x[0:1000].max(), axis=1)"
   ]
  },
  {
   "cell_type": "code",
   "execution_count": 4,
   "metadata": {},
   "outputs": [
    {
     "data": {
      "text/plain": [
       "0.5322"
      ]
     },
     "execution_count": 4,
     "metadata": {},
     "output_type": "execute_result"
    }
   ],
   "source": [
    "# overall accuray:\n",
    "df_vgg[\"pred_is_correct\"].sum() / 10000"
   ]
  },
  {
   "cell_type": "code",
   "execution_count": 9,
   "metadata": {},
   "outputs": [],
   "source": [
    "df_vgg_grp = get_class_grouped_success_stats_df(df_vgg)"
   ]
  },
  {
   "cell_type": "code",
   "execution_count": 10,
   "metadata": {},
   "outputs": [
    {
     "data": {
      "text/plain": [
       "true_label_idx\n",
       "0      0.9\n",
       "1      0.8\n",
       "2      0.5\n",
       "3      0.3\n",
       "4      0.6\n",
       "      ... \n",
       "995    1.0\n",
       "996    0.8\n",
       "997    0.4\n",
       "998    0.7\n",
       "999    0.3\n",
       "Name: pred_is_correct, Length: 1000, dtype: float64"
      ]
     },
     "execution_count": 10,
     "metadata": {},
     "output_type": "execute_result"
    }
   ],
   "source": [
    "df_vgg_grp"
   ]
  },
  {
   "cell_type": "code",
   "execution_count": 11,
   "metadata": {},
   "outputs": [
    {
     "data": {
      "text/plain": [
       "<AxesSubplot:xlabel='true_label_idx'>"
      ]
     },
     "execution_count": 11,
     "metadata": {},
     "output_type": "execute_result"
    },
    {
     "data": {
      "image/png": "[encoded data removed]",
      "text/plain": [
       "<Figure size 432x288 with 1 Axes>"
      ]
     },
     "metadata": {
      "needs_background": "light"
     },
     "output_type": "display_data"
    }
   ],
   "source": [
    "df_vgg_grp.plot()"
   ]
  },
  {
   "cell_type": "code",
   "execution_count": 12,
   "metadata": {},
   "outputs": [],
   "source": [
    "df_vgg_frac_correct = df_vgg_grp.value_counts(normalize=False).sort_index().to_frame(\"fraction_correct\").reset_index()\n",
    "df_vgg_frac_correct.columns = [\"accuracy\", \"number classes\"]"
   ]
  },
  {
   "cell_type": "code",
   "execution_count": 13,
   "metadata": {},
   "outputs": [
    {
     "data": {
      "text/html": [
       "<div>\n",
       "<style scoped>\n",
       "    .dataframe tbody tr th:only-of-type {\n",
       "        vertical-align: middle;\n",
       "    }\n",
       "\n",
       "    .dataframe tbody tr th {\n",
       "        vertical-align: top;\n",
       "    }\n",
       "\n",
       "    .dataframe thead th {\n",
       "        text-align: right;\n",
       "    }\n",
       "</style>\n",
       "<table border=\"1\" class=\"dataframe\">\n",
       "  <thead>\n",
       "    <tr style=\"text-align: right;\">\n",
       "      <th></th>\n",
       "      <th>accuracy</th>\n",
       "      <th>number classes</th>\n",
       "    </tr>\n",
       "  </thead>\n",
       "  <tbody>\n",
       "    <tr>\n",
       "      <th>0</th>\n",
       "      <td>0.0</td>\n",
       "      <td>16</td>\n",
       "    </tr>\n",
       "    <tr>\n",
       "      <th>1</th>\n",
       "      <td>0.1</td>\n",
       "      <td>30</td>\n",
       "    </tr>\n",
       "    <tr>\n",
       "      <th>2</th>\n",
       "      <td>0.2</td>\n",
       "      <td>70</td>\n",
       "    </tr>\n",
       "    <tr>\n",
       "      <th>3</th>\n",
       "      <td>0.3</td>\n",
       "      <td>111</td>\n",
       "    </tr>\n",
       "    <tr>\n",
       "      <th>4</th>\n",
       "      <td>0.4</td>\n",
       "      <td>133</td>\n",
       "    </tr>\n",
       "    <tr>\n",
       "      <th>5</th>\n",
       "      <td>0.5</td>\n",
       "      <td>165</td>\n",
       "    </tr>\n",
       "    <tr>\n",
       "      <th>6</th>\n",
       "      <td>0.6</td>\n",
       "      <td>154</td>\n",
       "    </tr>\n",
       "    <tr>\n",
       "      <th>7</th>\n",
       "      <td>0.7</td>\n",
       "      <td>139</td>\n",
       "    </tr>\n",
       "    <tr>\n",
       "      <th>8</th>\n",
       "      <td>0.8</td>\n",
       "      <td>95</td>\n",
       "    </tr>\n",
       "    <tr>\n",
       "      <th>9</th>\n",
       "      <td>0.9</td>\n",
       "      <td>65</td>\n",
       "    </tr>\n",
       "    <tr>\n",
       "      <th>10</th>\n",
       "      <td>1.0</td>\n",
       "      <td>22</td>\n",
       "    </tr>\n",
       "  </tbody>\n",
       "</table>\n",
       "</div>"
      ],
      "text/plain": [
       "    accuracy  number classes\n",
       "0        0.0              16\n",
       "1        0.1              30\n",
       "2        0.2              70\n",
       "3        0.3             111\n",
       "4        0.4             133\n",
       "5        0.5             165\n",
       "6        0.6             154\n",
       "7        0.7             139\n",
       "8        0.8              95\n",
       "9        0.9              65\n",
       "10       1.0              22"
      ]
     },
     "execution_count": 13,
     "metadata": {},
     "output_type": "execute_result"
    }
   ],
   "source": [
    "df_vgg_frac_correct"
   ]
  },
  {
   "cell_type": "code",
   "execution_count": 17,
   "metadata": {},
   "outputs": [
    {
     "name": "stdout",
     "output_type": "stream",
     "text": [
      "Australian_terrier\n",
      "golden_retriever\n",
      "backpack\n",
      "bathtub\n",
      "brassiere\n",
      "cleaver\n",
      "coffeepot\n",
      "magnetic_compass\n",
      "shopping_basket\n",
      "space_bar\n",
      "stove\n",
      "toilet_seat\n",
      "water_bottle\n",
      "wool\n",
      "ice_lolly\n",
      "promontory\n"
     ]
    }
   ],
   "source": [
    "# print unsuccessful classes\n",
    "for idx in df_vgg_grp[df_vgg_grp == 0.0].index:\n",
    "    print(labels[str(idx)][1])"
   ]
  },
  {
   "cell_type": "code",
   "execution_count": 18,
   "metadata": {
    "scrolled": true
   },
   "outputs": [
    {
     "name": "stdout",
     "output_type": "stream",
     "text": [
      "water_ouzel\n",
      "sea_snake\n",
      "black_widow\n",
      "echidna\n",
      "black_stork\n",
      "European_gallinule\n",
      "king_penguin\n",
      "white_wolf\n",
      "hyena\n",
      "lynx\n",
      "snow_leopard\n",
      "ice_bear\n",
      "damselfly\n",
      "monarch\n",
      "warthog\n",
      "badger\n",
      "indri\n",
      "bobsled\n",
      "dogsled\n",
      "reflex_camera\n",
      "yellow_lady's_slipper\n",
      "earthstar\n"
     ]
    }
   ],
   "source": [
    "# print successful classes\n",
    "for idx in df_vgg_grp[df_vgg_grp == 1.0].index:\n",
    "    print(labels[str(idx)][1])"
   ]
  },
  {
   "cell_type": "markdown",
   "metadata": {},
   "source": [
    "### Alex stats"
   ]
  },
  {
   "cell_type": "code",
   "execution_count": 29,
   "metadata": {},
   "outputs": [],
   "source": [
    "df_alex = pd.read_pickle(\"./data/stats/df_alexnet.pickle\")"
   ]
  },
  {
   "cell_type": "code",
   "execution_count": 30,
   "metadata": {},
   "outputs": [],
   "source": [
    "# nachträglich berechnen\n",
    "# df_vgg[\"conf_diff\"] = df_vgg.apply(calc_diff, axis=1) # bis jetzt nicht mit anzufangen\n",
    "df_alex[\"pred_conf\"] = df_alex.apply(lambda x: x[0:1000].max(), axis=1)"
   ]
  },
  {
   "cell_type": "code",
   "execution_count": 31,
   "metadata": {},
   "outputs": [
    {
     "data": {
      "text/plain": [
       "0.347"
      ]
     },
     "execution_count": 31,
     "metadata": {},
     "output_type": "execute_result"
    }
   ],
   "source": [
    "# overall accuray:\n",
    "df_alex[\"pred_is_correct\"].sum() / 10000"
   ]
  },
  {
   "cell_type": "code",
   "execution_count": 32,
   "metadata": {},
   "outputs": [],
   "source": [
    "df_alex_grp = get_class_grouped_success_stats_df(df_alex)"
   ]
  },
  {
   "cell_type": "code",
   "execution_count": 33,
   "metadata": {},
   "outputs": [
    {
     "data": {
      "text/plain": [
       "true_label_idx\n",
       "0      0.7\n",
       "1      0.7\n",
       "2      0.4\n",
       "3      0.2\n",
       "4      0.2\n",
       "      ... \n",
       "995    0.9\n",
       "996    0.8\n",
       "997    0.3\n",
       "998    0.3\n",
       "999    0.1\n",
       "Name: pred_is_correct, Length: 1000, dtype: float64"
      ]
     },
     "execution_count": 33,
     "metadata": {},
     "output_type": "execute_result"
    }
   ],
   "source": [
    "df_alex_grp"
   ]
  },
  {
   "cell_type": "code",
   "execution_count": 34,
   "metadata": {},
   "outputs": [
    {
     "data": {
      "text/plain": [
       "<AxesSubplot:xlabel='true_label_idx'>"
      ]
     },
     "execution_count": 34,
     "metadata": {},
     "output_type": "execute_result"
    },
    {
     "data": {
      "image/png": "[encoded data removed]",
      "text/plain": [
       "<Figure size 432x288 with 1 Axes>"
      ]
     },
     "metadata": {
      "needs_background": "light"
     },
     "output_type": "display_data"
    }
   ],
   "source": [
    "df_alex_grp.plot()"
   ]
  },
  {
   "cell_type": "code",
   "execution_count": 39,
   "metadata": {},
   "outputs": [],
   "source": [
    "df_alex_frac_correct = df_alex_grp.value_counts(normalize=False).sort_index().to_frame(\"fraction_correct\").reset_index()\n",
    "df_alex_frac_correct.columns = [\"accuracy\", \"number classes\"]"
   ]
  },
  {
   "cell_type": "code",
   "execution_count": 40,
   "metadata": {},
   "outputs": [
    {
     "data": {
      "text/html": [
       "<div>\n",
       "<style scoped>\n",
       "    .dataframe tbody tr th:only-of-type {\n",
       "        vertical-align: middle;\n",
       "    }\n",
       "\n",
       "    .dataframe tbody tr th {\n",
       "        vertical-align: top;\n",
       "    }\n",
       "\n",
       "    .dataframe thead th {\n",
       "        text-align: right;\n",
       "    }\n",
       "</style>\n",
       "<table border=\"1\" class=\"dataframe\">\n",
       "  <thead>\n",
       "    <tr style=\"text-align: right;\">\n",
       "      <th></th>\n",
       "      <th>accuracy</th>\n",
       "      <th>number classes</th>\n",
       "    </tr>\n",
       "  </thead>\n",
       "  <tbody>\n",
       "    <tr>\n",
       "      <th>0</th>\n",
       "      <td>0.0</td>\n",
       "      <td>63</td>\n",
       "    </tr>\n",
       "    <tr>\n",
       "      <th>1</th>\n",
       "      <td>0.1</td>\n",
       "      <td>134</td>\n",
       "    </tr>\n",
       "    <tr>\n",
       "      <th>2</th>\n",
       "      <td>0.2</td>\n",
       "      <td>177</td>\n",
       "    </tr>\n",
       "    <tr>\n",
       "      <th>3</th>\n",
       "      <td>0.3</td>\n",
       "      <td>170</td>\n",
       "    </tr>\n",
       "    <tr>\n",
       "      <th>4</th>\n",
       "      <td>0.4</td>\n",
       "      <td>148</td>\n",
       "    </tr>\n",
       "    <tr>\n",
       "      <th>5</th>\n",
       "      <td>0.5</td>\n",
       "      <td>134</td>\n",
       "    </tr>\n",
       "    <tr>\n",
       "      <th>6</th>\n",
       "      <td>0.6</td>\n",
       "      <td>72</td>\n",
       "    </tr>\n",
       "    <tr>\n",
       "      <th>7</th>\n",
       "      <td>0.7</td>\n",
       "      <td>53</td>\n",
       "    </tr>\n",
       "    <tr>\n",
       "      <th>8</th>\n",
       "      <td>0.8</td>\n",
       "      <td>36</td>\n",
       "    </tr>\n",
       "    <tr>\n",
       "      <th>9</th>\n",
       "      <td>0.9</td>\n",
       "      <td>11</td>\n",
       "    </tr>\n",
       "    <tr>\n",
       "      <th>10</th>\n",
       "      <td>1.0</td>\n",
       "      <td>2</td>\n",
       "    </tr>\n",
       "  </tbody>\n",
       "</table>\n",
       "</div>"
      ],
      "text/plain": [
       "    accuracy  number classes\n",
       "0        0.0              63\n",
       "1        0.1             134\n",
       "2        0.2             177\n",
       "3        0.3             170\n",
       "4        0.4             148\n",
       "5        0.5             134\n",
       "6        0.6              72\n",
       "7        0.7              53\n",
       "8        0.8              36\n",
       "9        0.9              11\n",
       "10       1.0               2"
      ]
     },
     "execution_count": 40,
     "metadata": {},
     "output_type": "execute_result"
    }
   ],
   "source": [
    "df_alex_frac_correct"
   ]
  },
  {
   "cell_type": "code",
   "execution_count": 41,
   "metadata": {},
   "outputs": [
    {
     "name": "stdout",
     "output_type": "stream",
     "text": [
      "Shih-Tzu\n",
      "Walker_hound\n",
      "Saluki\n",
      "Tibetan_terrier\n",
      "Lhasa\n",
      "golden_retriever\n",
      "briard\n",
      "miniature_pinscher\n",
      "apron\n",
      "ashcan\n",
      "backpack\n",
      "ballpoint\n",
      "bathing_cap\n",
      "bathtub\n",
      "bonnet\n",
      "brassiere\n",
      "cassette\n",
      "catamaran\n",
      "cellular_telephone\n",
      "chain\n",
      "cleaver\n",
      "cloak\n",
      "clog\n",
      "cradle\n",
      "crash_helmet\n",
      "crate\n",
      "crutch\n",
      "drumstick\n",
      "dumbbell\n",
      "hair_spray\n",
      "hatchet\n",
      "letter_opener\n",
      "Loafer\n",
      "magnetic_compass\n",
      "minivan\n",
      "modem\n",
      "monitor\n",
      "moped\n",
      "pencil_box\n",
      "piggy_bank\n",
      "rifle\n",
      "sandal\n",
      "screwdriver\n",
      "shopping_basket\n",
      "shovel\n",
      "soap_dispenser\n",
      "space_bar\n",
      "spatula\n",
      "stole\n",
      "studio_couch\n",
      "swab\n",
      "syringe\n",
      "toaster\n",
      "toilet_seat\n",
      "tray\n",
      "velvet\n",
      "waffle_iron\n",
      "water_bottle\n",
      "water_jug\n",
      "wooden_spoon\n",
      "wool\n",
      "ice_lolly\n",
      "bagel\n"
     ]
    }
   ],
   "source": [
    "# print unsuccessful classes\n",
    "for idx in df_alex_grp[df_alex_grp == 0.0].index:\n",
    "    print(labels[str(idx)][1])"
   ]
  },
  {
   "cell_type": "code",
   "execution_count": 42,
   "metadata": {
    "scrolled": true
   },
   "outputs": [
    {
     "name": "stdout",
     "output_type": "stream",
     "text": [
      "indri\n",
      "odometer\n"
     ]
    }
   ],
   "source": [
    "# print successful classes\n",
    "for idx in df_alex_grp[df_alex_grp == 1.0].index:\n",
    "    print(labels[str(idx)][1])"
   ]
  },
  {
   "cell_type": "markdown",
   "metadata": {},
   "source": [
    "### Analyze similarities and differences"
   ]
  },
  {
   "cell_type": "code",
   "execution_count": 54,
   "metadata": {},
   "outputs": [],
   "source": [
    "df_diff = (df_vgg_grp - df_alex_grp)"
   ]
  },
  {
   "cell_type": "code",
   "execution_count": 55,
   "metadata": {},
   "outputs": [
    {
     "data": {
      "text/plain": [
       "<AxesSubplot:title={'center':'VGG16 vs. AlexNet on all classes'}, xlabel='class_index', ylabel='accuracy_vgg - accuracy-alex'>"
      ]
     },
     "execution_count": 55,
     "metadata": {},
     "output_type": "execute_result"
    },
    {
     "data": {
      "image/png": "[encoded data removed]",
      "text/plain": [
       "<Figure size 432x288 with 1 Axes>"
      ]
     },
     "metadata": {
      "needs_background": "light"
     },
     "output_type": "display_data"
    }
   ],
   "source": [
    "df_diff.plot(xlabel=\"class_index\", ylabel=\"accuracy_vgg - accuracy-alex\", title=\"VGG16 vs. AlexNet on all classes\")"
   ]
  },
  {
   "cell_type": "code",
   "execution_count": 69,
   "metadata": {},
   "outputs": [
    {
     "data": {
      "text/plain": [
       "true_label_idx\n",
       "693   -0.3\n",
       "524   -0.3\n",
       "976   -0.3\n",
       "917   -0.3\n",
       "385   -0.3\n",
       "Name: pred_is_correct, dtype: float64"
      ]
     },
     "execution_count": 69,
     "metadata": {},
     "output_type": "execute_result"
    }
   ],
   "source": [
    "df_diff.sort_values().head(5)"
   ]
  },
  {
   "cell_type": "code",
   "execution_count": 70,
   "metadata": {},
   "outputs": [
    {
     "data": {
      "text/plain": [
       "true_label_idx\n",
       "561    0.6\n",
       "496    0.6\n",
       "315    0.6\n",
       "20     0.8\n",
       "386    0.8\n",
       "Name: pred_is_correct, dtype: float64"
      ]
     },
     "execution_count": 70,
     "metadata": {},
     "output_type": "execute_result"
    }
   ],
   "source": [
    "df_diff.sort_values().tail(5)"
   ]
  },
  {
   "cell_type": "code",
   "execution_count": 67,
   "metadata": {},
   "outputs": [
    {
     "name": "stdout",
     "output_type": "stream",
     "text": [
      "paddle\n",
      "cuirass\n",
      "promontory\n",
      "comic_book\n",
      "Indian_elephant\n"
     ]
    }
   ],
   "source": [
    "num = 5\n",
    "for i in range(num):\n",
    "    print(labels[str(df_diff.sort_values().head(5).index[i])][1])"
   ]
  },
  {
   "cell_type": "code",
   "execution_count": 68,
   "metadata": {},
   "outputs": [
    {
     "name": "stdout",
     "output_type": "stream",
     "text": [
      "forklift\n",
      "Christmas_stocking\n",
      "mantis\n",
      "water_ouzel\n",
      "African_elephant\n"
     ]
    }
   ],
   "source": [
    "num = 5\n",
    "for i in range(num):\n",
    "    print(labels[str(df_diff.sort_values().tail(5).index[i])][1])"
   ]
  },
  {
   "cell_type": "code",
   "execution_count": null,
   "metadata": {},
   "outputs": [],
   "source": []
  }
 ],
 "metadata": {
  "interpreter": {
   "hash": "ede4499f868e22dd0c1440ea31653c8ba2b55f4555af4839dd996b836d3f3eca"
  },
  "kernelspec": {
   "display_name": "Python 3 (ipykernel)",
   "language": "python",
   "name": "python3"
  },
  "language_info": {
   "codemirror_mode": {
    "name": "ipython",
    "version": 3
   },
   "file_extension": ".py",
   "mimetype": "text/x-python",
   "name": "python",
   "nbconvert_exporter": "python",
   "pygments_lexer": "ipython3",
   "version": "3.7.13"
  }
 },
 "nbformat": 4,
 "nbformat_minor": 2
}
